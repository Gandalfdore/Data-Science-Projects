{
 "cells": [
  {
   "cell_type": "markdown",
   "id": "971d02a8-3902-4bbe-8bc6-8e1a9f99fb98",
   "metadata": {},
   "source": [
    "<h1 align=center><font size = 6><b>The good, the bad and the data wine</b></font></h1>"
   ]
  },
  {
   "cell_type": "markdown",
   "id": "da85d5c9-50be-4beb-b60d-d0cb4c463a19",
   "metadata": {},
   "source": [
    "<h3 align=center><font size = 3><b>A project by Boris Y. Nedyalkov</b></font></h3>\n",
    "<h3 align=center><font size = 3>With data from https://archive.ics.uci.edu/ml/datasets/wine+quality</font></h3>"
   ]
  },
  {
   "cell_type": "markdown",
   "id": "77062374-861d-47a1-bdb4-264c5c5d5e56",
   "metadata": {},
   "source": [
    "<center> <img src=\"https://t3.gstatic.com/licensed-image?q=tbn:ANd9GcQUeapVVwUmTQ7Zjx4lvffOfrgGENEh9-rSPwDbov6J_Z9l2yJWxSemTPhUkGLX5vAw\" width=700, height=700 /></center> "
   ]
  },
  {
   "cell_type": "code",
   "execution_count": 1,
   "id": "487e664e-714a-47c1-bc07-cf1afbfc837c",
   "metadata": {},
   "outputs": [],
   "source": [
    "import pandas as pd\n",
    "import matplotlib.pyplot as plt\n",
    "import seaborn as sns\n",
    "from sklearn import preprocessing\n",
    "from sklearn.model_selection import GridSearchCV\n",
    "from sklearn.svm import SVC"
   ]
  },
  {
   "cell_type": "code",
   "execution_count": 2,
   "id": "38289499-97b9-489d-8f97-4e257f35f38d",
   "metadata": {},
   "outputs": [],
   "source": [
    "def plot_confusion_matrix(y,y_predict):\n",
    "    \"this function plots the confusion matrix\"\n",
    "    from sklearn.metrics import confusion_matrix\n",
    "\n",
    "    cm = confusion_matrix(y, y_predict)\n",
    "    ax= plt.subplot()\n",
    "    sns.heatmap(cm, annot=True, ax = ax); #annot=True to annotate cells\n",
    "    ax.set_xlabel('Predicted labels')\n",
    "    ax.set_ylabel('True labels')\n",
    "    ax.set_title('Confusion Matrix'); \n",
    "    #ax.xaxis.set_ticklabels(['did not land', 'land']); ax.yaxis.set_ticklabels(['did not land', 'landed']) \n",
    "    plt.show() "
   ]
  },
  {
   "cell_type": "code",
   "execution_count": 3,
   "id": "58a9de4f-c069-4d08-af8f-9cd6ed6955b3",
   "metadata": {},
   "outputs": [],
   "source": [
    "df = pd.read_csv(\"winequality-red.csv\")# get the lables out"
   ]
  },
  {
   "cell_type": "code",
   "execution_count": 4,
   "id": "c78c0f25-07c6-4171-9d7d-3393adf33f6e",
   "metadata": {},
   "outputs": [],
   "source": [
    "map_set = {3,4,5,6} # some set - a tuple, list, etc.\n",
    "df['quality01'] = df['quality'].apply(lambda x: '0' if x in map_set else '1')"
   ]
  },
  {
   "cell_type": "code",
   "execution_count": 5,
   "id": "36b80a5f-3129-45a1-9065-63cb6e777001",
   "metadata": {},
   "outputs": [
    {
     "data": {
      "text/plain": [
       "0    1382\n",
       "1     217\n",
       "Name: quality01, dtype: int64"
      ]
     },
     "execution_count": 5,
     "metadata": {},
     "output_type": "execute_result"
    }
   ],
   "source": [
    "df['quality01'].value_counts()"
   ]
  },
  {
   "cell_type": "code",
   "execution_count": 19,
   "id": "97fa4392-6c00-459b-8d79-9a2619de9dee",
   "metadata": {},
   "outputs": [],
   "source": [
    "y = df['quality01'].values.astype(int)\n",
    "X = df.drop(['quality','quality01'], axis=1)\n",
    "#X = df[['citric acid','volatile acidity','chlorides','sulphates','alcohol']]\n",
    "X = X.values"
   ]
  },
  {
   "cell_type": "code",
   "execution_count": 20,
   "id": "ec048d3f-6557-4e2b-9039-8e664c9cfdf5",
   "metadata": {},
   "outputs": [
    {
     "data": {
      "text/plain": [
       "array([0, 0, 0, ..., 0, 0, 0])"
      ]
     },
     "execution_count": 20,
     "metadata": {},
     "output_type": "execute_result"
    }
   ],
   "source": [
    "y"
   ]
  },
  {
   "cell_type": "code",
   "execution_count": 21,
   "id": "54bb2494-a2b6-4c91-92b1-8ee64f5342db",
   "metadata": {},
   "outputs": [
    {
     "data": {
      "text/plain": [
       "array([[ 7.4  ,  0.7  ,  0.   , ...,  3.51 ,  0.56 ,  9.4  ],\n",
       "       [ 7.8  ,  0.88 ,  0.   , ...,  3.2  ,  0.68 ,  9.8  ],\n",
       "       [ 7.8  ,  0.76 ,  0.04 , ...,  3.26 ,  0.65 ,  9.8  ],\n",
       "       ...,\n",
       "       [ 6.3  ,  0.51 ,  0.13 , ...,  3.42 ,  0.75 , 11.   ],\n",
       "       [ 5.9  ,  0.645,  0.12 , ...,  3.57 ,  0.71 , 10.2  ],\n",
       "       [ 6.   ,  0.31 ,  0.47 , ...,  3.39 ,  0.66 , 11.   ]])"
      ]
     },
     "execution_count": 21,
     "metadata": {},
     "output_type": "execute_result"
    }
   ],
   "source": [
    "X"
   ]
  },
  {
   "cell_type": "code",
   "execution_count": 22,
   "id": "c3dab917-6f0a-44c3-87ab-d1f4613aca2b",
   "metadata": {},
   "outputs": [],
   "source": [
    "# standardize features \n",
    "X = preprocessing.StandardScaler().fit(X).transform(X.astype(float))\n",
    "\n",
    "# normalize the data\n",
    "X = preprocessing.normalize(X, norm=\"l1\") # if normalization is needed"
   ]
  },
  {
   "cell_type": "code",
   "execution_count": 23,
   "id": "a6f3aa0e-c12a-4c58-a0ee-16327018607a",
   "metadata": {},
   "outputs": [
    {
     "data": {
      "text/plain": [
       "array([[-0.06764883,  0.12315444, -0.17815796, ...,  0.16499215,\n",
       "        -0.07415904, -0.12294567],\n",
       "       [-0.04337035,  0.28581274, -0.20214086, ..., -0.10458558,\n",
       "         0.01873278, -0.08495128],\n",
       "       [-0.06696163,  0.2909206 , -0.26602542, ..., -0.07428007,\n",
       "        -0.01078591, -0.13116049],\n",
       "       ...,\n",
       "       [-0.18801575, -0.01613117, -0.11729949, ...,  0.1143167 ,\n",
       "         0.08782956,  0.08776279],\n",
       "       [-0.17478041,  0.08230363, -0.09747216, ...,  0.21089485,\n",
       "         0.03847124, -0.02631573],\n",
       "       [-0.19517451, -0.17820781,  0.14967202, ...,  0.07485502,\n",
       "         0.00159986,  0.0793218 ]])"
      ]
     },
     "execution_count": 23,
     "metadata": {},
     "output_type": "execute_result"
    }
   ],
   "source": [
    "X"
   ]
  },
  {
   "cell_type": "code",
   "execution_count": 24,
   "id": "c8b3267e-0743-4f9b-bccd-96184a217775",
   "metadata": {},
   "outputs": [
    {
     "name": "stdout",
     "output_type": "stream",
     "text": [
      "Train set: (1119, 11) (1119,)\n",
      "Test set: (480, 11) (480,)\n"
     ]
    }
   ],
   "source": [
    "from sklearn.model_selection import train_test_split\n",
    "# from sklearn.model_selection import StratifiedShuffleSplit\n",
    "\n",
    "X_train, X_test, y_train, y_test = train_test_split(X, y, test_size=0.3, random_state=4, shuffle=True, stratify = y)\n",
    "print ('Train set:', X_train.shape,  y_train.shape)\n",
    "print ('Test set:', X_test.shape,  y_test.shape)"
   ]
  },
  {
   "cell_type": "markdown",
   "id": "41987718-9d1d-49c5-897a-e87e610cd172",
   "metadata": {},
   "source": [
    "## 1. K nearest neighbours"
   ]
  },
  {
   "cell_type": "code",
   "execution_count": 54,
   "id": "6887f2c9-4b83-46d7-9534-685c16a47ef4",
   "metadata": {},
   "outputs": [],
   "source": [
    "from sklearn.neighbors import KNeighborsClassifier"
   ]
  },
  {
   "cell_type": "code",
   "execution_count": 55,
   "id": "e67aceef-6e2d-41cf-ae25-644290eb0818",
   "metadata": {},
   "outputs": [],
   "source": [
    "parameters = {'n_neighbors': [1, 2, 3, 4, 5, 6, 7, 8, 9],\n",
    "              'weights' : ['uniform','distance'],\n",
    "              'metric' : ['minkowski','euclidean','manhattan'],\n",
    "              'algorithm': ['auto', 'ball_tree', 'kd_tree', 'brute'],\n",
    "              'p': [1,2,3]}\n",
    "\n",
    "KNN = KNeighborsClassifier()"
   ]
  },
  {
   "cell_type": "code",
   "execution_count": 56,
   "id": "58ac46f0-aad2-49fe-b48b-2151b6360102",
   "metadata": {},
   "outputs": [],
   "source": [
    "knn_cv = GridSearchCV(KNN, parameters, cv=3)\n",
    "\n",
    "knn_cv.fit(X_train, y_train)\n",
    "predictions = knn_cv.predict(X_test)"
   ]
  },
  {
   "cell_type": "code",
   "execution_count": 57,
   "id": "cb70c776-0613-4469-9ac6-782395ce181e",
   "metadata": {},
   "outputs": [
    {
     "name": "stdout",
     "output_type": "stream",
     "text": [
      "tuned hpyerparameters :(best parameters)  {'algorithm': 'auto', 'metric': 'minkowski', 'n_neighbors': 8, 'p': 3, 'weights': 'distance'}\n",
      "accuracy : 0.899910634495085\n"
     ]
    }
   ],
   "source": [
    "print(\"tuned hpyerparameters :(best parameters) \",knn_cv.best_params_)\n",
    "print(\"accuracy :\",knn_cv.best_score_)"
   ]
  },
  {
   "cell_type": "code",
   "execution_count": 58,
   "id": "e1d89878-8dbb-4504-8bea-b57544a06164",
   "metadata": {},
   "outputs": [
    {
     "name": "stdout",
     "output_type": "stream",
     "text": [
      "KNN's Train Accuracy:  1.0\n",
      "KNN's Test Accuracy:  0.8958333333333334\n"
     ]
    }
   ],
   "source": [
    "print(\"KNN's Train Accuracy: \", knn_cv.score(X_train, y_train))\n",
    "print(\"KNN's Test Accuracy: \", knn_cv.score(X_test, y_test))"
   ]
  },
  {
   "cell_type": "code",
   "execution_count": 59,
   "id": "f2263c9a-38b9-4c58-a73d-746edd6b4907",
   "metadata": {},
   "outputs": [
    {
     "data": {
      "image/png": "[encoded data removed]",
      "text/plain": [
       "<Figure size 640x480 with 2 Axes>"
      ]
     },
     "metadata": {},
     "output_type": "display_data"
    }
   ],
   "source": [
    "yhat = knn_cv.predict(X_test)\n",
    "plot_confusion_matrix(y_test,yhat)"
   ]
  },
  {
   "cell_type": "code",
   "execution_count": 60,
   "id": "5a65e7d7-afa1-459f-b160-657bfc1df2ad",
   "metadata": {},
   "outputs": [
    {
     "name": "stdout",
     "output_type": "stream",
     "text": [
      "              precision    recall  f1-score   support\n",
      "\n",
      "           0       0.92      0.96      0.94       415\n",
      "           1       0.67      0.46      0.55        65\n",
      "\n",
      "    accuracy                           0.90       480\n",
      "   macro avg       0.79      0.71      0.74       480\n",
      "weighted avg       0.89      0.90      0.89       480\n",
      "\n"
     ]
    }
   ],
   "source": [
    "from sklearn.metrics import classification_report\n",
    "print(classification_report(y_test, yhat))"
   ]
  },
  {
   "cell_type": "markdown",
   "id": "b8fd96fc-6632-426c-9b09-c7d72526f8f6",
   "metadata": {},
   "source": [
    "## 2. SVM"
   ]
  },
  {
   "cell_type": "code",
   "execution_count": 12,
   "id": "17fab9b8-3ca0-41aa-a574-e917ea573d79",
   "metadata": {},
   "outputs": [],
   "source": [
    "from sklearn import svm\n",
    "from sklearn.metrics import classification_report\n",
    "import numpy as np"
   ]
  },
  {
   "cell_type": "code",
   "execution_count": 49,
   "id": "acb8b6b7-3ce8-47fa-87bf-570704693676",
   "metadata": {},
   "outputs": [],
   "source": [
    "parameters = {'C': [0.1,0.5,1,10,100],\n",
    "              'gamma':[1,10,20,100]}\n",
    "\n",
    "# parameters = {'C': [0.01,1,100,1000],\n",
    "#               'gamma':[0, 0.25, 0.5, 1]}\n",
    "\n",
    "svm = SVC(class_weight='balanced',kernel='rbf')"
   ]
  },
  {
   "cell_type": "code",
   "execution_count": 50,
   "id": "1484ec2f-022d-48a7-80dc-5ecc1063663b",
   "metadata": {},
   "outputs": [],
   "source": [
    "svm_cv = GridSearchCV(svm, parameters, cv=4, scoring=\"roc_auc\")\n",
    "\n",
    "svm_cv.fit(X_train, y_train)\n",
    "predictions = svm_cv.predict(X_test) "
   ]
  },
  {
   "cell_type": "code",
   "execution_count": 51,
   "id": "3e202832-4332-492a-a804-48bbe0f0226c",
   "metadata": {},
   "outputs": [
    {
     "name": "stdout",
     "output_type": "stream",
     "text": [
      "tuned hpyerparameters :(best parameters)  {'C': 0.5, 'gamma': 20}\n",
      "accuracy : 0.8915547577063093\n"
     ]
    }
   ],
   "source": [
    "print(\"tuned hpyerparameters :(best parameters) \",svm_cv.best_params_)\n",
    "print(\"accuracy :\",svm_cv.best_score_)"
   ]
  },
  {
   "cell_type": "code",
   "execution_count": 52,
   "id": "853d25f7-b785-4f16-9c7e-78ce974ad9c8",
   "metadata": {},
   "outputs": [
    {
     "name": "stdout",
     "output_type": "stream",
     "text": [
      "SVM's Train Accuracy:  0.9727249224405378\n",
      "SVM's Test Accuracy:  0.8972381835032438\n"
     ]
    }
   ],
   "source": [
    "print(\"SVM's Train Accuracy: \", svm_cv.score(X_train, y_train))\n",
    "print(\"SVM's Test Accuracy: \", svm_cv.score(X_test, y_test))"
   ]
  },
  {
   "cell_type": "code",
   "execution_count": 53,
   "id": "875f4cdc-47cf-4df3-89b5-5ac34b9545ed",
   "metadata": {},
   "outputs": [
    {
     "data": {
      "image/png": "[encoded data removed]",
      "text/plain": [
       "<Figure size 640x480 with 2 Axes>"
      ]
     },
     "metadata": {},
     "output_type": "display_data"
    }
   ],
   "source": [
    "yhat=svm_cv.predict(X_test)\n",
    "plot_confusion_matrix(y_test,yhat)"
   ]
  },
  {
   "cell_type": "code",
   "execution_count": 48,
   "id": "4f376c7d-befe-4e65-b993-cc0e87b673f8",
   "metadata": {},
   "outputs": [
    {
     "name": "stdout",
     "output_type": "stream",
     "text": [
      "              precision    recall  f1-score   support\n",
      "\n",
      "           0       0.95      0.89      0.92       415\n",
      "           1       0.48      0.68      0.56        65\n",
      "\n",
      "    accuracy                           0.86       480\n",
      "   macro avg       0.71      0.78      0.74       480\n",
      "weighted avg       0.88      0.86      0.87       480\n",
      "\n"
     ]
    }
   ],
   "source": [
    "print(classification_report(y_test, yhat))"
   ]
  },
  {
   "cell_type": "markdown",
   "id": "42927ea3-4421-4ec2-a745-b5836d446dd1",
   "metadata": {},
   "source": [
    "## 3. XGBoost"
   ]
  },
  {
   "cell_type": "code",
   "execution_count": 137,
   "id": "26c07b2e-168e-4e84-bcc2-a81aee310033",
   "metadata": {},
   "outputs": [],
   "source": [
    "import xgboost as xgb"
   ]
  },
  {
   "cell_type": "code",
   "execution_count": 149,
   "id": "9f4d758b-330c-4c71-963a-431959d771dd",
   "metadata": {},
   "outputs": [],
   "source": [
    "xgb_cl = xgb.XGBClassifier()\n",
    "\n",
    "xgb_cl.fit(X_train, y_train)\n",
    "\n",
    "yhat = xgb_cl.predict(X_test)"
   ]
  },
  {
   "cell_type": "code",
   "execution_count": 150,
   "id": "53f04acb-eea1-4eea-b02e-da0b40521a36",
   "metadata": {},
   "outputs": [
    {
     "name": "stdout",
     "output_type": "stream",
     "text": [
      "XGB's Train Accuracy:  1.0\n",
      "XGB's Test Accuracy:  0.8958333333333334\n"
     ]
    }
   ],
   "source": [
    "print(\"XGB's Train Accuracy: \", xgb_cl.score(X_train, y_train))\n",
    "print(\"XGB's Test Accuracy: \", xgb_cl.score(X_test, y_test))"
   ]
  },
  {
   "cell_type": "code",
   "execution_count": 151,
   "id": "5e87fa11-9409-4976-bb6c-6ef04d083479",
   "metadata": {},
   "outputs": [
    {
     "data": {
      "image/png": "[encoded data removed]",
      "text/plain": [
       "<Figure size 640x480 with 2 Axes>"
      ]
     },
     "metadata": {},
     "output_type": "display_data"
    }
   ],
   "source": [
    "plot_confusion_matrix(y_test,yhat)"
   ]
  },
  {
   "cell_type": "markdown",
   "id": "497bb0c5-2ad5-4b97-9302-88fe2a6fd764",
   "metadata": {},
   "source": [
    "### Tuning with hyperparameters"
   ]
  },
  {
   "cell_type": "code",
   "execution_count": 160,
   "id": "9bbe3f20-060a-444a-af7d-ced85e244b31",
   "metadata": {},
   "outputs": [],
   "source": [
    "param_grid = {\n",
    "    \"max_depth\": [3, 4, 5, 7],\n",
    "    \"learning_rate\": [0.1, 0.01, 0.05],\n",
    "    \"gamma\": [0, 0.25, 0.5, 1],\n",
    "    \"reg_lambda\": [0, 1, 10],\n",
    "    \"scale_pos_weight\": [1, 3, 5],\n",
    "    \"subsample\": [0.5, 0.7, 0.8],\n",
    "    \"colsample_bytree\": [0.5, 0.7, 0.9],\n",
    "}"
   ]
  },
  {
   "cell_type": "code",
   "execution_count": 161,
   "id": "a014ddb9-cf64-4cad-abcc-67926a1c2f45",
   "metadata": {},
   "outputs": [],
   "source": [
    "xgb_cl = xgb.XGBClassifier(objective=\"binary:logistic\")\n",
    "\n",
    "# Init Grid Search\n",
    "grid_cv = GridSearchCV(xgb_cl, param_grid, n_jobs=-1, cv=3, scoring=\"roc_auc\")\n",
    "\n",
    "# Fit\n",
    "grid_cv.fit(X_train, y_train)\n",
    "predictions = grid_cv.predict(X_test) "
   ]
  },
  {
   "cell_type": "code",
   "execution_count": 162,
   "id": "4257f0a0-620d-4621-ae22-d35176c3d372",
   "metadata": {},
   "outputs": [
    {
     "name": "stdout",
     "output_type": "stream",
     "text": [
      "tuned hpyerparameters :(best parameters)  {'colsample_bytree': 0.5, 'gamma': 0.25, 'learning_rate': 0.05, 'max_depth': 7, 'reg_lambda': 0, 'scale_pos_weight': 5, 'subsample': 0.8}\n",
      "accuracy : 0.9073224407993555\n"
     ]
    }
   ],
   "source": [
    "print(\"tuned hpyerparameters :(best parameters) \",grid_cv.best_params_)\n",
    "print(\"accuracy :\",grid_cv.best_score_)"
   ]
  },
  {
   "cell_type": "code",
   "execution_count": 163,
   "id": "b1140ceb-3a4c-417f-a069-48c52db05317",
   "metadata": {},
   "outputs": [
    {
     "name": "stdout",
     "output_type": "stream",
     "text": [
      "SVM's Train Accuracy:  1.0\n",
      "SVM's Test Accuracy:  0.9062094531974051\n"
     ]
    }
   ],
   "source": [
    "print(\"SVM's Train Accuracy: \", grid_cv.score(X_train, y_train))\n",
    "print(\"SVM's Test Accuracy: \", grid_cv.score(X_test, y_test))"
   ]
  },
  {
   "cell_type": "code",
   "execution_count": 164,
   "id": "c70501f3-7ee9-4725-855a-e5b8a9ffc851",
   "metadata": {},
   "outputs": [
    {
     "data": {
      "image/png": "[encoded data removed]",
      "text/plain": [
       "<Figure size 640x480 with 2 Axes>"
      ]
     },
     "metadata": {},
     "output_type": "display_data"
    }
   ],
   "source": [
    "plot_confusion_matrix(y_test,yhat)"
   ]
  },
  {
   "cell_type": "code",
   "execution_count": 165,
   "id": "ccd28f8a-0535-4739-bfdb-001a04bbdbd8",
   "metadata": {},
   "outputs": [
    {
     "name": "stdout",
     "output_type": "stream",
     "text": [
      "              precision    recall  f1-score   support\n",
      "\n",
      "           0       0.92      0.96      0.94       415\n",
      "           1       0.67      0.46      0.55        65\n",
      "\n",
      "    accuracy                           0.90       480\n",
      "   macro avg       0.79      0.71      0.74       480\n",
      "weighted avg       0.89      0.90      0.89       480\n",
      "\n"
     ]
    }
   ],
   "source": [
    "print(classification_report(y_test, yhat))"
   ]
  },
  {
   "cell_type": "code",
   "execution_count": null,
   "id": "dbb2c5b1-8bec-4eb8-b663-0445c87e66b0",
   "metadata": {},
   "outputs": [],
   "source": []
  }
 ],
 "metadata": {
  "kernelspec": {
   "display_name": "Python 3 (ipykernel)",
   "language": "python",
   "name": "python3"
  },
  "language_info": {
   "codemirror_mode": {
    "name": "ipython",
    "version": 3
   },
   "file_extension": ".py",
   "mimetype": "text/x-python",
   "name": "python",
   "nbconvert_exporter": "python",
   "pygments_lexer": "ipython3",
   "version": "3.10.8"
  }
 },
 "nbformat": 4,
 "nbformat_minor": 5
}
