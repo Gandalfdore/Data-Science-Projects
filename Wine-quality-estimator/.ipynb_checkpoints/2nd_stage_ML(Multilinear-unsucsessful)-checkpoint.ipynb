{
 "cells": [
  {
   "cell_type": "markdown",
   "id": "c9d89a92-5c74-41b9-ae88-50da3a89aa9d",
   "metadata": {},
   "source": [
    "<h1 align=center><font size = 6><b>The good, the bad and the data wine</b></font></h1>"
   ]
  },
  {
   "cell_type": "markdown",
   "id": "1762cbc1-1eb8-444b-8897-884d9f3c7804",
   "metadata": {},
   "source": [
    "<h3 align=center><font size = 3><b>A project by Boris Y. Nedyalkov</b></font></h3>\n",
    "<h3 align=center><font size = 3>With data from https://archive.ics.uci.edu/ml/datasets/wine+quality</font></h3>"
   ]
  },
  {
   "cell_type": "markdown",
   "id": "e3f6b308-6d01-48c2-96bc-f0810aa4048c",
   "metadata": {},
   "source": [
    "<center> <img src=\"https://t3.gstatic.com/licensed-image?q=tbn:ANd9GcQUeapVVwUmTQ7Zjx4lvffOfrgGENEh9-rSPwDbov6J_Z9l2yJWxSemTPhUkGLX5vAw\" width=700, height=700 /></center> "
   ]
  },
  {
   "cell_type": "code",
   "execution_count": null,
   "id": "932bfb7b-912f-461f-a12e-6a9df7b424c2",
   "metadata": {},
   "outputs": [],
   "source": []
  },
  {
   "cell_type": "code",
   "execution_count": 59,
   "id": "3fea7caf-e5b9-4cdd-bc38-50f36f880c5e",
   "metadata": {},
   "outputs": [],
   "source": [
    "import pandas as pd\n",
    "import matplotlib.pyplot as plt\n",
    "import seaborn as sns\n",
    "from sklearn import preprocessing\n",
    "from sklearn.model_selection import GridSearchCV\n",
    "from sklearn.svm import SVC\n",
    "from sklearn.tree import DecisionTreeClassifier\n",
    "from sklearn.neighbors import KNeighborsClassifier"
   ]
  },
  {
   "cell_type": "code",
   "execution_count": 55,
   "id": "3936219a-a2ed-4005-81a1-704356fabd10",
   "metadata": {},
   "outputs": [],
   "source": [
    "def plot_confusion_matrix(y,y_predict):\n",
    "    \"this function plots the confusion matrix\"\n",
    "    from sklearn.metrics import confusion_matrix\n",
    "\n",
    "    cm = confusion_matrix(y, y_predict)\n",
    "    ax= plt.subplot()\n",
    "    sns.heatmap(cm, annot=True, ax = ax); #annot=True to annotate cells\n",
    "    ax.set_xlabel('Predicted labels')\n",
    "    ax.set_ylabel('True labels')\n",
    "    ax.set_title('Confusion Matrix'); \n",
    "    ax.xaxis.set_ticklabels(['did not land', 'land']); ax.yaxis.set_ticklabels(['did not land', 'landed']) \n",
    "    plt.show() "
   ]
  },
  {
   "cell_type": "code",
   "execution_count": 33,
   "id": "f615c44c-8538-4f19-bf84-85f01941cb78",
   "metadata": {},
   "outputs": [],
   "source": [
    "df = pd.read_csv(\"winequality-red.csv\")"
   ]
  },
  {
   "cell_type": "code",
   "execution_count": 34,
   "id": "e076622f-6010-4bc9-8368-7005ed79b56b",
   "metadata": {},
   "outputs": [],
   "source": [
    "# get the lables out\n",
    "y = df['quality'].values\n",
    "X = df.drop(['quality'], axis=1)\n",
    "X = X.values"
   ]
  },
  {
   "cell_type": "code",
   "execution_count": 35,
   "id": "5587d668-746a-4462-a6d1-79dcd2039d14",
   "metadata": {},
   "outputs": [
    {
     "data": {
      "text/plain": [
       "array([5, 5, 5, ..., 6, 5, 6], dtype=int64)"
      ]
     },
     "execution_count": 35,
     "metadata": {},
     "output_type": "execute_result"
    }
   ],
   "source": [
    "y"
   ]
  },
  {
   "cell_type": "code",
   "execution_count": 36,
   "id": "47b32d8a-40d7-4104-9f27-b5d5b092fa7e",
   "metadata": {},
   "outputs": [
    {
     "data": {
      "text/plain": [
       "array([[ 7.4  ,  0.7  ,  0.   , ...,  3.51 ,  0.56 ,  9.4  ],\n",
       "       [ 7.8  ,  0.88 ,  0.   , ...,  3.2  ,  0.68 ,  9.8  ],\n",
       "       [ 7.8  ,  0.76 ,  0.04 , ...,  3.26 ,  0.65 ,  9.8  ],\n",
       "       ...,\n",
       "       [ 6.3  ,  0.51 ,  0.13 , ...,  3.42 ,  0.75 , 11.   ],\n",
       "       [ 5.9  ,  0.645,  0.12 , ...,  3.57 ,  0.71 , 10.2  ],\n",
       "       [ 6.   ,  0.31 ,  0.47 , ...,  3.39 ,  0.66 , 11.   ]])"
      ]
     },
     "execution_count": 36,
     "metadata": {},
     "output_type": "execute_result"
    }
   ],
   "source": [
    "X"
   ]
  },
  {
   "cell_type": "code",
   "execution_count": 37,
   "id": "3326e8ff-7a3b-445b-aabe-fc6a670f5fed",
   "metadata": {},
   "outputs": [],
   "source": [
    "# standardize features \n",
    "X = preprocessing.StandardScaler().fit(X).transform(X.astype(float))\n",
    "\n",
    "# normalize the data\n",
    "X = preprocessing.normalize(X, norm=\"l1\") # if normalization is needed"
   ]
  },
  {
   "cell_type": "code",
   "execution_count": 38,
   "id": "3da2035d-2a1d-4f9e-b8fd-4fbc889e9c74",
   "metadata": {},
   "outputs": [
    {
     "data": {
      "text/plain": [
       "array([[-0.06764883,  0.12315444, -0.17815796, ...,  0.16499215,\n",
       "        -0.07415904, -0.12294567],\n",
       "       [-0.04337035,  0.28581274, -0.20214086, ..., -0.10458558,\n",
       "         0.01873278, -0.08495128],\n",
       "       [-0.06696163,  0.2909206 , -0.26602542, ..., -0.07428007,\n",
       "        -0.01078591, -0.13116049],\n",
       "       ...,\n",
       "       [-0.18801575, -0.01613117, -0.11729949, ...,  0.1143167 ,\n",
       "         0.08782956,  0.08776279],\n",
       "       [-0.17478041,  0.08230363, -0.09747216, ...,  0.21089485,\n",
       "         0.03847124, -0.02631573],\n",
       "       [-0.19517451, -0.17820781,  0.14967202, ...,  0.07485502,\n",
       "         0.00159986,  0.0793218 ]])"
      ]
     },
     "execution_count": 38,
     "metadata": {},
     "output_type": "execute_result"
    }
   ],
   "source": [
    "X"
   ]
  },
  {
   "cell_type": "code",
   "execution_count": 39,
   "id": "c089cfc4-f35d-43b8-858c-7c8fce422be6",
   "metadata": {},
   "outputs": [
    {
     "name": "stdout",
     "output_type": "stream",
     "text": [
      "Train set: (1279, 11) (1279,)\n",
      "Test set: (320, 11) (320,)\n"
     ]
    }
   ],
   "source": [
    "from sklearn.model_selection import train_test_split\n",
    "from sklearn.model_selection import StratifiedShuffleSplit\n",
    "\n",
    "X_train, X_test, y_train, y_test = train_test_split(X, y, test_size=0.2, random_state=4, shuffle=True, stratify = y)\n",
    "print ('Train set:', X_train.shape,  y_train.shape)\n",
    "print ('Test set:', X_test.shape,  y_test.shape)"
   ]
  },
  {
   "cell_type": "markdown",
   "id": "ff56bb5a-2e97-417b-bfeb-e4ef02d0fdfe",
   "metadata": {},
   "source": [
    "## 1st - K nearest neighbours"
   ]
  },
  {
   "cell_type": "code",
   "execution_count": 46,
   "id": "61590214-a502-46b9-b517-78117b7a4ac2",
   "metadata": {},
   "outputs": [],
   "source": [
    "parameters = {'n_neighbors': [1, 2, 3, 4, 5, 6, 7, 8, 9, 10],\n",
    "              'algorithm': ['auto', 'ball_tree', 'kd_tree', 'brute'],\n",
    "              'p': [1,2]}\n",
    "\n",
    "KNN = KNeighborsClassifier()"
   ]
  },
  {
   "cell_type": "code",
   "execution_count": 47,
   "id": "9e4023e1-caa5-41f6-b7d5-63c2be875da8",
   "metadata": {},
   "outputs": [
    {
     "name": "stderr",
     "output_type": "stream",
     "text": [
      "C:\\Users\\Smelly_Giraffe\\AppData\\Roaming\\Python\\Python310\\site-packages\\sklearn\\model_selection\\_split.py:700: UserWarning: The least populated class in y has only 8 members, which is less than n_splits=10.\n",
      "  warnings.warn(\n"
     ]
    }
   ],
   "source": [
    "knn_cv = GridSearchCV(KNN, parameters, cv=10)\n",
    "\n",
    "knn_cv.fit(X_train, y_train)\n",
    "predictions = knn_cv.predict(X_test)"
   ]
  },
  {
   "cell_type": "code",
   "execution_count": 48,
   "id": "26bdaaaf-f878-4edd-91b6-c07383a0991e",
   "metadata": {},
   "outputs": [
    {
     "name": "stdout",
     "output_type": "stream",
     "text": [
      "tuned hpyerparameters :(best parameters)  {'algorithm': 'auto', 'n_neighbors': 1, 'p': 2}\n",
      "accuracy : 0.5957923228346457\n"
     ]
    }
   ],
   "source": [
    "print(\"tuned hpyerparameters :(best parameters) \",knn_cv.best_params_)\n",
    "print(\"accuracy :\",knn_cv.best_score_)"
   ]
  },
  {
   "cell_type": "code",
   "execution_count": 51,
   "id": "a6f678e0-b378-4186-9408-9ccc0ec4c535",
   "metadata": {},
   "outputs": [
    {
     "name": "stdout",
     "output_type": "stream",
     "text": [
      "KNN's Train Accuracy:  1.0\n",
      "KNN's Test Accuracy:  0.64375\n"
     ]
    }
   ],
   "source": [
    "print(\"KNN's Train Accuracy: \", knn_cv.score(X_train, y_train))\n",
    "print(\"KNN's Test Accuracy: \", knn_cv.score(X_test, y_test))"
   ]
  },
  {
   "cell_type": "code",
   "execution_count": null,
   "id": "95e49423-dc03-4a56-b04c-41c04184a560",
   "metadata": {},
   "outputs": [],
   "source": [
    "yhat = knn_cv.predict(X_test)\n",
    "plot_confusion_matrix(y_test,yhat)"
   ]
  },
  {
   "cell_type": "markdown",
   "id": "9ac245e0-73e4-4f92-8f33-d3c6b0eeaae0",
   "metadata": {},
   "source": [
    "## 2nd XGBooster"
   ]
  },
  {
   "cell_type": "code",
   "execution_count": 61,
   "id": "18244200-9efd-41e4-97d3-2e6b5aa0f733",
   "metadata": {},
   "outputs": [
    {
     "ename": "ModuleNotFoundError",
     "evalue": "No module named 'xgboost'",
     "output_type": "error",
     "traceback": [
      "\u001b[1;31m---------------------------------------------------------------------------\u001b[0m",
      "\u001b[1;31mModuleNotFoundError\u001b[0m                       Traceback (most recent call last)",
      "Cell \u001b[1;32mIn[61], line 4\u001b[0m\n\u001b[0;32m      1\u001b[0m \u001b[38;5;28;01mfrom\u001b[39;00m \u001b[38;5;21;01msklearn\u001b[39;00m\u001b[38;5;21;01m.\u001b[39;00m\u001b[38;5;21;01mmetrics\u001b[39;00m \u001b[38;5;28;01mimport\u001b[39;00m auc, accuracy_score, confusion_matrix, mean_squared_error\n\u001b[0;32m      2\u001b[0m \u001b[38;5;28;01mfrom\u001b[39;00m \u001b[38;5;21;01msklearn\u001b[39;00m\u001b[38;5;21;01m.\u001b[39;00m\u001b[38;5;21;01mmodel_selection\u001b[39;00m \u001b[38;5;28;01mimport\u001b[39;00m cross_val_score, GridSearchCV, KFold, RandomizedSearchCV, train_test_split\n\u001b[1;32m----> 4\u001b[0m \u001b[38;5;28;01mimport\u001b[39;00m \u001b[38;5;21;01mxgboost\u001b[39;00m \u001b[38;5;28;01mas\u001b[39;00m \u001b[38;5;21;01mxgb\u001b[39;00m\n",
      "\u001b[1;31mModuleNotFoundError\u001b[0m: No module named 'xgboost'"
     ]
    }
   ],
   "source": [
    "from sklearn.metrics import auc, accuracy_score, confusion_matrix, mean_squared_error\n",
    "from sklearn.model_selection import cross_val_score, GridSearchCV, KFold, RandomizedSearchCV, train_test_split\n",
    "\n",
    "import xgboost as xgb"
   ]
  },
  {
   "cell_type": "code",
   "execution_count": null,
   "id": "efb995db-02f8-4b90-8138-7006d7454f8f",
   "metadata": {},
   "outputs": [],
   "source": [
    "xgb_model = xgb.XGBRegressor(objective=\"reg:linear\", random_state=42)\n",
    "\n",
    "xgb_model.fit(X, y)\n",
    "\n",
    "y_pred = xgb_model.predict(X)\n",
    "\n",
    "mse=mean_squared_error(y, y_pred)\n",
    "\n",
    "print(np.sqrt(mse))"
   ]
  }
 ],
 "metadata": {
  "kernelspec": {
   "display_name": "Python 3 (ipykernel)",
   "language": "python",
   "name": "python3"
  },
  "language_info": {
   "codemirror_mode": {
    "name": "ipython",
    "version": 3
   },
   "file_extension": ".py",
   "mimetype": "text/x-python",
   "name": "python",
   "nbconvert_exporter": "python",
   "pygments_lexer": "ipython3",
   "version": "3.10.8"
  }
 },
 "nbformat": 4,
 "nbformat_minor": 5
}
