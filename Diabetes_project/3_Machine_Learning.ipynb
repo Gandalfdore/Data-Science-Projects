{
 "cells": [
  {
   "cell_type": "markdown",
   "id": "d63ec66d-5364-4445-8fca-32a3d7af2e1f",
   "metadata": {},
   "source": [
    "<h1 align=center><font size = 5><b>Diabetes prediction project</b></font></h1>"
   ]
  },
  {
   "cell_type": "markdown",
   "id": "fc798f6f-c20e-40ef-a409-168e7ba3bf48",
   "metadata": {},
   "source": [
    "<h3 align=center><font size = 3><b>A project by Boris Y. Nedyalkov</b></font></h3>\n",
    "<h3 align=center><font size = 3>With data from https://www.kaggle.com/datasets/akshaydattatraykhare/diabetes-dataset</font></h3>"
   ]
  },
  {
   "cell_type": "markdown",
   "id": "77592876-51fe-4a5a-b6ee-0553b231d573",
   "metadata": {},
   "source": [
    "<center> <img src=\"https://maldita.es/uploads/images/2021/11/618e89365f697edittowfiqu-barbhuiya-zjak9jqxeda-unsplash-jpg.jpg\" width=700, height=700 /></center> "
   ]
  },
  {
   "cell_type": "markdown",
   "id": "49a9f5d1-3a9e-4b23-a3b5-4a76c2abe5ad",
   "metadata": {},
   "source": [
    "Image source: https://maldita.es/malditaciencia/20221114/preguntas-respuestas-diabetes/"
   ]
  },
  {
   "cell_type": "markdown",
   "id": "60176db6-c7e5-49e0-981f-f1b26dad03ef",
   "metadata": {},
   "source": [
    "### Notes:\n",
    "\n",
    "* The data had many missing values, whcih were replaced by mean od KNN ML algorithm\n",
    "* The data most likely refers to diabetes type 2 patients due to the insulin levels seen in part 2 of the project"
   ]
  },
  {
   "cell_type": "code",
   "execution_count": 477,
   "id": "a328029b-bc2c-465d-b6e3-08f3825d92b5",
   "metadata": {},
   "outputs": [],
   "source": [
    "import pandas as pd\n",
    "import matplotlib.pyplot as plt\n",
    "import seaborn as sns\n",
    "import numpy as np\n",
    "from sklearn.model_selection import GridSearchCV\n",
    "from sklearn import preprocessing\n",
    "from sklearn.model_selection import train_test_split\n",
    "%matplotlib inline"
   ]
  },
  {
   "cell_type": "code",
   "execution_count": 478,
   "id": "e5dcf6c9-75a0-402c-8d8a-f647e3eaf5ce",
   "metadata": {},
   "outputs": [],
   "source": [
    "df = pd.read_csv(\"data_prepared_for_ML.csv\")"
   ]
  },
  {
   "cell_type": "code",
   "execution_count": 479,
   "id": "61456fc6-0192-40ed-a7f4-fc2f742175b2",
   "metadata": {},
   "outputs": [],
   "source": [
    "# df = df.drop(['BloodPressure','SkinThickness'],axis=1)"
   ]
  },
  {
   "cell_type": "code",
   "execution_count": 480,
   "id": "3b92bcdc-aace-4aee-88be-557b9a45198c",
   "metadata": {},
   "outputs": [
    {
     "data": {
      "text/html": [
       "<div>\n",
       "<style scoped>\n",
       "    .dataframe tbody tr th:only-of-type {\n",
       "        vertical-align: middle;\n",
       "    }\n",
       "\n",
       "    .dataframe tbody tr th {\n",
       "        vertical-align: top;\n",
       "    }\n",
       "\n",
       "    .dataframe thead th {\n",
       "        text-align: right;\n",
       "    }\n",
       "</style>\n",
       "<table border=\"1\" class=\"dataframe\">\n",
       "  <thead>\n",
       "    <tr style=\"text-align: right;\">\n",
       "      <th></th>\n",
       "      <th>Pregnancies</th>\n",
       "      <th>Glucose</th>\n",
       "      <th>BloodPressure</th>\n",
       "      <th>SkinThickness</th>\n",
       "      <th>Insulin</th>\n",
       "      <th>BMI</th>\n",
       "      <th>DiabetesPedigreeFunction</th>\n",
       "      <th>Age</th>\n",
       "      <th>Outcome</th>\n",
       "    </tr>\n",
       "  </thead>\n",
       "  <tbody>\n",
       "    <tr>\n",
       "      <th>0</th>\n",
       "      <td>6.0</td>\n",
       "      <td>148.0</td>\n",
       "      <td>72.0</td>\n",
       "      <td>35.0</td>\n",
       "      <td>334.2</td>\n",
       "      <td>33.6</td>\n",
       "      <td>0.627</td>\n",
       "      <td>50.0</td>\n",
       "      <td>1.0</td>\n",
       "    </tr>\n",
       "    <tr>\n",
       "      <th>1</th>\n",
       "      <td>1.0</td>\n",
       "      <td>85.0</td>\n",
       "      <td>66.0</td>\n",
       "      <td>29.0</td>\n",
       "      <td>56.2</td>\n",
       "      <td>26.6</td>\n",
       "      <td>0.351</td>\n",
       "      <td>31.0</td>\n",
       "      <td>0.0</td>\n",
       "    </tr>\n",
       "    <tr>\n",
       "      <th>2</th>\n",
       "      <td>8.0</td>\n",
       "      <td>183.0</td>\n",
       "      <td>64.0</td>\n",
       "      <td>32.2</td>\n",
       "      <td>238.0</td>\n",
       "      <td>23.3</td>\n",
       "      <td>0.672</td>\n",
       "      <td>32.0</td>\n",
       "      <td>1.0</td>\n",
       "    </tr>\n",
       "    <tr>\n",
       "      <th>3</th>\n",
       "      <td>1.0</td>\n",
       "      <td>89.0</td>\n",
       "      <td>66.0</td>\n",
       "      <td>23.0</td>\n",
       "      <td>94.0</td>\n",
       "      <td>28.1</td>\n",
       "      <td>0.167</td>\n",
       "      <td>21.0</td>\n",
       "      <td>0.0</td>\n",
       "    </tr>\n",
       "    <tr>\n",
       "      <th>4</th>\n",
       "      <td>0.0</td>\n",
       "      <td>137.0</td>\n",
       "      <td>40.0</td>\n",
       "      <td>35.0</td>\n",
       "      <td>168.0</td>\n",
       "      <td>43.1</td>\n",
       "      <td>2.288</td>\n",
       "      <td>33.0</td>\n",
       "      <td>1.0</td>\n",
       "    </tr>\n",
       "    <tr>\n",
       "      <th>...</th>\n",
       "      <td>...</td>\n",
       "      <td>...</td>\n",
       "      <td>...</td>\n",
       "      <td>...</td>\n",
       "      <td>...</td>\n",
       "      <td>...</td>\n",
       "      <td>...</td>\n",
       "      <td>...</td>\n",
       "      <td>...</td>\n",
       "    </tr>\n",
       "    <tr>\n",
       "      <th>763</th>\n",
       "      <td>10.0</td>\n",
       "      <td>101.0</td>\n",
       "      <td>76.0</td>\n",
       "      <td>48.0</td>\n",
       "      <td>180.0</td>\n",
       "      <td>32.9</td>\n",
       "      <td>0.171</td>\n",
       "      <td>63.0</td>\n",
       "      <td>0.0</td>\n",
       "    </tr>\n",
       "    <tr>\n",
       "      <th>764</th>\n",
       "      <td>2.0</td>\n",
       "      <td>122.0</td>\n",
       "      <td>70.0</td>\n",
       "      <td>27.0</td>\n",
       "      <td>150.0</td>\n",
       "      <td>36.8</td>\n",
       "      <td>0.340</td>\n",
       "      <td>27.0</td>\n",
       "      <td>0.0</td>\n",
       "    </tr>\n",
       "    <tr>\n",
       "      <th>765</th>\n",
       "      <td>5.0</td>\n",
       "      <td>121.0</td>\n",
       "      <td>72.0</td>\n",
       "      <td>23.0</td>\n",
       "      <td>112.0</td>\n",
       "      <td>26.2</td>\n",
       "      <td>0.245</td>\n",
       "      <td>30.0</td>\n",
       "      <td>0.0</td>\n",
       "    </tr>\n",
       "    <tr>\n",
       "      <th>766</th>\n",
       "      <td>1.0</td>\n",
       "      <td>126.0</td>\n",
       "      <td>60.0</td>\n",
       "      <td>26.4</td>\n",
       "      <td>122.4</td>\n",
       "      <td>30.1</td>\n",
       "      <td>0.349</td>\n",
       "      <td>47.0</td>\n",
       "      <td>1.0</td>\n",
       "    </tr>\n",
       "    <tr>\n",
       "      <th>767</th>\n",
       "      <td>1.0</td>\n",
       "      <td>93.0</td>\n",
       "      <td>70.0</td>\n",
       "      <td>31.0</td>\n",
       "      <td>72.4</td>\n",
       "      <td>30.4</td>\n",
       "      <td>0.315</td>\n",
       "      <td>23.0</td>\n",
       "      <td>0.0</td>\n",
       "    </tr>\n",
       "  </tbody>\n",
       "</table>\n",
       "<p>768 rows × 9 columns</p>\n",
       "</div>"
      ],
      "text/plain": [
       "     Pregnancies  Glucose  BloodPressure  SkinThickness  Insulin   BMI  \\\n",
       "0            6.0    148.0           72.0           35.0    334.2  33.6   \n",
       "1            1.0     85.0           66.0           29.0     56.2  26.6   \n",
       "2            8.0    183.0           64.0           32.2    238.0  23.3   \n",
       "3            1.0     89.0           66.0           23.0     94.0  28.1   \n",
       "4            0.0    137.0           40.0           35.0    168.0  43.1   \n",
       "..           ...      ...            ...            ...      ...   ...   \n",
       "763         10.0    101.0           76.0           48.0    180.0  32.9   \n",
       "764          2.0    122.0           70.0           27.0    150.0  36.8   \n",
       "765          5.0    121.0           72.0           23.0    112.0  26.2   \n",
       "766          1.0    126.0           60.0           26.4    122.4  30.1   \n",
       "767          1.0     93.0           70.0           31.0     72.4  30.4   \n",
       "\n",
       "     DiabetesPedigreeFunction   Age  Outcome  \n",
       "0                       0.627  50.0      1.0  \n",
       "1                       0.351  31.0      0.0  \n",
       "2                       0.672  32.0      1.0  \n",
       "3                       0.167  21.0      0.0  \n",
       "4                       2.288  33.0      1.0  \n",
       "..                        ...   ...      ...  \n",
       "763                     0.171  63.0      0.0  \n",
       "764                     0.340  27.0      0.0  \n",
       "765                     0.245  30.0      0.0  \n",
       "766                     0.349  47.0      1.0  \n",
       "767                     0.315  23.0      0.0  \n",
       "\n",
       "[768 rows x 9 columns]"
      ]
     },
     "execution_count": 480,
     "metadata": {},
     "output_type": "execute_result"
    }
   ],
   "source": [
    "df"
   ]
  },
  {
   "cell_type": "markdown",
   "id": "a799602e-6b10-48fa-ab93-a44894bcc14a",
   "metadata": {},
   "source": [
    "### Split and normalize the data set"
   ]
  },
  {
   "cell_type": "code",
   "execution_count": 481,
   "id": "d9122bbd-b172-4e49-b050-000f6e7c94e5",
   "metadata": {},
   "outputs": [],
   "source": [
    "y = df['Outcome'].values\n",
    "X_df = df.drop(['Outcome'], axis=1)\n",
    "X = X_df.values"
   ]
  },
  {
   "cell_type": "code",
   "execution_count": 482,
   "id": "3abe8412-cf7b-4d99-bc60-bcf1621b085c",
   "metadata": {},
   "outputs": [],
   "source": [
    "# standardize features \n",
    "X = preprocessing.StandardScaler().fit(X).transform(X.astype(float))\n",
    "\n",
    "# # normalize features \n",
    "# X = preprocessing.MinMaxScaler().fit(X).transform(X) "
   ]
  },
  {
   "cell_type": "code",
   "execution_count": 483,
   "id": "b85aa72e-5b6c-41db-aedd-6011f507c14e",
   "metadata": {},
   "outputs": [
    {
     "name": "stdout",
     "output_type": "stream",
     "text": [
      "Train set: (576, 8) (576,)\n",
      "Test set: (192, 8) (192,)\n"
     ]
    }
   ],
   "source": [
    "X_train, X_test, y_train, y_test = train_test_split(X, y, test_size=0.25, random_state=4, shuffle=True)\n",
    "print ('Train set:', X_train.shape,  y_train.shape)\n",
    "print ('Test set:', X_test.shape,  y_test.shape)"
   ]
  },
  {
   "cell_type": "markdown",
   "id": "75237d7b-3a3d-43d7-b80e-7e170becdbc0",
   "metadata": {},
   "source": [
    "## ML with Logistic Regression"
   ]
  },
  {
   "cell_type": "markdown",
   "id": "5ff0b89a-4171-45bd-ac0b-b35d08fc5812",
   "metadata": {},
   "source": [
    "### Logistic regression (untuned)"
   ]
  },
  {
   "cell_type": "code",
   "execution_count": 484,
   "id": "7223c0e3-b789-4640-ba7b-e9ddec4df37f",
   "metadata": {},
   "outputs": [],
   "source": [
    "# import the classes\n",
    "from sklearn.linear_model import LogisticRegression\n",
    "from sklearn.metrics import roc_auc_score\n",
    "from sklearn.metrics import classification_report\n",
    "\n",
    "# instantiate the model (using the default parameters)\n",
    "logreg = LogisticRegression(random_state=16, class_weight='balanced')\n",
    "\n",
    "# fit the model with data\n",
    "logreg.fit(X_train, y_train)\n",
    "\n",
    "y_pred = logreg.predict(X_test)\n",
    "y_proba = logreg.predict_proba(X_test)"
   ]
  },
  {
   "cell_type": "code",
   "execution_count": 485,
   "id": "1db39fe8-eeca-4a69-b8a6-4898fcc6bd72",
   "metadata": {},
   "outputs": [
    {
     "name": "stdout",
     "output_type": "stream",
     "text": [
      "LR's Train Accuracy:  0.7690972222222222\n",
      "LR's Test Accuracy:  0.78125\n"
     ]
    }
   ],
   "source": [
    "print(\"LR's Train Accuracy: \", logreg.score(X_train, y_train))\n",
    "print(\"LR's Test Accuracy: \", logreg.score(X_test, y_test))"
   ]
  },
  {
   "cell_type": "code",
   "execution_count": 698,
   "id": "20ff04f7-754a-4d17-865b-9abd0a8d26fc",
   "metadata": {},
   "outputs": [],
   "source": [
    "# def plot_confusion_matrix(y,y_predict):\n",
    "#     \"this function plots the confusion matrix\"\n",
    "#     from sklearn.metrics import confusion_matrix\n",
    "\n",
    "#     cm = confusion_matrix(y, y_predict)\n",
    "#     ax= plt.subplot()\n",
    "#     sns.heatmap(cm, annot=True, ax = ax); #annot=True to annotate cells\n",
    "#     ax.set_xlabel('Predicted labels')\n",
    "#     ax.set_ylabel('True labels')\n",
    "#     ax.set_title('Confusion Matrix'); \n",
    "#     #ax.xaxis.set_ticklabels(['did not land', 'land']); ax.yaxis.set_ticklabels(['did not land', 'landed']) \n",
    "#     plt.show() \n",
    "\n",
    "def plot_confusion_matrix(y,y_predict):\n",
    "    \"this function plots the confusion matrix\"\n",
    "    from sklearn.metrics import confusion_matrix\n",
    "\n",
    "    cm = confusion_matrix(y, y_predict)\n",
    "    plt.figure(figsize=(8, 6), dpi = 120)\n",
    "    plot = sns.heatmap(cm, annot=True); #annot=True to annotate cells\n",
    "    plot.set_xlabel('Predicted labels')\n",
    "    plot.set_ylabel('True labels')\n",
    "    plot.set_title('Confusion Matrix'); \n",
    "    plt.savefig('confusion_matrix', transparent=True, bbox_inches='tight')\n",
    "    #ax.xaxis.set_ticklabels(['did not land', 'land']); ax.yaxis.set_ticklabels(['did not land', 'landed']) \n",
    "    plt.show() \n",
    "    "
   ]
  },
  {
   "cell_type": "code",
   "execution_count": 487,
   "id": "2dd53a5a-66f2-44a9-a00f-c3c402379e2b",
   "metadata": {},
   "outputs": [
    {
     "data": {
      "image/png": "[encoded data removed]",
      "text/plain": [
       "<Figure size 640x480 with 2 Axes>"
      ]
     },
     "metadata": {},
     "output_type": "display_data"
    }
   ],
   "source": [
    "plot_confusion_matrix(y_test,y_pred)"
   ]
  },
  {
   "cell_type": "code",
   "execution_count": 488,
   "id": "8504ca4b-a220-4377-830c-90412b20ebd5",
   "metadata": {},
   "outputs": [
    {
     "name": "stdout",
     "output_type": "stream",
     "text": [
      "              precision    recall  f1-score   support\n",
      "\n",
      "         0.0       0.86      0.79      0.83       126\n",
      "         1.0       0.66      0.76      0.70        66\n",
      "\n",
      "    accuracy                           0.78       192\n",
      "   macro avg       0.76      0.78      0.77       192\n",
      "weighted avg       0.79      0.78      0.78       192\n",
      "\n"
     ]
    }
   ],
   "source": [
    "print(classification_report(y_test, y_pred))"
   ]
  },
  {
   "cell_type": "code",
   "execution_count": 489,
   "id": "f62e9122-3106-4439-9ddb-944c517918d7",
   "metadata": {},
   "outputs": [
    {
     "data": {
      "text/plain": [
       "0.7756132756132756"
      ]
     },
     "execution_count": 489,
     "metadata": {},
     "output_type": "execute_result"
    }
   ],
   "source": [
    "roc_auc_score(y_test,y_pred)"
   ]
  },
  {
   "cell_type": "code",
   "execution_count": 490,
   "id": "b3afa53c-86e4-47c5-9636-875d38f476f4",
   "metadata": {},
   "outputs": [],
   "source": [
    "from sklearn.metrics import roc_curve, accuracy_score, confusion_matrix, precision_recall_curve"
   ]
  },
  {
   "cell_type": "code",
   "execution_count": 491,
   "id": "4ec5db6a-9926-4635-8a34-b3144dcbc83b",
   "metadata": {},
   "outputs": [
    {
     "data": {
      "image/png": "[encoded data removed]",
      "text/plain": [
       "<Figure size 640x480 with 1 Axes>"
      ]
     },
     "metadata": {},
     "output_type": "display_data"
    }
   ],
   "source": [
    "precision, recall, thresholds = precision_recall_curve(y_test,y_proba[:,1])\n",
    "# print('Precision:',precision,'\\n',\n",
    "#      'Recall:',recall,'\\n',\n",
    "#      'Threshold:',thresholds)\n",
    "\n",
    "plot = sns.scatterplot(x=recall, y=precision)\n",
    "plot.set_xlabel('Recall')\n",
    "plot.set_ylabel('Precision')\n",
    "plt.show()"
   ]
  },
  {
   "cell_type": "code",
   "execution_count": 493,
   "id": "08dcec9c-6e06-4214-8bc5-81f87ca921af",
   "metadata": {},
   "outputs": [
    {
     "data": {
      "image/png": "[encoded data removed]",
      "text/plain": [
       "<Figure size 640x480 with 1 Axes>"
      ]
     },
     "metadata": {},
     "output_type": "display_data"
    }
   ],
   "source": [
    "fpr, tpr, _ = roc_curve(y_test,y_proba[:,1])\n",
    "plot = sns.scatterplot(x=fpr, y=tpr)\n",
    "plot.set_xlabel('False positive')\n",
    "plot.set_ylabel('True Positive')\n",
    "plt.show()"
   ]
  },
  {
   "cell_type": "code",
   "execution_count": 494,
   "id": "4c4131ca-c2a8-4c41-89ef-08c815a6d2a4",
   "metadata": {},
   "outputs": [],
   "source": [
    "def thresholds_tests (X_test, y_test, model):\n",
    "    pred_proba_df = pd.DataFrame(model.predict_proba(X_test))\n",
    "    threshold_list = [0.05,0.1,0.15,0.2,0.25,0.3,0.35,0.4,0.45,0.5,0.55,0.6,0.65,.7,.75,.8,.85,.9,.95,.99]\n",
    "    y_test = pd.DataFrame(y_test)\n",
    "    for i in threshold_list:\n",
    "        print ('\\n******** For i = {} ******'.format(i))\n",
    "        y_test_pred = pred_proba_df.applymap(lambda x: 1 if x>i else 0)\n",
    "        test_accuracy = accuracy_score(y_test.values.reshape(y_test.values.size,1),\n",
    "                                               y_test_pred.iloc[:,1].values.reshape(y_test_pred.iloc[:,1].values.size,1))\n",
    "        print('Our testing accuracy is {}'.format(test_accuracy))\n",
    "\n",
    "        print(confusion_matrix(y_test.values.reshape(y_test.values.size,1),\n",
    "                               y_test_pred.iloc[:,1].values.reshape(y_test_pred.iloc[:,1].values.size,1)))\n",
    "        \n"
   ]
  },
  {
   "cell_type": "code",
   "execution_count": 495,
   "id": "2b535171-485c-433e-9abf-2f8b3be02ee7",
   "metadata": {},
   "outputs": [],
   "source": [
    "def manual_threshold_model(threshold_val, X_test, y_test, model):\n",
    "    \n",
    "    pred_proba_df = pd.DataFrame(model.predict_proba(X_test))\n",
    "    y_test = pd.DataFrame(y_test)\n",
    "    y_test_pred = pred_proba_df.applymap(lambda x: 1 if x>threshold_val else 0)\n",
    "    test_accuracy = accuracy_score(y_test.values.reshape(y_test.values.size,1),\n",
    "                                           y_test_pred.iloc[:,1].values.reshape(y_test_pred.iloc[:,1].values.size,1))\n",
    "    print('The testing accuracy is {}'.format(test_accuracy))\n",
    "    \n",
    "    y_pred = y_test_pred.iloc[:,1].values.reshape(y_test_pred.iloc[:,1].values.size,1)\n",
    "\n",
    "    return y_pred"
   ]
  },
  {
   "cell_type": "code",
   "execution_count": 496,
   "id": "a025c395-da58-4663-a109-3140555a9614",
   "metadata": {},
   "outputs": [
    {
     "name": "stdout",
     "output_type": "stream",
     "text": [
      "\n",
      "******** For i = 0.05 ******\n",
      "Our testing accuracy is 0.3697916666666667\n",
      "[[  5 121]\n",
      " [  0  66]]\n",
      "\n",
      "******** For i = 0.1 ******\n",
      "Our testing accuracy is 0.484375\n",
      "[[27 99]\n",
      " [ 0 66]]\n",
      "\n",
      "******** For i = 0.15 ******\n",
      "Our testing accuracy is 0.59375\n",
      "[[48 78]\n",
      " [ 0 66]]\n",
      "\n",
      "******** For i = 0.2 ******\n",
      "Our testing accuracy is 0.6510416666666666\n",
      "[[60 66]\n",
      " [ 1 65]]\n",
      "\n",
      "******** For i = 0.25 ******\n",
      "Our testing accuracy is 0.6822916666666666\n",
      "[[67 59]\n",
      " [ 2 64]]\n",
      "\n",
      "******** For i = 0.3 ******\n",
      "Our testing accuracy is 0.6927083333333334\n",
      "[[72 54]\n",
      " [ 5 61]]\n",
      "\n",
      "******** For i = 0.35 ******\n",
      "Our testing accuracy is 0.71875\n",
      "[[80 46]\n",
      " [ 8 58]]\n",
      "\n",
      "******** For i = 0.4 ******\n",
      "Our testing accuracy is 0.7291666666666666\n",
      "[[83 43]\n",
      " [ 9 57]]\n",
      "\n",
      "******** For i = 0.45 ******\n",
      "Our testing accuracy is 0.7447916666666666\n",
      "[[92 34]\n",
      " [15 51]]\n",
      "\n",
      "******** For i = 0.5 ******\n",
      "Our testing accuracy is 0.78125\n",
      "[[100  26]\n",
      " [ 16  50]]\n",
      "\n",
      "******** For i = 0.55 ******\n",
      "Our testing accuracy is 0.7916666666666666\n",
      "[[104  22]\n",
      " [ 18  48]]\n",
      "\n",
      "******** For i = 0.6 ******\n",
      "Our testing accuracy is 0.796875\n",
      "[[107  19]\n",
      " [ 20  46]]\n",
      "\n",
      "******** For i = 0.65 ******\n",
      "Our testing accuracy is 0.8020833333333334\n",
      "[[110  16]\n",
      " [ 22  44]]\n",
      "\n",
      "******** For i = 0.7 ******\n",
      "Our testing accuracy is 0.8072916666666666\n",
      "[[112  14]\n",
      " [ 23  43]]\n",
      "\n",
      "******** For i = 0.75 ******\n",
      "Our testing accuracy is 0.8229166666666666\n",
      "[[117   9]\n",
      " [ 25  41]]\n",
      "\n",
      "******** For i = 0.8 ******\n",
      "Our testing accuracy is 0.8072916666666666\n",
      "[[120   6]\n",
      " [ 31  35]]\n",
      "\n",
      "******** For i = 0.85 ******\n",
      "Our testing accuracy is 0.8072916666666666\n",
      "[[123   3]\n",
      " [ 34  32]]\n",
      "\n",
      "******** For i = 0.9 ******\n",
      "Our testing accuracy is 0.75\n",
      "[[123   3]\n",
      " [ 45  21]]\n",
      "\n",
      "******** For i = 0.95 ******\n",
      "Our testing accuracy is 0.6927083333333334\n",
      "[[125   1]\n",
      " [ 58   8]]\n",
      "\n",
      "******** For i = 0.99 ******\n",
      "Our testing accuracy is 0.6510416666666666\n",
      "[[125   1]\n",
      " [ 66   0]]\n"
     ]
    }
   ],
   "source": [
    "thresholds_tests (X_test,y_test, logreg)"
   ]
  },
  {
   "cell_type": "code",
   "execution_count": 497,
   "id": "53d7653c-cf4f-461d-9bfd-405588465ab0",
   "metadata": {},
   "outputs": [
    {
     "name": "stdout",
     "output_type": "stream",
     "text": [
      "The testing accuracy is 0.65625\n"
     ]
    },
    {
     "data": {
      "image/png": "[encoded data removed]",
      "text/plain": [
       "<Figure size 640x480 with 2 Axes>"
      ]
     },
     "metadata": {},
     "output_type": "display_data"
    }
   ],
   "source": [
    "y_pred=manual_threshold_model(0.202, X_test, y_test, logreg)\n",
    "plot_confusion_matrix(y_test,y_pred)"
   ]
  },
  {
   "cell_type": "markdown",
   "id": "0ea60316-98e2-49da-8261-34c8cb69406c",
   "metadata": {},
   "source": [
    "#### Best recall at treshold value of 0.202"
   ]
  },
  {
   "cell_type": "markdown",
   "id": "5937fe0f-8460-425f-ab0b-2765396a453d",
   "metadata": {},
   "source": [
    "### Hyperparameter tuning of Logistic Regression"
   ]
  },
  {
   "cell_type": "code",
   "execution_count": 498,
   "id": "e3459155-de97-4b64-908a-7007db3e8283",
   "metadata": {},
   "outputs": [],
   "source": [
    "from sklearn.model_selection import RepeatedStratifiedKFold\n",
    "from sklearn.model_selection import GridSearchCV"
   ]
  },
  {
   "cell_type": "code",
   "execution_count": 499,
   "id": "336a8981-2dfd-4516-bdd7-45434fcdda00",
   "metadata": {},
   "outputs": [
    {
     "name": "stdout",
     "output_type": "stream",
     "text": [
      "Best: 0.838993 using {'C': 0.1, 'penalty': 'l2', 'solver': 'liblinear'}\n",
      "0.837131 (0.046028) with: {'C': 100, 'penalty': 'l2', 'solver': 'newton-cg'}\n",
      "0.837131 (0.046028) with: {'C': 100, 'penalty': 'l2', 'solver': 'lbfgs'}\n",
      "0.837131 (0.046028) with: {'C': 100, 'penalty': 'l2', 'solver': 'liblinear'}\n",
      "0.837088 (0.046048) with: {'C': 10, 'penalty': 'l2', 'solver': 'newton-cg'}\n",
      "0.837088 (0.046048) with: {'C': 10, 'penalty': 'l2', 'solver': 'lbfgs'}\n",
      "0.837088 (0.046048) with: {'C': 10, 'penalty': 'l2', 'solver': 'liblinear'}\n",
      "0.837180 (0.046280) with: {'C': 1.0, 'penalty': 'l2', 'solver': 'newton-cg'}\n",
      "0.837180 (0.046280) with: {'C': 1.0, 'penalty': 'l2', 'solver': 'lbfgs'}\n",
      "0.837135 (0.046302) with: {'C': 1.0, 'penalty': 'l2', 'solver': 'liblinear'}\n",
      "0.838902 (0.045417) with: {'C': 0.1, 'penalty': 'l2', 'solver': 'newton-cg'}\n",
      "0.838902 (0.045417) with: {'C': 0.1, 'penalty': 'l2', 'solver': 'lbfgs'}\n",
      "0.838993 (0.045467) with: {'C': 0.1, 'penalty': 'l2', 'solver': 'liblinear'}\n",
      "0.834746 (0.045303) with: {'C': 0.01, 'penalty': 'l2', 'solver': 'newton-cg'}\n",
      "0.834746 (0.045303) with: {'C': 0.01, 'penalty': 'l2', 'solver': 'lbfgs'}\n",
      "0.835101 (0.045361) with: {'C': 0.01, 'penalty': 'l2', 'solver': 'liblinear'}\n"
     ]
    }
   ],
   "source": [
    "model = LogisticRegression(class_weight='balanced')\n",
    "solvers = ['newton-cg', 'lbfgs', 'liblinear']\n",
    "penalty = ['l2']\n",
    "c_values = [100, 10, 1.0, 0.1, 0.01]\n",
    "\n",
    "# define grid search\n",
    "grid = dict(solver=solvers,penalty=penalty,C=c_values)\n",
    "cv = RepeatedStratifiedKFold(n_splits=10, n_repeats=3, random_state=1)\n",
    "grid_search = GridSearchCV(estimator=model, param_grid=grid, n_jobs=-1, cv=cv, scoring='roc_auc',error_score=0)\n",
    "grid_result = grid_search.fit(X_train, y_train)\n",
    "\n",
    "# summarize results\n",
    "print(\"Best: %f using %s\" % (grid_result.best_score_, grid_result.best_params_))\n",
    "means = grid_result.cv_results_['mean_test_score']\n",
    "stds = grid_result.cv_results_['std_test_score']\n",
    "params = grid_result.cv_results_['params']\n",
    "for mean, stdev, param in zip(means, stds, params):\n",
    "    print(\"%f (%f) with: %r\" % (mean, stdev, param))"
   ]
  },
  {
   "cell_type": "code",
   "execution_count": 500,
   "id": "0ac9b5af-21e2-4c43-8c3b-85777ea6ed85",
   "metadata": {},
   "outputs": [
    {
     "data": {
      "image/png": "[encoded data removed]",
      "text/plain": [
       "<Figure size 640x480 with 2 Axes>"
      ]
     },
     "metadata": {},
     "output_type": "display_data"
    }
   ],
   "source": [
    "y_pred = grid_search.predict(X_test)\n",
    "plot_confusion_matrix(y_test,y_pred)"
   ]
  },
  {
   "cell_type": "code",
   "execution_count": 501,
   "id": "8cdacc1a-ddad-4c4b-a0a2-01d8eeb6c301",
   "metadata": {},
   "outputs": [
    {
     "name": "stdout",
     "output_type": "stream",
     "text": [
      "\n",
      "******** For i = 0.05 ******\n",
      "Our testing accuracy is 0.3541666666666667\n",
      "[[  2 124]\n",
      " [  0  66]]\n",
      "\n",
      "******** For i = 0.1 ******\n",
      "Our testing accuracy is 0.453125\n",
      "[[ 21 105]\n",
      " [  0  66]]\n",
      "\n",
      "******** For i = 0.15 ******\n",
      "Our testing accuracy is 0.53125\n",
      "[[36 90]\n",
      " [ 0 66]]\n",
      "\n",
      "******** For i = 0.2 ******\n",
      "Our testing accuracy is 0.625\n",
      "[[54 72]\n",
      " [ 0 66]]\n",
      "\n",
      "******** For i = 0.25 ******\n",
      "Our testing accuracy is 0.6822916666666666\n",
      "[[66 60]\n",
      " [ 1 65]]\n",
      "\n",
      "******** For i = 0.3 ******\n",
      "Our testing accuracy is 0.671875\n",
      "[[68 58]\n",
      " [ 5 61]]\n",
      "\n",
      "******** For i = 0.35 ******\n",
      "Our testing accuracy is 0.703125\n",
      "[[76 50]\n",
      " [ 7 59]]\n",
      "\n",
      "******** For i = 0.4 ******\n",
      "Our testing accuracy is 0.7239583333333334\n",
      "[[82 44]\n",
      " [ 9 57]]\n",
      "\n",
      "******** For i = 0.45 ******\n",
      "Our testing accuracy is 0.7395833333333334\n",
      "[[90 36]\n",
      " [14 52]]\n",
      "\n",
      "******** For i = 0.5 ******\n",
      "Our testing accuracy is 0.7708333333333334\n",
      "[[98 28]\n",
      " [16 50]]\n",
      "\n",
      "******** For i = 0.55 ******\n",
      "Our testing accuracy is 0.7916666666666666\n",
      "[[104  22]\n",
      " [ 18  48]]\n",
      "\n",
      "******** For i = 0.6 ******\n",
      "Our testing accuracy is 0.7916666666666666\n",
      "[[108  18]\n",
      " [ 22  44]]\n",
      "\n",
      "******** For i = 0.65 ******\n",
      "Our testing accuracy is 0.796875\n",
      "[[110  16]\n",
      " [ 23  43]]\n",
      "\n",
      "******** For i = 0.7 ******\n",
      "Our testing accuracy is 0.8020833333333334\n",
      "[[112  14]\n",
      " [ 24  42]]\n",
      "\n",
      "******** For i = 0.75 ******\n",
      "Our testing accuracy is 0.8177083333333334\n",
      "[[118   8]\n",
      " [ 27  39]]\n",
      "\n",
      "******** For i = 0.8 ******\n",
      "Our testing accuracy is 0.8072916666666666\n",
      "[[120   6]\n",
      " [ 31  35]]\n",
      "\n",
      "******** For i = 0.85 ******\n",
      "Our testing accuracy is 0.7864583333333334\n",
      "[[123   3]\n",
      " [ 38  28]]\n",
      "\n",
      "******** For i = 0.9 ******\n",
      "Our testing accuracy is 0.7239583333333334\n",
      "[[123   3]\n",
      " [ 50  16]]\n",
      "\n",
      "******** For i = 0.95 ******\n",
      "Our testing accuracy is 0.6822916666666666\n",
      "[[125   1]\n",
      " [ 60   6]]\n",
      "\n",
      "******** For i = 0.99 ******\n",
      "Our testing accuracy is 0.6510416666666666\n",
      "[[125   1]\n",
      " [ 66   0]]\n"
     ]
    }
   ],
   "source": [
    "thresholds_tests (X_test, y_test, grid_search)"
   ]
  },
  {
   "cell_type": "markdown",
   "id": "56e73b88-79ce-4bd6-8da1-4e9a136c4b84",
   "metadata": {},
   "source": [
    "#### Same output as the simple LR"
   ]
  },
  {
   "cell_type": "markdown",
   "id": "522b2bf0-d535-440c-8393-f0d21ce79550",
   "metadata": {},
   "source": [
    "### Hyperparameter tuning of Ridge Classifier"
   ]
  },
  {
   "cell_type": "code",
   "execution_count": 502,
   "id": "6a656b9c-2fbf-4a31-aa6b-7c19393493eb",
   "metadata": {},
   "outputs": [],
   "source": [
    "from sklearn.linear_model import RidgeClassifier"
   ]
  },
  {
   "cell_type": "code",
   "execution_count": 503,
   "id": "b47f1913-8e0e-4a6c-ba0a-f403a09028e7",
   "metadata": {},
   "outputs": [
    {
     "name": "stdout",
     "output_type": "stream",
     "text": [
      "Best: 0.835263 using {'alpha': 0.2}\n",
      "0.835220 (0.046566) with: {'alpha': 0.1}\n",
      "0.835263 (0.046551) with: {'alpha': 0.2}\n",
      "0.835263 (0.046551) with: {'alpha': 0.3}\n",
      "0.835219 (0.046539) with: {'alpha': 0.4}\n",
      "0.835219 (0.046539) with: {'alpha': 0.5}\n",
      "0.835130 (0.046563) with: {'alpha': 0.6}\n",
      "0.835174 (0.046666) with: {'alpha': 0.7}\n",
      "0.835174 (0.046666) with: {'alpha': 0.8}\n",
      "0.835174 (0.046666) with: {'alpha': 0.9}\n",
      "0.835174 (0.046666) with: {'alpha': 1.0}\n"
     ]
    }
   ],
   "source": [
    "ridgeclass = RidgeClassifier()\n",
    "alpha = [0.1, 0.2, 0.3, 0.4, 0.5, 0.6, 0.7, 0.8, 0.9, 1.0]\n",
    "\n",
    "# define grid search\n",
    "grid = dict(alpha=alpha)\n",
    "cv = RepeatedStratifiedKFold(n_splits=10, n_repeats=3, random_state=1)\n",
    "grid_search = GridSearchCV(estimator=ridgeclass, param_grid=grid, n_jobs=-1, cv=cv, scoring='roc_auc',error_score=0)\n",
    "grid_result = grid_search.fit(X_train, y_train)\n",
    "\n",
    "# summarize results\n",
    "print(\"Best: %f using %s\" % (grid_result.best_score_, grid_result.best_params_))\n",
    "means = grid_result.cv_results_['mean_test_score']\n",
    "stds = grid_result.cv_results_['std_test_score']\n",
    "params = grid_result.cv_results_['params']\n",
    "for mean, stdev, param in zip(means, stds, params):\n",
    "    print(\"%f (%f) with: %r\" % (mean, stdev, param))"
   ]
  },
  {
   "cell_type": "markdown",
   "id": "bc2e7d49-5a8d-47c7-9807-316f0ea8be3d",
   "metadata": {},
   "source": [
    "#### Same output as the simple LR"
   ]
  },
  {
   "cell_type": "markdown",
   "id": "2cdecaf8-cdfb-479b-b109-32f509d9da0c",
   "metadata": {},
   "source": [
    "## ML with Random forest "
   ]
  },
  {
   "cell_type": "markdown",
   "id": "774a439f-5183-40d3-98a6-1dfb64c1c65c",
   "metadata": {},
   "source": [
    "### Random forest (untuned)"
   ]
  },
  {
   "cell_type": "code",
   "execution_count": 504,
   "id": "220e431a-f22d-4578-b5a9-c0ed1861fe84",
   "metadata": {},
   "outputs": [
    {
     "name": "stdout",
     "output_type": "stream",
     "text": [
      "model score on training data: 1.0\n",
      "model score on testing data: 0.796875\n"
     ]
    }
   ],
   "source": [
    "from sklearn.ensemble import RandomForestClassifier\n",
    "\n",
    "rforest = RandomForestClassifier(class_weight=\"balanced\")\n",
    "\n",
    "rforest.fit(X_train, y_train)\n",
    "\n",
    "print(f'model score on training data: {rforest.score(X_train, y_train)}')\n",
    "print(f'model score on testing data: {rforest.score(X_test, y_test)}')"
   ]
  },
  {
   "cell_type": "code",
   "execution_count": 505,
   "id": "4f6e7fff-18b0-4f68-9305-ec165e61199d",
   "metadata": {},
   "outputs": [
    {
     "data": {
      "text/plain": [
       "{'bootstrap': True,\n",
       " 'ccp_alpha': 0.0,\n",
       " 'class_weight': 'balanced',\n",
       " 'criterion': 'gini',\n",
       " 'max_depth': None,\n",
       " 'max_features': 'sqrt',\n",
       " 'max_leaf_nodes': None,\n",
       " 'max_samples': None,\n",
       " 'min_impurity_decrease': 0.0,\n",
       " 'min_samples_leaf': 1,\n",
       " 'min_samples_split': 2,\n",
       " 'min_weight_fraction_leaf': 0.0,\n",
       " 'n_estimators': 100,\n",
       " 'n_jobs': None,\n",
       " 'oob_score': False,\n",
       " 'random_state': None,\n",
       " 'verbose': 0,\n",
       " 'warm_start': False}"
      ]
     },
     "execution_count": 505,
     "metadata": {},
     "output_type": "execute_result"
    }
   ],
   "source": [
    "rforest.get_params()"
   ]
  },
  {
   "cell_type": "code",
   "execution_count": 506,
   "id": "52b45a5f-7d62-41eb-ab11-43bd818cac8c",
   "metadata": {},
   "outputs": [],
   "source": [
    "y_pred = rforest.predict(X_test)\n",
    "y_proba = rforest.predict_proba(X_test)"
   ]
  },
  {
   "cell_type": "code",
   "execution_count": 507,
   "id": "dc1ce064-3dfd-4cfb-8dde-7e5f77620449",
   "metadata": {},
   "outputs": [
    {
     "data": {
      "image/png": "[encoded data removed]",
      "text/plain": [
       "<Figure size 640x480 with 2 Axes>"
      ]
     },
     "metadata": {},
     "output_type": "display_data"
    },
    {
     "name": "stdout",
     "output_type": "stream",
     "text": [
      "              precision    recall  f1-score   support\n",
      "\n",
      "         0.0       0.86      0.83      0.84       126\n",
      "         1.0       0.69      0.74      0.72        66\n",
      "\n",
      "    accuracy                           0.80       192\n",
      "   macro avg       0.77      0.78      0.78       192\n",
      "weighted avg       0.80      0.80      0.80       192\n",
      "\n"
     ]
    }
   ],
   "source": [
    "plot_confusion_matrix(y_test,y_pred)\n",
    "print(classification_report(y_test, y_pred))"
   ]
  },
  {
   "cell_type": "code",
   "execution_count": 508,
   "id": "bedcb354-d4bd-43d6-99e5-bff2c5f9680a",
   "metadata": {},
   "outputs": [],
   "source": [
    "def feature_importance_grader(model):\n",
    "    \n",
    "    importances = model.feature_importances_\n",
    "\n",
    "    indices = np.argsort(importances)\n",
    "\n",
    "    fig, ax = plt.subplots()\n",
    "    ax.barh(range(len(importances)), importances[indices])\n",
    "    ax.set_yticks(range(len(importances)))\n",
    "    _ = ax.set_yticklabels(np.array(df.columns)[indices])"
   ]
  },
  {
   "cell_type": "code",
   "execution_count": 509,
   "id": "ec031605-e3d5-4d12-b1dd-fead97e37e10",
   "metadata": {},
   "outputs": [
    {
     "data": {
      "image/png": "[encoded data removed]",
      "text/plain": [
       "<Figure size 640x480 with 1 Axes>"
      ]
     },
     "metadata": {},
     "output_type": "display_data"
    }
   ],
   "source": [
    "feature_importance_grader(model=rforest)"
   ]
  },
  {
   "cell_type": "markdown",
   "id": "f17ae933-e892-4e29-aa56-89b494017608",
   "metadata": {},
   "source": [
    "#### Did a bit better then the linear regressions (more precision for maximum recall)"
   ]
  },
  {
   "cell_type": "code",
   "execution_count": 510,
   "id": "b6c0e4e6-39e6-46c7-8eac-2d12cf57ab22",
   "metadata": {},
   "outputs": [
    {
     "name": "stdout",
     "output_type": "stream",
     "text": [
      "\n",
      "******** For i = 0.05 ******\n",
      "Our testing accuracy is 0.5677083333333334\n",
      "[[43 83]\n",
      " [ 0 66]]\n",
      "\n",
      "******** For i = 0.1 ******\n",
      "Our testing accuracy is 0.625\n",
      "[[56 70]\n",
      " [ 2 64]]\n",
      "\n",
      "******** For i = 0.15 ******\n",
      "Our testing accuracy is 0.671875\n",
      "[[66 60]\n",
      " [ 3 63]]\n",
      "\n",
      "******** For i = 0.2 ******\n",
      "Our testing accuracy is 0.7083333333333334\n",
      "[[76 50]\n",
      " [ 6 60]]\n",
      "\n",
      "******** For i = 0.25 ******\n",
      "Our testing accuracy is 0.7291666666666666\n",
      "[[80 46]\n",
      " [ 6 60]]\n",
      "\n",
      "******** For i = 0.3 ******\n",
      "Our testing accuracy is 0.7552083333333334\n",
      "[[86 40]\n",
      " [ 7 59]]\n",
      "\n",
      "******** For i = 0.35 ******\n",
      "Our testing accuracy is 0.78125\n",
      "[[95 31]\n",
      " [11 55]]\n",
      "\n",
      "******** For i = 0.4 ******\n",
      "Our testing accuracy is 0.8072916666666666\n",
      "[[101  25]\n",
      " [ 12  54]]\n",
      "\n",
      "******** For i = 0.45 ******\n",
      "Our testing accuracy is 0.8020833333333334\n",
      "[[102  24]\n",
      " [ 14  52]]\n",
      "\n",
      "******** For i = 0.5 ******\n",
      "Our testing accuracy is 0.796875\n",
      "[[104  22]\n",
      " [ 17  49]]\n",
      "\n",
      "******** For i = 0.55 ******\n",
      "Our testing accuracy is 0.8229166666666666\n",
      "[[111  15]\n",
      " [ 19  47]]\n",
      "\n",
      "******** For i = 0.6 ******\n",
      "Our testing accuracy is 0.8072916666666666\n",
      "[[113  13]\n",
      " [ 24  42]]\n",
      "\n",
      "******** For i = 0.65 ******\n",
      "Our testing accuracy is 0.7864583333333334\n",
      "[[118   8]\n",
      " [ 33  33]]\n",
      "\n",
      "******** For i = 0.7 ******\n",
      "Our testing accuracy is 0.7708333333333334\n",
      "[[121   5]\n",
      " [ 39  27]]\n",
      "\n",
      "******** For i = 0.75 ******\n",
      "Our testing accuracy is 0.7604166666666666\n",
      "[[125   1]\n",
      " [ 45  21]]\n",
      "\n",
      "******** For i = 0.8 ******\n",
      "Our testing accuracy is 0.734375\n",
      "[[126   0]\n",
      " [ 51  15]]\n",
      "\n",
      "******** For i = 0.85 ******\n",
      "Our testing accuracy is 0.6979166666666666\n",
      "[[126   0]\n",
      " [ 58   8]]\n",
      "\n",
      "******** For i = 0.9 ******\n",
      "Our testing accuracy is 0.671875\n",
      "[[126   0]\n",
      " [ 63   3]]\n",
      "\n",
      "******** For i = 0.95 ******\n",
      "Our testing accuracy is 0.65625\n",
      "[[126   0]\n",
      " [ 66   0]]\n",
      "\n",
      "******** For i = 0.99 ******\n",
      "Our testing accuracy is 0.65625\n",
      "[[126   0]\n",
      " [ 66   0]]\n"
     ]
    }
   ],
   "source": [
    "thresholds_tests (X_test, y_test, rforest)"
   ]
  },
  {
   "cell_type": "markdown",
   "id": "2a739ef4-4ba1-4701-8d75-c7314a2f16e6",
   "metadata": {},
   "source": [
    "### Random forest (hypertuned)"
   ]
  },
  {
   "cell_type": "markdown",
   "id": "c762a67d-80f0-4721-b244-d5b2016b6291",
   "metadata": {},
   "source": [
    "First we starts with rough random search"
   ]
  },
  {
   "cell_type": "code",
   "execution_count": 511,
   "id": "91f498b1-dc74-4d80-8b25-35e758d1b94e",
   "metadata": {},
   "outputs": [],
   "source": [
    "from sklearn.model_selection import RandomizedSearchCV\n",
    "\n",
    "# Number of trees in random forest\n",
    "n_estimators = [int(x) for x in np.linspace(start = 100, stop = 1800, num = 10)]\n",
    "# Number of features to consider at every split\n",
    "max_features = ['auto', 'sqrt']\n",
    "# Maximum number of levels in tree\n",
    "max_depth = [int(x) for x in np.linspace(10, 110, num = 11)]\n",
    "max_depth.append(None)\n",
    "# Minimum number of samples required to split a node\n",
    "min_samples_split = [2, 5, 10]\n",
    "# Minimum number of samples required at each leaf node\n",
    "min_samples_leaf = [1, 2, 4]\n",
    "# Method of selecting samples for training each tree\n",
    "bootstrap = [True, False]\n",
    "\n",
    "# Create the random grid\n",
    "random_grid = {'n_estimators': n_estimators,\n",
    "               'max_features': max_features,\n",
    "               'max_depth': max_depth,\n",
    "               'min_samples_split': min_samples_split,\n",
    "               'min_samples_leaf': min_samples_leaf,\n",
    "               'bootstrap': bootstrap}"
   ]
  },
  {
   "cell_type": "code",
   "execution_count": 512,
   "id": "2c3388f2-946c-4c43-ad78-10d34330622d",
   "metadata": {},
   "outputs": [
    {
     "name": "stdout",
     "output_type": "stream",
     "text": [
      "Fitting 3 folds for each of 100 candidates, totalling 300 fits\n"
     ]
    }
   ],
   "source": [
    "# Use the random grid to search for best hyperparameters\n",
    "# First create the base model to tune\n",
    "rf = RandomForestClassifier(class_weight=\"balanced\", random_state = 16)\n",
    "\n",
    "# Random search of parameters, using 3 fold cross validation, \n",
    "# search across 100 different combinations, and use all available cores\n",
    "rf_random = RandomizedSearchCV(estimator=rf, param_distributions=random_grid,\n",
    "                              n_iter = 100, scoring='roc_auc', \n",
    "                              cv = 3, verbose=2, random_state=42, n_jobs=-1,\n",
    "                              return_train_score=True)\n",
    "\n",
    "# Fit the random search model\n",
    "rf_random.fit(X_train, y_train);"
   ]
  },
  {
   "cell_type": "code",
   "execution_count": 513,
   "id": "187278b8-5589-465b-b154-73da658ec17f",
   "metadata": {},
   "outputs": [
    {
     "data": {
      "text/plain": [
       "{'n_estimators': 855,\n",
       " 'min_samples_split': 2,\n",
       " 'min_samples_leaf': 2,\n",
       " 'max_features': 'sqrt',\n",
       " 'max_depth': 60,\n",
       " 'bootstrap': True}"
      ]
     },
     "execution_count": 513,
     "metadata": {},
     "output_type": "execute_result"
    }
   ],
   "source": [
    "rf_random.best_params_"
   ]
  },
  {
   "cell_type": "code",
   "execution_count": 514,
   "id": "affa0a95-3827-42ff-a5ba-b8eb1fa33098",
   "metadata": {},
   "outputs": [],
   "source": [
    "best_random = rf_random.best_estimator_"
   ]
  },
  {
   "cell_type": "code",
   "execution_count": 515,
   "id": "fffe09c5-957e-4d39-a275-7993f7d0834d",
   "metadata": {},
   "outputs": [
    {
     "name": "stdout",
     "output_type": "stream",
     "text": [
      "model score on training data: 0.9826388888888888\n",
      "model score on testing data: 0.8020833333333334\n"
     ]
    }
   ],
   "source": [
    "print(f'model score on training data: {best_random.score(X_train, y_train)}')\n",
    "print(f'model score on testing data: {best_random.score(X_test, y_test)}')"
   ]
  },
  {
   "cell_type": "markdown",
   "id": "200b38dd-4bac-4292-b3e7-b27802175ec9",
   "metadata": {},
   "source": [
    "Let us see how the grid search can fine tune this"
   ]
  },
  {
   "cell_type": "code",
   "execution_count": 516,
   "id": "83a6269d-c956-4359-9a01-2e0aed65e9f7",
   "metadata": {},
   "outputs": [],
   "source": [
    "from sklearn.model_selection import GridSearchCV"
   ]
  },
  {
   "cell_type": "code",
   "execution_count": 517,
   "id": "badcd557-90bd-4a97-aba0-1ad02b8a3d73",
   "metadata": {},
   "outputs": [],
   "source": [
    "# Number of trees in random forest\n",
    "n_estimators = [800, 1000, 1200]\n",
    "# Number of features to consider at every split\n",
    "max_features = ['sqrt']\n",
    "# Maximum number of levels in tree\n",
    "max_depth = [40, 50, 60, 70]\n",
    "# Minimum number of samples required to split a node\n",
    "min_samples_split = [2, 3]\n",
    "# Minimum number of samples required at each leaf node\n",
    "min_samples_leaf = [1, 2]\n",
    "# Method of selecting samples for training each tree\n",
    "bootstrap = [True]\n",
    "\n",
    "# Create the grid\n",
    "param_grid = {'n_estimators': n_estimators,\n",
    "               'max_features': max_features,\n",
    "               'max_depth': max_depth,\n",
    "               'min_samples_split': min_samples_split,\n",
    "               'min_samples_leaf': min_samples_leaf,\n",
    "               'bootstrap': bootstrap}\n",
    "\n",
    "rf_grid = GridSearchCV(estimator=rf, param_grid=param_grid,\n",
    "                              scoring='roc_auc', \n",
    "                              cv = 3, n_jobs=-1,\n",
    "                              return_train_score=True)\n",
    "\n",
    "# Fit the grid search model\n",
    "rf_grid.fit(X_train, y_train);"
   ]
  },
  {
   "cell_type": "code",
   "execution_count": 518,
   "id": "94d75935-2346-484d-81af-b6d608227324",
   "metadata": {},
   "outputs": [
    {
     "data": {
      "text/plain": [
       "{'bootstrap': True,\n",
       " 'max_depth': 40,\n",
       " 'max_features': 'sqrt',\n",
       " 'min_samples_leaf': 2,\n",
       " 'min_samples_split': 2,\n",
       " 'n_estimators': 1000}"
      ]
     },
     "execution_count": 518,
     "metadata": {},
     "output_type": "execute_result"
    }
   ],
   "source": [
    "rf_grid.best_params_"
   ]
  },
  {
   "cell_type": "code",
   "execution_count": 519,
   "id": "5eb4aa56-aeb7-437b-9da9-146dba735b69",
   "metadata": {},
   "outputs": [],
   "source": [
    "best_grid = rf_grid.best_estimator_"
   ]
  },
  {
   "cell_type": "code",
   "execution_count": 520,
   "id": "7198ecdd-4db2-47d8-af93-5c07a0ac9d4f",
   "metadata": {},
   "outputs": [
    {
     "name": "stdout",
     "output_type": "stream",
     "text": [
      "model score on training data: 0.9826388888888888\n",
      "model score on testing data: 0.8020833333333334\n"
     ]
    }
   ],
   "source": [
    "print(f'model score on training data: {best_random.score(X_train, y_train)}')\n",
    "print(f'model score on testing data: {best_random.score(X_test, y_test)}')"
   ]
  },
  {
   "cell_type": "code",
   "execution_count": 521,
   "id": "a64f643e-3b74-451d-8f33-41f59d2ca652",
   "metadata": {},
   "outputs": [
    {
     "data": {
      "image/png": "[encoded data removed]",
      "text/plain": [
       "<Figure size 640x480 with 1 Axes>"
      ]
     },
     "metadata": {},
     "output_type": "display_data"
    }
   ],
   "source": [
    "importances = best_random.feature_importances_\n",
    "indices = np.argsort(importances)\n",
    "\n",
    "fig, ax = plt.subplots()\n",
    "ax.barh(range(len(importances)), importances[indices])\n",
    "ax.set_yticks(range(len(importances)))\n",
    "_ = ax.set_yticklabels(np.array(df.columns)[indices])"
   ]
  },
  {
   "cell_type": "code",
   "execution_count": 522,
   "id": "37ff0a57-4e55-4e57-aa3d-be71e2d28e36",
   "metadata": {},
   "outputs": [
    {
     "name": "stdout",
     "output_type": "stream",
     "text": [
      "\n",
      "******** For i = 0.05 ******\n",
      "Our testing accuracy is 0.5052083333333334\n",
      "[[31 95]\n",
      " [ 0 66]]\n",
      "\n",
      "******** For i = 0.1 ******\n",
      "Our testing accuracy is 0.6197916666666666\n",
      "[[54 72]\n",
      " [ 1 65]]\n",
      "\n",
      "******** For i = 0.15 ******\n",
      "Our testing accuracy is 0.6822916666666666\n",
      "[[66 60]\n",
      " [ 1 65]]\n",
      "\n",
      "******** For i = 0.2 ******\n",
      "Our testing accuracy is 0.6927083333333334\n",
      "[[71 55]\n",
      " [ 4 62]]\n",
      "\n",
      "******** For i = 0.25 ******\n",
      "Our testing accuracy is 0.7291666666666666\n",
      "[[80 46]\n",
      " [ 6 60]]\n",
      "\n",
      "******** For i = 0.3 ******\n",
      "Our testing accuracy is 0.7395833333333334\n",
      "[[82 44]\n",
      " [ 6 60]]\n",
      "\n",
      "******** For i = 0.35 ******\n",
      "Our testing accuracy is 0.7604166666666666\n",
      "[[87 39]\n",
      " [ 7 59]]\n",
      "\n",
      "******** For i = 0.4 ******\n",
      "Our testing accuracy is 0.78125\n",
      "[[93 33]\n",
      " [ 9 57]]\n",
      "\n",
      "******** For i = 0.45 ******\n",
      "Our testing accuracy is 0.78125\n",
      "[[96 30]\n",
      " [12 54]]\n",
      "\n",
      "******** For i = 0.5 ******\n",
      "Our testing accuracy is 0.8020833333333334\n",
      "[[103  23]\n",
      " [ 15  51]]\n",
      "\n",
      "******** For i = 0.55 ******\n",
      "Our testing accuracy is 0.8229166666666666\n",
      "[[110  16]\n",
      " [ 18  48]]\n",
      "\n",
      "******** For i = 0.6 ******\n",
      "Our testing accuracy is 0.8229166666666666\n",
      "[[113  13]\n",
      " [ 21  45]]\n",
      "\n",
      "******** For i = 0.65 ******\n",
      "Our testing accuracy is 0.7864583333333334\n",
      "[[115  11]\n",
      " [ 30  36]]\n",
      "\n",
      "******** For i = 0.7 ******\n",
      "Our testing accuracy is 0.7864583333333334\n",
      "[[120   6]\n",
      " [ 35  31]]\n",
      "\n",
      "******** For i = 0.75 ******\n",
      "Our testing accuracy is 0.765625\n",
      "[[122   4]\n",
      " [ 41  25]]\n",
      "\n",
      "******** For i = 0.8 ******\n",
      "Our testing accuracy is 0.734375\n",
      "[[125   1]\n",
      " [ 50  16]]\n",
      "\n",
      "******** For i = 0.85 ******\n",
      "Our testing accuracy is 0.7135416666666666\n",
      "[[126   0]\n",
      " [ 55  11]]\n",
      "\n",
      "******** For i = 0.9 ******\n",
      "Our testing accuracy is 0.671875\n",
      "[[126   0]\n",
      " [ 63   3]]\n",
      "\n",
      "******** For i = 0.95 ******\n",
      "Our testing accuracy is 0.65625\n",
      "[[126   0]\n",
      " [ 66   0]]\n",
      "\n",
      "******** For i = 0.99 ******\n",
      "Our testing accuracy is 0.65625\n",
      "[[126   0]\n",
      " [ 66   0]]\n"
     ]
    }
   ],
   "source": [
    "thresholds_tests (X_test, y_test, best_random)"
   ]
  },
  {
   "cell_type": "markdown",
   "id": "501cee1c-5c83-4b44-bb1f-525bcd5b9117",
   "metadata": {},
   "source": [
    "## ML with XGBoost"
   ]
  },
  {
   "cell_type": "markdown",
   "id": "939fce41-f9fa-4389-8ce2-a25c25fb1dcf",
   "metadata": {},
   "source": [
    "### XGBoost (untuned)"
   ]
  },
  {
   "cell_type": "code",
   "execution_count": 523,
   "id": "2b2ce019-457b-4f31-945f-a245a826ecbb",
   "metadata": {},
   "outputs": [],
   "source": [
    "import xgboost"
   ]
  },
  {
   "cell_type": "code",
   "execution_count": 524,
   "id": "e70c4c00-09f1-44f1-b693-3d2f50ecea44",
   "metadata": {},
   "outputs": [
    {
     "name": "stdout",
     "output_type": "stream",
     "text": [
      "model score on training data: 1.0\n",
      "model score on testing data: 0.7864583333333334\n"
     ]
    }
   ],
   "source": [
    "xgboost_classifier = xgboost.XGBClassifier()\n",
    "\n",
    "xgboost_classifier.fit(X_train, y_train)\n",
    "\n",
    "print(f'model score on training data: {xgboost_classifier.score(X_train, y_train)}')\n",
    "print(f'model score on testing data: {xgboost_classifier.score(X_test, y_test)}')"
   ]
  },
  {
   "cell_type": "code",
   "execution_count": 525,
   "id": "11916a8b-b962-4ba8-a932-8f998d3dedb1",
   "metadata": {},
   "outputs": [
    {
     "data": {
      "text/plain": [
       "{'objective': 'binary:logistic',\n",
       " 'use_label_encoder': None,\n",
       " 'base_score': None,\n",
       " 'booster': None,\n",
       " 'callbacks': None,\n",
       " 'colsample_bylevel': None,\n",
       " 'colsample_bynode': None,\n",
       " 'colsample_bytree': None,\n",
       " 'early_stopping_rounds': None,\n",
       " 'enable_categorical': False,\n",
       " 'eval_metric': None,\n",
       " 'feature_types': None,\n",
       " 'gamma': None,\n",
       " 'gpu_id': None,\n",
       " 'grow_policy': None,\n",
       " 'importance_type': None,\n",
       " 'interaction_constraints': None,\n",
       " 'learning_rate': None,\n",
       " 'max_bin': None,\n",
       " 'max_cat_threshold': None,\n",
       " 'max_cat_to_onehot': None,\n",
       " 'max_delta_step': None,\n",
       " 'max_depth': None,\n",
       " 'max_leaves': None,\n",
       " 'min_child_weight': None,\n",
       " 'missing': nan,\n",
       " 'monotone_constraints': None,\n",
       " 'n_estimators': 100,\n",
       " 'n_jobs': None,\n",
       " 'num_parallel_tree': None,\n",
       " 'predictor': None,\n",
       " 'random_state': None,\n",
       " 'reg_alpha': None,\n",
       " 'reg_lambda': None,\n",
       " 'sampling_method': None,\n",
       " 'scale_pos_weight': None,\n",
       " 'subsample': None,\n",
       " 'tree_method': None,\n",
       " 'validate_parameters': None,\n",
       " 'verbosity': None}"
      ]
     },
     "execution_count": 525,
     "metadata": {},
     "output_type": "execute_result"
    }
   ],
   "source": [
    "xgboost_classifier.get_params()"
   ]
  },
  {
   "cell_type": "code",
   "execution_count": 526,
   "id": "9f148aed-149b-430d-b42a-be81a023aca1",
   "metadata": {},
   "outputs": [],
   "source": [
    "y_pred = xgboost_classifier.predict(X_test)\n",
    "y_proba = xgboost_classifier.predict_proba(X_test)"
   ]
  },
  {
   "cell_type": "code",
   "execution_count": 527,
   "id": "cc82c1ff-362b-4e68-932e-21a30280fc22",
   "metadata": {},
   "outputs": [
    {
     "data": {
      "image/png": "[encoded data removed]",
      "text/plain": [
       "<Figure size 640x480 with 2 Axes>"
      ]
     },
     "metadata": {},
     "output_type": "display_data"
    },
    {
     "name": "stdout",
     "output_type": "stream",
     "text": [
      "              precision    recall  f1-score   support\n",
      "\n",
      "         0.0       0.86      0.80      0.83       126\n",
      "         1.0       0.67      0.76      0.71        66\n",
      "\n",
      "    accuracy                           0.79       192\n",
      "   macro avg       0.76      0.78      0.77       192\n",
      "weighted avg       0.80      0.79      0.79       192\n",
      "\n"
     ]
    }
   ],
   "source": [
    "plot_confusion_matrix(y_test,y_pred)\n",
    "print(classification_report(y_test, y_pred))"
   ]
  },
  {
   "cell_type": "markdown",
   "id": "4348f169-590b-488f-bab0-e05ea8c18651",
   "metadata": {},
   "source": [
    "### XGBoost (hyperparameter-tuned)"
   ]
  },
  {
   "cell_type": "code",
   "execution_count": 588,
   "id": "480279ce-785e-41e6-9f46-8ca9a476985a",
   "metadata": {},
   "outputs": [],
   "source": [
    "params = {\n",
    " 'n_estimators' : [100],\n",
    " 'learning_rate' : [0.05,0.1],\n",
    " 'max_depth' : [ 5, 6, 8, 10],\n",
    " 'min_child_weight' : [ 1, 2, 3, 5 ],\n",
    " 'gamma': [ 0.2 , 0.3, 0.4 ],\n",
    " 'colsample_bytree' : [ 0.4, 0.5 , 0.7, 0.9 ]\n",
    "}"
   ]
  },
  {
   "cell_type": "code",
   "execution_count": 589,
   "id": "008378d9-4b22-4d9f-b698-fcd26b7437bb",
   "metadata": {},
   "outputs": [],
   "source": [
    "rs_model=RandomizedSearchCV(xgboost_classifier,\n",
    "                            param_distributions=params,\n",
    "                            n_iter=50,scoring='roc_auc',\n",
    "                            n_jobs=-1,\n",
    "                            cv=4,\n",
    "                            verbose=3)"
   ]
  },
  {
   "cell_type": "code",
   "execution_count": 590,
   "id": "f6d3be02-23ac-4469-a7be-7fd14114bcd1",
   "metadata": {},
   "outputs": [
    {
     "name": "stdout",
     "output_type": "stream",
     "text": [
      "Fitting 4 folds for each of 50 candidates, totalling 200 fits\n"
     ]
    },
    {
     "data": {
      "text/html": [
       "<style>#sk-container-id-24 {color: black;background-color: white;}#sk-container-id-24 pre{padding: 0;}#sk-container-id-24 div.sk-toggleable {background-color: white;}#sk-container-id-24 label.sk-toggleable__label {cursor: pointer;display: block;width: 100%;margin-bottom: 0;padding: 0.3em;box-sizing: border-box;text-align: center;}#sk-container-id-24 label.sk-toggleable__label-arrow:before {content: \"▸\";float: left;margin-right: 0.25em;color: #696969;}#sk-container-id-24 label.sk-toggleable__label-arrow:hover:before {color: black;}#sk-container-id-24 div.sk-estimator:hover label.sk-toggleable__label-arrow:before {color: black;}#sk-container-id-24 div.sk-toggleable__content {max-height: 0;max-width: 0;overflow: hidden;text-align: left;background-color: #f0f8ff;}#sk-container-id-24 div.sk-toggleable__content pre {margin: 0.2em;color: black;border-radius: 0.25em;background-color: #f0f8ff;}#sk-container-id-24 input.sk-toggleable__control:checked~div.sk-toggleable__content {max-height: 200px;max-width: 100%;overflow: auto;}#sk-container-id-24 input.sk-toggleable__control:checked~label.sk-toggleable__label-arrow:before {content: \"▾\";}#sk-container-id-24 div.sk-estimator input.sk-toggleable__control:checked~label.sk-toggleable__label {background-color: #d4ebff;}#sk-container-id-24 div.sk-label input.sk-toggleable__control:checked~label.sk-toggleable__label {background-color: #d4ebff;}#sk-container-id-24 input.sk-hidden--visually {border: 0;clip: rect(1px 1px 1px 1px);clip: rect(1px, 1px, 1px, 1px);height: 1px;margin: -1px;overflow: hidden;padding: 0;position: absolute;width: 1px;}#sk-container-id-24 div.sk-estimator {font-family: monospace;background-color: #f0f8ff;border: 1px dotted black;border-radius: 0.25em;box-sizing: border-box;margin-bottom: 0.5em;}#sk-container-id-24 div.sk-estimator:hover {background-color: #d4ebff;}#sk-container-id-24 div.sk-parallel-item::after {content: \"\";width: 100%;border-bottom: 1px solid gray;flex-grow: 1;}#sk-container-id-24 div.sk-label:hover label.sk-toggleable__label {background-color: #d4ebff;}#sk-container-id-24 div.sk-serial::before {content: \"\";position: absolute;border-left: 1px solid gray;box-sizing: border-box;top: 0;bottom: 0;left: 50%;z-index: 0;}#sk-container-id-24 div.sk-serial {display: flex;flex-direction: column;align-items: center;background-color: white;padding-right: 0.2em;padding-left: 0.2em;position: relative;}#sk-container-id-24 div.sk-item {position: relative;z-index: 1;}#sk-container-id-24 div.sk-parallel {display: flex;align-items: stretch;justify-content: center;background-color: white;position: relative;}#sk-container-id-24 div.sk-item::before, #sk-container-id-24 div.sk-parallel-item::before {content: \"\";position: absolute;border-left: 1px solid gray;box-sizing: border-box;top: 0;bottom: 0;left: 50%;z-index: -1;}#sk-container-id-24 div.sk-parallel-item {display: flex;flex-direction: column;z-index: 1;position: relative;background-color: white;}#sk-container-id-24 div.sk-parallel-item:first-child::after {align-self: flex-end;width: 50%;}#sk-container-id-24 div.sk-parallel-item:last-child::after {align-self: flex-start;width: 50%;}#sk-container-id-24 div.sk-parallel-item:only-child::after {width: 0;}#sk-container-id-24 div.sk-dashed-wrapped {border: 1px dashed gray;margin: 0 0.4em 0.5em 0.4em;box-sizing: border-box;padding-bottom: 0.4em;background-color: white;}#sk-container-id-24 div.sk-label label {font-family: monospace;font-weight: bold;display: inline-block;line-height: 1.2em;}#sk-container-id-24 div.sk-label-container {text-align: center;}#sk-container-id-24 div.sk-container {/* jupyter's `normalize.less` sets `[hidden] { display: none; }` but bootstrap.min.css set `[hidden] { display: none !important; }` so we also need the `!important` here to be able to override the default hidden behavior on the sphinx rendered scikit-learn.org. See: https://github.com/scikit-learn/scikit-learn/issues/21755 */display: inline-block !important;position: relative;}#sk-container-id-24 div.sk-text-repr-fallback {display: none;}</style><div id=\"sk-container-id-24\" class=\"sk-top-container\"><div class=\"sk-text-repr-fallback\"><pre>RandomizedSearchCV(cv=4,\n",
       "                   estimator=XGBClassifier(base_score=None, booster=None,\n",
       "                                           callbacks=None,\n",
       "                                           colsample_bylevel=None,\n",
       "                                           colsample_bynode=None,\n",
       "                                           colsample_bytree=None,\n",
       "                                           early_stopping_rounds=None,\n",
       "                                           enable_categorical=False,\n",
       "                                           eval_metric=None, feature_types=None,\n",
       "                                           gamma=None, gpu_id=None,\n",
       "                                           grow_policy=None,\n",
       "                                           importance_type=None,\n",
       "                                           interaction_constraints=None,\n",
       "                                           learning_rate...\n",
       "                                           n_estimators=100, n_jobs=None,\n",
       "                                           num_parallel_tree=None,\n",
       "                                           predictor=None, random_state=None, ...),\n",
       "                   n_iter=50, n_jobs=-1,\n",
       "                   param_distributions={&#x27;colsample_bytree&#x27;: [0.3, 0.4, 0.5, 0.7,\n",
       "                                                             0.9],\n",
       "                                        &#x27;gamma&#x27;: [0.0, 0.1, 0.2, 0.3, 0.4],\n",
       "                                        &#x27;learning_rate&#x27;: [0.03, 0.05, 0.1,\n",
       "                                                          0.15],\n",
       "                                        &#x27;max_depth&#x27;: [3, 4, 5, 6, 8, 10],\n",
       "                                        &#x27;min_child_weight&#x27;: [1, 2, 3, 5],\n",
       "                                        &#x27;n_estimators&#x27;: [50, 100, 300]},\n",
       "                   scoring=&#x27;roc_auc&#x27;, verbose=3)</pre><b>In a Jupyter environment, please rerun this cell to show the HTML representation or trust the notebook. <br />On GitHub, the HTML representation is unable to render, please try loading this page with nbviewer.org.</b></div><div class=\"sk-container\" hidden><div class=\"sk-item sk-dashed-wrapped\"><div class=\"sk-label-container\"><div class=\"sk-label sk-toggleable\"><input class=\"sk-toggleable__control sk-hidden--visually\" id=\"sk-estimator-id-48\" type=\"checkbox\" ><label for=\"sk-estimator-id-48\" class=\"sk-toggleable__label sk-toggleable__label-arrow\">RandomizedSearchCV</label><div class=\"sk-toggleable__content\"><pre>RandomizedSearchCV(cv=4,\n",
       "                   estimator=XGBClassifier(base_score=None, booster=None,\n",
       "                                           callbacks=None,\n",
       "                                           colsample_bylevel=None,\n",
       "                                           colsample_bynode=None,\n",
       "                                           colsample_bytree=None,\n",
       "                                           early_stopping_rounds=None,\n",
       "                                           enable_categorical=False,\n",
       "                                           eval_metric=None, feature_types=None,\n",
       "                                           gamma=None, gpu_id=None,\n",
       "                                           grow_policy=None,\n",
       "                                           importance_type=None,\n",
       "                                           interaction_constraints=None,\n",
       "                                           learning_rate...\n",
       "                                           n_estimators=100, n_jobs=None,\n",
       "                                           num_parallel_tree=None,\n",
       "                                           predictor=None, random_state=None, ...),\n",
       "                   n_iter=50, n_jobs=-1,\n",
       "                   param_distributions={&#x27;colsample_bytree&#x27;: [0.3, 0.4, 0.5, 0.7,\n",
       "                                                             0.9],\n",
       "                                        &#x27;gamma&#x27;: [0.0, 0.1, 0.2, 0.3, 0.4],\n",
       "                                        &#x27;learning_rate&#x27;: [0.03, 0.05, 0.1,\n",
       "                                                          0.15],\n",
       "                                        &#x27;max_depth&#x27;: [3, 4, 5, 6, 8, 10],\n",
       "                                        &#x27;min_child_weight&#x27;: [1, 2, 3, 5],\n",
       "                                        &#x27;n_estimators&#x27;: [50, 100, 300]},\n",
       "                   scoring=&#x27;roc_auc&#x27;, verbose=3)</pre></div></div></div><div class=\"sk-parallel\"><div class=\"sk-parallel-item\"><div class=\"sk-item\"><div class=\"sk-label-container\"><div class=\"sk-label sk-toggleable\"><input class=\"sk-toggleable__control sk-hidden--visually\" id=\"sk-estimator-id-49\" type=\"checkbox\" ><label for=\"sk-estimator-id-49\" class=\"sk-toggleable__label sk-toggleable__label-arrow\">estimator: XGBClassifier</label><div class=\"sk-toggleable__content\"><pre>XGBClassifier(base_score=None, booster=None, callbacks=None,\n",
       "              colsample_bylevel=None, colsample_bynode=None,\n",
       "              colsample_bytree=None, early_stopping_rounds=None,\n",
       "              enable_categorical=False, eval_metric=None, feature_types=None,\n",
       "              gamma=None, gpu_id=None, grow_policy=None, importance_type=None,\n",
       "              interaction_constraints=None, learning_rate=None, max_bin=None,\n",
       "              max_cat_threshold=None, max_cat_to_onehot=None,\n",
       "              max_delta_step=None, max_depth=None, max_leaves=None,\n",
       "              min_child_weight=None, missing=nan, monotone_constraints=None,\n",
       "              n_estimators=100, n_jobs=None, num_parallel_tree=None,\n",
       "              predictor=None, random_state=None, ...)</pre></div></div></div><div class=\"sk-serial\"><div class=\"sk-item\"><div class=\"sk-estimator sk-toggleable\"><input class=\"sk-toggleable__control sk-hidden--visually\" id=\"sk-estimator-id-50\" type=\"checkbox\" ><label for=\"sk-estimator-id-50\" class=\"sk-toggleable__label sk-toggleable__label-arrow\">XGBClassifier</label><div class=\"sk-toggleable__content\"><pre>XGBClassifier(base_score=None, booster=None, callbacks=None,\n",
       "              colsample_bylevel=None, colsample_bynode=None,\n",
       "              colsample_bytree=None, early_stopping_rounds=None,\n",
       "              enable_categorical=False, eval_metric=None, feature_types=None,\n",
       "              gamma=None, gpu_id=None, grow_policy=None, importance_type=None,\n",
       "              interaction_constraints=None, learning_rate=None, max_bin=None,\n",
       "              max_cat_threshold=None, max_cat_to_onehot=None,\n",
       "              max_delta_step=None, max_depth=None, max_leaves=None,\n",
       "              min_child_weight=None, missing=nan, monotone_constraints=None,\n",
       "              n_estimators=100, n_jobs=None, num_parallel_tree=None,\n",
       "              predictor=None, random_state=None, ...)</pre></div></div></div></div></div></div></div></div></div></div>"
      ],
      "text/plain": [
       "RandomizedSearchCV(cv=4,\n",
       "                   estimator=XGBClassifier(base_score=None, booster=None,\n",
       "                                           callbacks=None,\n",
       "                                           colsample_bylevel=None,\n",
       "                                           colsample_bynode=None,\n",
       "                                           colsample_bytree=None,\n",
       "                                           early_stopping_rounds=None,\n",
       "                                           enable_categorical=False,\n",
       "                                           eval_metric=None, feature_types=None,\n",
       "                                           gamma=None, gpu_id=None,\n",
       "                                           grow_policy=None,\n",
       "                                           importance_type=None,\n",
       "                                           interaction_constraints=None,\n",
       "                                           learning_rate...\n",
       "                                           n_estimators=100, n_jobs=None,\n",
       "                                           num_parallel_tree=None,\n",
       "                                           predictor=None, random_state=None, ...),\n",
       "                   n_iter=50, n_jobs=-1,\n",
       "                   param_distributions={'colsample_bytree': [0.3, 0.4, 0.5, 0.7,\n",
       "                                                             0.9],\n",
       "                                        'gamma': [0.0, 0.1, 0.2, 0.3, 0.4],\n",
       "                                        'learning_rate': [0.03, 0.05, 0.1,\n",
       "                                                          0.15],\n",
       "                                        'max_depth': [3, 4, 5, 6, 8, 10],\n",
       "                                        'min_child_weight': [1, 2, 3, 5],\n",
       "                                        'n_estimators': [50, 100, 300]},\n",
       "                   scoring='roc_auc', verbose=3)"
      ]
     },
     "execution_count": 590,
     "metadata": {},
     "output_type": "execute_result"
    }
   ],
   "source": [
    "#model fitting\n",
    "rs_model.fit(X,y)"
   ]
  },
  {
   "cell_type": "code",
   "execution_count": 591,
   "id": "e8974f9d-f7dd-4615-bd61-8d1b0ba013e5",
   "metadata": {},
   "outputs": [
    {
     "data": {
      "text/html": [
       "<style>#sk-container-id-25 {color: black;background-color: white;}#sk-container-id-25 pre{padding: 0;}#sk-container-id-25 div.sk-toggleable {background-color: white;}#sk-container-id-25 label.sk-toggleable__label {cursor: pointer;display: block;width: 100%;margin-bottom: 0;padding: 0.3em;box-sizing: border-box;text-align: center;}#sk-container-id-25 label.sk-toggleable__label-arrow:before {content: \"▸\";float: left;margin-right: 0.25em;color: #696969;}#sk-container-id-25 label.sk-toggleable__label-arrow:hover:before {color: black;}#sk-container-id-25 div.sk-estimator:hover label.sk-toggleable__label-arrow:before {color: black;}#sk-container-id-25 div.sk-toggleable__content {max-height: 0;max-width: 0;overflow: hidden;text-align: left;background-color: #f0f8ff;}#sk-container-id-25 div.sk-toggleable__content pre {margin: 0.2em;color: black;border-radius: 0.25em;background-color: #f0f8ff;}#sk-container-id-25 input.sk-toggleable__control:checked~div.sk-toggleable__content {max-height: 200px;max-width: 100%;overflow: auto;}#sk-container-id-25 input.sk-toggleable__control:checked~label.sk-toggleable__label-arrow:before {content: \"▾\";}#sk-container-id-25 div.sk-estimator input.sk-toggleable__control:checked~label.sk-toggleable__label {background-color: #d4ebff;}#sk-container-id-25 div.sk-label input.sk-toggleable__control:checked~label.sk-toggleable__label {background-color: #d4ebff;}#sk-container-id-25 input.sk-hidden--visually {border: 0;clip: rect(1px 1px 1px 1px);clip: rect(1px, 1px, 1px, 1px);height: 1px;margin: -1px;overflow: hidden;padding: 0;position: absolute;width: 1px;}#sk-container-id-25 div.sk-estimator {font-family: monospace;background-color: #f0f8ff;border: 1px dotted black;border-radius: 0.25em;box-sizing: border-box;margin-bottom: 0.5em;}#sk-container-id-25 div.sk-estimator:hover {background-color: #d4ebff;}#sk-container-id-25 div.sk-parallel-item::after {content: \"\";width: 100%;border-bottom: 1px solid gray;flex-grow: 1;}#sk-container-id-25 div.sk-label:hover label.sk-toggleable__label {background-color: #d4ebff;}#sk-container-id-25 div.sk-serial::before {content: \"\";position: absolute;border-left: 1px solid gray;box-sizing: border-box;top: 0;bottom: 0;left: 50%;z-index: 0;}#sk-container-id-25 div.sk-serial {display: flex;flex-direction: column;align-items: center;background-color: white;padding-right: 0.2em;padding-left: 0.2em;position: relative;}#sk-container-id-25 div.sk-item {position: relative;z-index: 1;}#sk-container-id-25 div.sk-parallel {display: flex;align-items: stretch;justify-content: center;background-color: white;position: relative;}#sk-container-id-25 div.sk-item::before, #sk-container-id-25 div.sk-parallel-item::before {content: \"\";position: absolute;border-left: 1px solid gray;box-sizing: border-box;top: 0;bottom: 0;left: 50%;z-index: -1;}#sk-container-id-25 div.sk-parallel-item {display: flex;flex-direction: column;z-index: 1;position: relative;background-color: white;}#sk-container-id-25 div.sk-parallel-item:first-child::after {align-self: flex-end;width: 50%;}#sk-container-id-25 div.sk-parallel-item:last-child::after {align-self: flex-start;width: 50%;}#sk-container-id-25 div.sk-parallel-item:only-child::after {width: 0;}#sk-container-id-25 div.sk-dashed-wrapped {border: 1px dashed gray;margin: 0 0.4em 0.5em 0.4em;box-sizing: border-box;padding-bottom: 0.4em;background-color: white;}#sk-container-id-25 div.sk-label label {font-family: monospace;font-weight: bold;display: inline-block;line-height: 1.2em;}#sk-container-id-25 div.sk-label-container {text-align: center;}#sk-container-id-25 div.sk-container {/* jupyter's `normalize.less` sets `[hidden] { display: none; }` but bootstrap.min.css set `[hidden] { display: none !important; }` so we also need the `!important` here to be able to override the default hidden behavior on the sphinx rendered scikit-learn.org. See: https://github.com/scikit-learn/scikit-learn/issues/21755 */display: inline-block !important;position: relative;}#sk-container-id-25 div.sk-text-repr-fallback {display: none;}</style><div id=\"sk-container-id-25\" class=\"sk-top-container\"><div class=\"sk-text-repr-fallback\"><pre>XGBClassifier(base_score=None, booster=None, callbacks=None,\n",
       "              colsample_bylevel=None, colsample_bynode=None,\n",
       "              colsample_bytree=0.9, early_stopping_rounds=None,\n",
       "              enable_categorical=False, eval_metric=None, feature_types=None,\n",
       "              gamma=0.2, gpu_id=None, grow_policy=None, importance_type=None,\n",
       "              interaction_constraints=None, learning_rate=0.05, max_bin=None,\n",
       "              max_cat_threshold=None, max_cat_to_onehot=None,\n",
       "              max_delta_step=None, max_depth=8, max_leaves=None,\n",
       "              min_child_weight=3, missing=nan, monotone_constraints=None,\n",
       "              n_estimators=100, n_jobs=None, num_parallel_tree=None,\n",
       "              predictor=None, random_state=None, ...)</pre><b>In a Jupyter environment, please rerun this cell to show the HTML representation or trust the notebook. <br />On GitHub, the HTML representation is unable to render, please try loading this page with nbviewer.org.</b></div><div class=\"sk-container\" hidden><div class=\"sk-item\"><div class=\"sk-estimator sk-toggleable\"><input class=\"sk-toggleable__control sk-hidden--visually\" id=\"sk-estimator-id-51\" type=\"checkbox\" checked><label for=\"sk-estimator-id-51\" class=\"sk-toggleable__label sk-toggleable__label-arrow\">XGBClassifier</label><div class=\"sk-toggleable__content\"><pre>XGBClassifier(base_score=None, booster=None, callbacks=None,\n",
       "              colsample_bylevel=None, colsample_bynode=None,\n",
       "              colsample_bytree=0.9, early_stopping_rounds=None,\n",
       "              enable_categorical=False, eval_metric=None, feature_types=None,\n",
       "              gamma=0.2, gpu_id=None, grow_policy=None, importance_type=None,\n",
       "              interaction_constraints=None, learning_rate=0.05, max_bin=None,\n",
       "              max_cat_threshold=None, max_cat_to_onehot=None,\n",
       "              max_delta_step=None, max_depth=8, max_leaves=None,\n",
       "              min_child_weight=3, missing=nan, monotone_constraints=None,\n",
       "              n_estimators=100, n_jobs=None, num_parallel_tree=None,\n",
       "              predictor=None, random_state=None, ...)</pre></div></div></div></div></div>"
      ],
      "text/plain": [
       "XGBClassifier(base_score=None, booster=None, callbacks=None,\n",
       "              colsample_bylevel=None, colsample_bynode=None,\n",
       "              colsample_bytree=0.9, early_stopping_rounds=None,\n",
       "              enable_categorical=False, eval_metric=None, feature_types=None,\n",
       "              gamma=0.2, gpu_id=None, grow_policy=None, importance_type=None,\n",
       "              interaction_constraints=None, learning_rate=0.05, max_bin=None,\n",
       "              max_cat_threshold=None, max_cat_to_onehot=None,\n",
       "              max_delta_step=None, max_depth=8, max_leaves=None,\n",
       "              min_child_weight=3, missing=nan, monotone_constraints=None,\n",
       "              n_estimators=100, n_jobs=None, num_parallel_tree=None,\n",
       "              predictor=None, random_state=None, ...)"
      ]
     },
     "execution_count": 591,
     "metadata": {},
     "output_type": "execute_result"
    }
   ],
   "source": [
    "# best parameters selected\n",
    "best_random_xgboost = rs_model.best_estimator_\n",
    "best_random_xgboost"
   ]
  },
  {
   "cell_type": "code",
   "execution_count": 601,
   "id": "4236cb8d-aac8-4ba0-9bbf-ad7519b85073",
   "metadata": {},
   "outputs": [
    {
     "name": "stdout",
     "output_type": "stream",
     "text": [
      "Train cross validation scores: [0.8088411  0.78622669 0.90530846 0.80344333 0.86100386 0.82995951\n",
      " 0.86904762 0.84656085 0.91931217 0.77910053]\n",
      "Tests cross validation scores: [0.85858586 0.97333333 0.82142857 0.76190476 0.78888889 0.88888889\n",
      " 0.83333333 0.97058824 0.77142857 0.64285714]\n"
     ]
    }
   ],
   "source": [
    "from sklearn.model_selection import cross_val_score, KFold\n",
    "\n",
    "score=cross_val_score(best_random_xgboost,X_train, y_train, cv=KFold(10, shuffle=True), scoring='roc_auc')\n",
    "print('Train cross validation scores:',score)\n",
    "\n",
    "score=cross_val_score(best_random_xgboost,X_test, y_test, cv=KFold(10, shuffle=True), scoring='roc_auc')\n",
    "print('Tests cross validation scores:',score)"
   ]
  },
  {
   "cell_type": "code",
   "execution_count": 593,
   "id": "fa2f046a-155d-4c07-a514-6dc82b09441f",
   "metadata": {},
   "outputs": [
    {
     "name": "stdout",
     "output_type": "stream",
     "text": [
      "model score on training data: 0.9548611111111112\n",
      "model score on testing data: 0.9791666666666666\n"
     ]
    }
   ],
   "source": [
    "print(f'model score on training data: {best_random_xgboost.score(X_train, y_train)}')\n",
    "print(f'model score on testing data: {best_random_xgboost.score(X_test, y_test)}')"
   ]
  },
  {
   "cell_type": "code",
   "execution_count": 663,
   "id": "da2bdc70-f7a4-4170-aff2-9f119c6c5bed",
   "metadata": {},
   "outputs": [
    {
     "data": {
      "image/png": "[encoded data removed]",
      "text/plain": [
       "<Figure size 640x480 with 2 Axes>"
      ]
     },
     "metadata": {},
     "output_type": "display_data"
    },
    {
     "name": "stdout",
     "output_type": "stream",
     "text": [
      "              precision    recall  f1-score   support\n",
      "\n",
      "         0.0       0.98      0.99      0.98       126\n",
      "         1.0       0.98      0.95      0.97        66\n",
      "\n",
      "    accuracy                           0.98       192\n",
      "   macro avg       0.98      0.97      0.98       192\n",
      "weighted avg       0.98      0.98      0.98       192\n",
      "\n"
     ]
    }
   ],
   "source": [
    "y_pred = best_random_xgboost.predict(X_test)\n",
    "# y_proba = best_random_xgboost.predict_proba(X_test)\n",
    "\n",
    "plot_confusion_matrix(y_test,y_pred)\n",
    "print(classification_report(y_test, y_pred))"
   ]
  },
  {
   "cell_type": "code",
   "execution_count": 602,
   "id": "2bf86dc0-097f-48d3-b086-6b1122086453",
   "metadata": {},
   "outputs": [
    {
     "name": "stdout",
     "output_type": "stream",
     "text": [
      "\n",
      "******** For i = 0.05 ******\n",
      "Our testing accuracy is 0.6510416666666666\n",
      "[[59 67]\n",
      " [ 0 66]]\n",
      "\n",
      "******** For i = 0.1 ******\n",
      "Our testing accuracy is 0.7447916666666666\n",
      "[[77 49]\n",
      " [ 0 66]]\n",
      "\n",
      "******** For i = 0.15 ******\n",
      "Our testing accuracy is 0.8177083333333334\n",
      "[[91 35]\n",
      " [ 0 66]]\n",
      "\n",
      "******** For i = 0.2 ******\n",
      "Our testing accuracy is 0.8697916666666666\n",
      "[[101  25]\n",
      " [  0  66]]\n",
      "\n",
      "******** For i = 0.25 ******\n",
      "Our testing accuracy is 0.9010416666666666\n",
      "[[107  19]\n",
      " [  0  66]]\n",
      "\n",
      "******** For i = 0.3 ******\n",
      "Our testing accuracy is 0.9270833333333334\n",
      "[[112  14]\n",
      " [  0  66]]\n",
      "\n",
      "******** For i = 0.35 ******\n",
      "Our testing accuracy is 0.9427083333333334\n",
      "[[116  10]\n",
      " [  1  65]]\n",
      "\n",
      "******** For i = 0.4 ******\n",
      "Our testing accuracy is 0.96875\n",
      "[[121   5]\n",
      " [  1  65]]\n",
      "\n",
      "******** For i = 0.45 ******\n",
      "Our testing accuracy is 0.9895833333333334\n",
      "[[125   1]\n",
      " [  1  65]]\n",
      "\n",
      "******** For i = 0.5 ******\n",
      "Our testing accuracy is 0.9791666666666666\n",
      "[[125   1]\n",
      " [  3  63]]\n",
      "\n",
      "******** For i = 0.55 ******\n",
      "Our testing accuracy is 0.96875\n",
      "[[125   1]\n",
      " [  5  61]]\n",
      "\n",
      "******** For i = 0.6 ******\n",
      "Our testing accuracy is 0.953125\n",
      "[[125   1]\n",
      " [  8  58]]\n",
      "\n",
      "******** For i = 0.65 ******\n",
      "Our testing accuracy is 0.9322916666666666\n",
      "[[125   1]\n",
      " [ 12  54]]\n",
      "\n",
      "******** For i = 0.7 ******\n",
      "Our testing accuracy is 0.9166666666666666\n",
      "[[125   1]\n",
      " [ 15  51]]\n",
      "\n",
      "******** For i = 0.75 ******\n",
      "Our testing accuracy is 0.9166666666666666\n",
      "[[126   0]\n",
      " [ 16  50]]\n",
      "\n",
      "******** For i = 0.8 ******\n",
      "Our testing accuracy is 0.8958333333333334\n",
      "[[126   0]\n",
      " [ 20  46]]\n",
      "\n",
      "******** For i = 0.85 ******\n",
      "Our testing accuracy is 0.8385416666666666\n",
      "[[126   0]\n",
      " [ 31  35]]\n",
      "\n",
      "******** For i = 0.9 ******\n",
      "Our testing accuracy is 0.7916666666666666\n",
      "[[126   0]\n",
      " [ 40  26]]\n",
      "\n",
      "******** For i = 0.95 ******\n",
      "Our testing accuracy is 0.6770833333333334\n",
      "[[126   0]\n",
      " [ 62   4]]\n",
      "\n",
      "******** For i = 0.99 ******\n",
      "Our testing accuracy is 0.65625\n",
      "[[126   0]\n",
      " [ 66   0]]\n"
     ]
    }
   ],
   "source": [
    "thresholds_tests (X_test, y_test, best_random_xgboost)"
   ]
  },
  {
   "cell_type": "code",
   "execution_count": 604,
   "id": "04ca8fd1-0ce6-4760-9f06-61ef94571b1d",
   "metadata": {},
   "outputs": [
    {
     "data": {
      "image/png": "[encoded data removed]",
      "text/plain": [
       "<Figure size 640x480 with 1 Axes>"
      ]
     },
     "metadata": {},
     "output_type": "display_data"
    }
   ],
   "source": [
    "feature_importance_grader(best_random_xgboost)"
   ]
  },
  {
   "cell_type": "code",
   "execution_count": 611,
   "id": "6afcf041-804e-408c-af5c-63de0b9494eb",
   "metadata": {},
   "outputs": [
    {
     "name": "stdout",
     "output_type": "stream",
     "text": [
      "The testing accuracy is 0.9479166666666666\n"
     ]
    },
    {
     "data": {
      "image/png": "[encoded data removed]",
      "text/plain": [
       "<Figure size 640x480 with 2 Axes>"
      ]
     },
     "metadata": {},
     "output_type": "display_data"
    }
   ],
   "source": [
    "y_pred=manual_threshold_model(0.34, X_test, y_test, best_random_xgboost)\n",
    "plot_confusion_matrix(y_test,y_pred)"
   ]
  },
  {
   "cell_type": "markdown",
   "id": "d8c7b4a2-95ab-48af-b59a-52f078fc7b16",
   "metadata": {},
   "source": [
    "### XGBoost Grid Search"
   ]
  },
  {
   "cell_type": "code",
   "execution_count": 595,
   "id": "d125ea04-e226-4cef-99bb-65b48027d5e3",
   "metadata": {},
   "outputs": [
    {
     "name": "stdout",
     "output_type": "stream",
     "text": [
      "Fitting 4 folds for each of 7200 candidates, totalling 28800 fits\n"
     ]
    },
    {
     "data": {
      "text/html": [
       "<style>#sk-container-id-26 {color: black;background-color: white;}#sk-container-id-26 pre{padding: 0;}#sk-container-id-26 div.sk-toggleable {background-color: white;}#sk-container-id-26 label.sk-toggleable__label {cursor: pointer;display: block;width: 100%;margin-bottom: 0;padding: 0.3em;box-sizing: border-box;text-align: center;}#sk-container-id-26 label.sk-toggleable__label-arrow:before {content: \"▸\";float: left;margin-right: 0.25em;color: #696969;}#sk-container-id-26 label.sk-toggleable__label-arrow:hover:before {color: black;}#sk-container-id-26 div.sk-estimator:hover label.sk-toggleable__label-arrow:before {color: black;}#sk-container-id-26 div.sk-toggleable__content {max-height: 0;max-width: 0;overflow: hidden;text-align: left;background-color: #f0f8ff;}#sk-container-id-26 div.sk-toggleable__content pre {margin: 0.2em;color: black;border-radius: 0.25em;background-color: #f0f8ff;}#sk-container-id-26 input.sk-toggleable__control:checked~div.sk-toggleable__content {max-height: 200px;max-width: 100%;overflow: auto;}#sk-container-id-26 input.sk-toggleable__control:checked~label.sk-toggleable__label-arrow:before {content: \"▾\";}#sk-container-id-26 div.sk-estimator input.sk-toggleable__control:checked~label.sk-toggleable__label {background-color: #d4ebff;}#sk-container-id-26 div.sk-label input.sk-toggleable__control:checked~label.sk-toggleable__label {background-color: #d4ebff;}#sk-container-id-26 input.sk-hidden--visually {border: 0;clip: rect(1px 1px 1px 1px);clip: rect(1px, 1px, 1px, 1px);height: 1px;margin: -1px;overflow: hidden;padding: 0;position: absolute;width: 1px;}#sk-container-id-26 div.sk-estimator {font-family: monospace;background-color: #f0f8ff;border: 1px dotted black;border-radius: 0.25em;box-sizing: border-box;margin-bottom: 0.5em;}#sk-container-id-26 div.sk-estimator:hover {background-color: #d4ebff;}#sk-container-id-26 div.sk-parallel-item::after {content: \"\";width: 100%;border-bottom: 1px solid gray;flex-grow: 1;}#sk-container-id-26 div.sk-label:hover label.sk-toggleable__label {background-color: #d4ebff;}#sk-container-id-26 div.sk-serial::before {content: \"\";position: absolute;border-left: 1px solid gray;box-sizing: border-box;top: 0;bottom: 0;left: 50%;z-index: 0;}#sk-container-id-26 div.sk-serial {display: flex;flex-direction: column;align-items: center;background-color: white;padding-right: 0.2em;padding-left: 0.2em;position: relative;}#sk-container-id-26 div.sk-item {position: relative;z-index: 1;}#sk-container-id-26 div.sk-parallel {display: flex;align-items: stretch;justify-content: center;background-color: white;position: relative;}#sk-container-id-26 div.sk-item::before, #sk-container-id-26 div.sk-parallel-item::before {content: \"\";position: absolute;border-left: 1px solid gray;box-sizing: border-box;top: 0;bottom: 0;left: 50%;z-index: -1;}#sk-container-id-26 div.sk-parallel-item {display: flex;flex-direction: column;z-index: 1;position: relative;background-color: white;}#sk-container-id-26 div.sk-parallel-item:first-child::after {align-self: flex-end;width: 50%;}#sk-container-id-26 div.sk-parallel-item:last-child::after {align-self: flex-start;width: 50%;}#sk-container-id-26 div.sk-parallel-item:only-child::after {width: 0;}#sk-container-id-26 div.sk-dashed-wrapped {border: 1px dashed gray;margin: 0 0.4em 0.5em 0.4em;box-sizing: border-box;padding-bottom: 0.4em;background-color: white;}#sk-container-id-26 div.sk-label label {font-family: monospace;font-weight: bold;display: inline-block;line-height: 1.2em;}#sk-container-id-26 div.sk-label-container {text-align: center;}#sk-container-id-26 div.sk-container {/* jupyter's `normalize.less` sets `[hidden] { display: none; }` but bootstrap.min.css set `[hidden] { display: none !important; }` so we also need the `!important` here to be able to override the default hidden behavior on the sphinx rendered scikit-learn.org. See: https://github.com/scikit-learn/scikit-learn/issues/21755 */display: inline-block !important;position: relative;}#sk-container-id-26 div.sk-text-repr-fallback {display: none;}</style><div id=\"sk-container-id-26\" class=\"sk-top-container\"><div class=\"sk-text-repr-fallback\"><pre>GridSearchCV(cv=4,\n",
       "             estimator=XGBClassifier(base_score=None, booster=None,\n",
       "                                     callbacks=None, colsample_bylevel=None,\n",
       "                                     colsample_bynode=None,\n",
       "                                     colsample_bytree=None,\n",
       "                                     early_stopping_rounds=None,\n",
       "                                     enable_categorical=False, eval_metric=None,\n",
       "                                     feature_types=None, gamma=None,\n",
       "                                     gpu_id=None, grow_policy=None,\n",
       "                                     importance_type=None,\n",
       "                                     interaction_constraints=None,\n",
       "                                     learning_rate=None,...\n",
       "                                     missing=nan, monotone_constraints=None,\n",
       "                                     n_estimators=100, n_jobs=None,\n",
       "                                     num_parallel_tree=None, predictor=None,\n",
       "                                     random_state=None, ...),\n",
       "             n_jobs=-1,\n",
       "             param_grid={&#x27;colsample_bytree&#x27;: [0.3, 0.4, 0.5, 0.7, 0.9],\n",
       "                         &#x27;gamma&#x27;: [0.0, 0.1, 0.2, 0.3, 0.4],\n",
       "                         &#x27;learning_rate&#x27;: [0.03, 0.05, 0.1, 0.15],\n",
       "                         &#x27;max_depth&#x27;: [3, 4, 5, 6, 8, 10],\n",
       "                         &#x27;min_child_weight&#x27;: [1, 2, 3, 5],\n",
       "                         &#x27;n_estimators&#x27;: [50, 100, 300]},\n",
       "             scoring=&#x27;roc_auc&#x27;, verbose=3)</pre><b>In a Jupyter environment, please rerun this cell to show the HTML representation or trust the notebook. <br />On GitHub, the HTML representation is unable to render, please try loading this page with nbviewer.org.</b></div><div class=\"sk-container\" hidden><div class=\"sk-item sk-dashed-wrapped\"><div class=\"sk-label-container\"><div class=\"sk-label sk-toggleable\"><input class=\"sk-toggleable__control sk-hidden--visually\" id=\"sk-estimator-id-52\" type=\"checkbox\" ><label for=\"sk-estimator-id-52\" class=\"sk-toggleable__label sk-toggleable__label-arrow\">GridSearchCV</label><div class=\"sk-toggleable__content\"><pre>GridSearchCV(cv=4,\n",
       "             estimator=XGBClassifier(base_score=None, booster=None,\n",
       "                                     callbacks=None, colsample_bylevel=None,\n",
       "                                     colsample_bynode=None,\n",
       "                                     colsample_bytree=None,\n",
       "                                     early_stopping_rounds=None,\n",
       "                                     enable_categorical=False, eval_metric=None,\n",
       "                                     feature_types=None, gamma=None,\n",
       "                                     gpu_id=None, grow_policy=None,\n",
       "                                     importance_type=None,\n",
       "                                     interaction_constraints=None,\n",
       "                                     learning_rate=None,...\n",
       "                                     missing=nan, monotone_constraints=None,\n",
       "                                     n_estimators=100, n_jobs=None,\n",
       "                                     num_parallel_tree=None, predictor=None,\n",
       "                                     random_state=None, ...),\n",
       "             n_jobs=-1,\n",
       "             param_grid={&#x27;colsample_bytree&#x27;: [0.3, 0.4, 0.5, 0.7, 0.9],\n",
       "                         &#x27;gamma&#x27;: [0.0, 0.1, 0.2, 0.3, 0.4],\n",
       "                         &#x27;learning_rate&#x27;: [0.03, 0.05, 0.1, 0.15],\n",
       "                         &#x27;max_depth&#x27;: [3, 4, 5, 6, 8, 10],\n",
       "                         &#x27;min_child_weight&#x27;: [1, 2, 3, 5],\n",
       "                         &#x27;n_estimators&#x27;: [50, 100, 300]},\n",
       "             scoring=&#x27;roc_auc&#x27;, verbose=3)</pre></div></div></div><div class=\"sk-parallel\"><div class=\"sk-parallel-item\"><div class=\"sk-item\"><div class=\"sk-label-container\"><div class=\"sk-label sk-toggleable\"><input class=\"sk-toggleable__control sk-hidden--visually\" id=\"sk-estimator-id-53\" type=\"checkbox\" ><label for=\"sk-estimator-id-53\" class=\"sk-toggleable__label sk-toggleable__label-arrow\">estimator: XGBClassifier</label><div class=\"sk-toggleable__content\"><pre>XGBClassifier(base_score=None, booster=None, callbacks=None,\n",
       "              colsample_bylevel=None, colsample_bynode=None,\n",
       "              colsample_bytree=None, early_stopping_rounds=None,\n",
       "              enable_categorical=False, eval_metric=None, feature_types=None,\n",
       "              gamma=None, gpu_id=None, grow_policy=None, importance_type=None,\n",
       "              interaction_constraints=None, learning_rate=None, max_bin=None,\n",
       "              max_cat_threshold=None, max_cat_to_onehot=None,\n",
       "              max_delta_step=None, max_depth=None, max_leaves=None,\n",
       "              min_child_weight=None, missing=nan, monotone_constraints=None,\n",
       "              n_estimators=100, n_jobs=None, num_parallel_tree=None,\n",
       "              predictor=None, random_state=None, ...)</pre></div></div></div><div class=\"sk-serial\"><div class=\"sk-item\"><div class=\"sk-estimator sk-toggleable\"><input class=\"sk-toggleable__control sk-hidden--visually\" id=\"sk-estimator-id-54\" type=\"checkbox\" ><label for=\"sk-estimator-id-54\" class=\"sk-toggleable__label sk-toggleable__label-arrow\">XGBClassifier</label><div class=\"sk-toggleable__content\"><pre>XGBClassifier(base_score=None, booster=None, callbacks=None,\n",
       "              colsample_bylevel=None, colsample_bynode=None,\n",
       "              colsample_bytree=None, early_stopping_rounds=None,\n",
       "              enable_categorical=False, eval_metric=None, feature_types=None,\n",
       "              gamma=None, gpu_id=None, grow_policy=None, importance_type=None,\n",
       "              interaction_constraints=None, learning_rate=None, max_bin=None,\n",
       "              max_cat_threshold=None, max_cat_to_onehot=None,\n",
       "              max_delta_step=None, max_depth=None, max_leaves=None,\n",
       "              min_child_weight=None, missing=nan, monotone_constraints=None,\n",
       "              n_estimators=100, n_jobs=None, num_parallel_tree=None,\n",
       "              predictor=None, random_state=None, ...)</pre></div></div></div></div></div></div></div></div></div></div>"
      ],
      "text/plain": [
       "GridSearchCV(cv=4,\n",
       "             estimator=XGBClassifier(base_score=None, booster=None,\n",
       "                                     callbacks=None, colsample_bylevel=None,\n",
       "                                     colsample_bynode=None,\n",
       "                                     colsample_bytree=None,\n",
       "                                     early_stopping_rounds=None,\n",
       "                                     enable_categorical=False, eval_metric=None,\n",
       "                                     feature_types=None, gamma=None,\n",
       "                                     gpu_id=None, grow_policy=None,\n",
       "                                     importance_type=None,\n",
       "                                     interaction_constraints=None,\n",
       "                                     learning_rate=None,...\n",
       "                                     missing=nan, monotone_constraints=None,\n",
       "                                     n_estimators=100, n_jobs=None,\n",
       "                                     num_parallel_tree=None, predictor=None,\n",
       "                                     random_state=None, ...),\n",
       "             n_jobs=-1,\n",
       "             param_grid={'colsample_bytree': [0.3, 0.4, 0.5, 0.7, 0.9],\n",
       "                         'gamma': [0.0, 0.1, 0.2, 0.3, 0.4],\n",
       "                         'learning_rate': [0.03, 0.05, 0.1, 0.15],\n",
       "                         'max_depth': [3, 4, 5, 6, 8, 10],\n",
       "                         'min_child_weight': [1, 2, 3, 5],\n",
       "                         'n_estimators': [50, 100, 300]},\n",
       "             scoring='roc_auc', verbose=3)"
      ]
     },
     "execution_count": 595,
     "metadata": {},
     "output_type": "execute_result"
    }
   ],
   "source": [
    "XG_grid = GridSearchCV(xgboost_classifier,\n",
    "                        param_grid=params,\n",
    "                        scoring='roc_auc',\n",
    "                        n_jobs=-1,\n",
    "                        cv=4,\n",
    "                        verbose=3)\n",
    "\n",
    "#model fitting\n",
    "XG_grid.fit(X,y)"
   ]
  },
  {
   "cell_type": "code",
   "execution_count": 596,
   "id": "8d3d8710-7f0d-4044-99d2-381dd9b8aaf3",
   "metadata": {},
   "outputs": [
    {
     "data": {
      "text/html": [
       "<style>#sk-container-id-27 {color: black;background-color: white;}#sk-container-id-27 pre{padding: 0;}#sk-container-id-27 div.sk-toggleable {background-color: white;}#sk-container-id-27 label.sk-toggleable__label {cursor: pointer;display: block;width: 100%;margin-bottom: 0;padding: 0.3em;box-sizing: border-box;text-align: center;}#sk-container-id-27 label.sk-toggleable__label-arrow:before {content: \"▸\";float: left;margin-right: 0.25em;color: #696969;}#sk-container-id-27 label.sk-toggleable__label-arrow:hover:before {color: black;}#sk-container-id-27 div.sk-estimator:hover label.sk-toggleable__label-arrow:before {color: black;}#sk-container-id-27 div.sk-toggleable__content {max-height: 0;max-width: 0;overflow: hidden;text-align: left;background-color: #f0f8ff;}#sk-container-id-27 div.sk-toggleable__content pre {margin: 0.2em;color: black;border-radius: 0.25em;background-color: #f0f8ff;}#sk-container-id-27 input.sk-toggleable__control:checked~div.sk-toggleable__content {max-height: 200px;max-width: 100%;overflow: auto;}#sk-container-id-27 input.sk-toggleable__control:checked~label.sk-toggleable__label-arrow:before {content: \"▾\";}#sk-container-id-27 div.sk-estimator input.sk-toggleable__control:checked~label.sk-toggleable__label {background-color: #d4ebff;}#sk-container-id-27 div.sk-label input.sk-toggleable__control:checked~label.sk-toggleable__label {background-color: #d4ebff;}#sk-container-id-27 input.sk-hidden--visually {border: 0;clip: rect(1px 1px 1px 1px);clip: rect(1px, 1px, 1px, 1px);height: 1px;margin: -1px;overflow: hidden;padding: 0;position: absolute;width: 1px;}#sk-container-id-27 div.sk-estimator {font-family: monospace;background-color: #f0f8ff;border: 1px dotted black;border-radius: 0.25em;box-sizing: border-box;margin-bottom: 0.5em;}#sk-container-id-27 div.sk-estimator:hover {background-color: #d4ebff;}#sk-container-id-27 div.sk-parallel-item::after {content: \"\";width: 100%;border-bottom: 1px solid gray;flex-grow: 1;}#sk-container-id-27 div.sk-label:hover label.sk-toggleable__label {background-color: #d4ebff;}#sk-container-id-27 div.sk-serial::before {content: \"\";position: absolute;border-left: 1px solid gray;box-sizing: border-box;top: 0;bottom: 0;left: 50%;z-index: 0;}#sk-container-id-27 div.sk-serial {display: flex;flex-direction: column;align-items: center;background-color: white;padding-right: 0.2em;padding-left: 0.2em;position: relative;}#sk-container-id-27 div.sk-item {position: relative;z-index: 1;}#sk-container-id-27 div.sk-parallel {display: flex;align-items: stretch;justify-content: center;background-color: white;position: relative;}#sk-container-id-27 div.sk-item::before, #sk-container-id-27 div.sk-parallel-item::before {content: \"\";position: absolute;border-left: 1px solid gray;box-sizing: border-box;top: 0;bottom: 0;left: 50%;z-index: -1;}#sk-container-id-27 div.sk-parallel-item {display: flex;flex-direction: column;z-index: 1;position: relative;background-color: white;}#sk-container-id-27 div.sk-parallel-item:first-child::after {align-self: flex-end;width: 50%;}#sk-container-id-27 div.sk-parallel-item:last-child::after {align-self: flex-start;width: 50%;}#sk-container-id-27 div.sk-parallel-item:only-child::after {width: 0;}#sk-container-id-27 div.sk-dashed-wrapped {border: 1px dashed gray;margin: 0 0.4em 0.5em 0.4em;box-sizing: border-box;padding-bottom: 0.4em;background-color: white;}#sk-container-id-27 div.sk-label label {font-family: monospace;font-weight: bold;display: inline-block;line-height: 1.2em;}#sk-container-id-27 div.sk-label-container {text-align: center;}#sk-container-id-27 div.sk-container {/* jupyter's `normalize.less` sets `[hidden] { display: none; }` but bootstrap.min.css set `[hidden] { display: none !important; }` so we also need the `!important` here to be able to override the default hidden behavior on the sphinx rendered scikit-learn.org. See: https://github.com/scikit-learn/scikit-learn/issues/21755 */display: inline-block !important;position: relative;}#sk-container-id-27 div.sk-text-repr-fallback {display: none;}</style><div id=\"sk-container-id-27\" class=\"sk-top-container\"><div class=\"sk-text-repr-fallback\"><pre>XGBClassifier(base_score=None, booster=None, callbacks=None,\n",
       "              colsample_bylevel=None, colsample_bynode=None,\n",
       "              colsample_bytree=0.5, early_stopping_rounds=None,\n",
       "              enable_categorical=False, eval_metric=None, feature_types=None,\n",
       "              gamma=0.3, gpu_id=None, grow_policy=None, importance_type=None,\n",
       "              interaction_constraints=None, learning_rate=0.05, max_bin=None,\n",
       "              max_cat_threshold=None, max_cat_to_onehot=None,\n",
       "              max_delta_step=None, max_depth=5, max_leaves=None,\n",
       "              min_child_weight=3, missing=nan, monotone_constraints=None,\n",
       "              n_estimators=50, n_jobs=None, num_parallel_tree=None,\n",
       "              predictor=None, random_state=None, ...)</pre><b>In a Jupyter environment, please rerun this cell to show the HTML representation or trust the notebook. <br />On GitHub, the HTML representation is unable to render, please try loading this page with nbviewer.org.</b></div><div class=\"sk-container\" hidden><div class=\"sk-item\"><div class=\"sk-estimator sk-toggleable\"><input class=\"sk-toggleable__control sk-hidden--visually\" id=\"sk-estimator-id-55\" type=\"checkbox\" checked><label for=\"sk-estimator-id-55\" class=\"sk-toggleable__label sk-toggleable__label-arrow\">XGBClassifier</label><div class=\"sk-toggleable__content\"><pre>XGBClassifier(base_score=None, booster=None, callbacks=None,\n",
       "              colsample_bylevel=None, colsample_bynode=None,\n",
       "              colsample_bytree=0.5, early_stopping_rounds=None,\n",
       "              enable_categorical=False, eval_metric=None, feature_types=None,\n",
       "              gamma=0.3, gpu_id=None, grow_policy=None, importance_type=None,\n",
       "              interaction_constraints=None, learning_rate=0.05, max_bin=None,\n",
       "              max_cat_threshold=None, max_cat_to_onehot=None,\n",
       "              max_delta_step=None, max_depth=5, max_leaves=None,\n",
       "              min_child_weight=3, missing=nan, monotone_constraints=None,\n",
       "              n_estimators=50, n_jobs=None, num_parallel_tree=None,\n",
       "              predictor=None, random_state=None, ...)</pre></div></div></div></div></div>"
      ],
      "text/plain": [
       "XGBClassifier(base_score=None, booster=None, callbacks=None,\n",
       "              colsample_bylevel=None, colsample_bynode=None,\n",
       "              colsample_bytree=0.5, early_stopping_rounds=None,\n",
       "              enable_categorical=False, eval_metric=None, feature_types=None,\n",
       "              gamma=0.3, gpu_id=None, grow_policy=None, importance_type=None,\n",
       "              interaction_constraints=None, learning_rate=0.05, max_bin=None,\n",
       "              max_cat_threshold=None, max_cat_to_onehot=None,\n",
       "              max_delta_step=None, max_depth=5, max_leaves=None,\n",
       "              min_child_weight=3, missing=nan, monotone_constraints=None,\n",
       "              n_estimators=50, n_jobs=None, num_parallel_tree=None,\n",
       "              predictor=None, random_state=None, ...)"
      ]
     },
     "execution_count": 596,
     "metadata": {},
     "output_type": "execute_result"
    }
   ],
   "source": [
    "# best parameters selected\n",
    "best_grid_xgboost = XG_grid.best_estimator_\n",
    "best_grid_xgboost"
   ]
  },
  {
   "cell_type": "code",
   "execution_count": 597,
   "id": "cd6e3358-9e1c-4b41-bd1a-a7c38632cb0e",
   "metadata": {},
   "outputs": [
    {
     "name": "stdout",
     "output_type": "stream",
     "text": [
      "Train cross validation scores: [0.84137709 0.82770745 0.82003955 0.90519568 0.81978233]\n",
      "Tests cross validation scores: [0.91142857 0.88636364 0.8013468  0.82102273 0.97321429]\n"
     ]
    }
   ],
   "source": [
    "from sklearn.model_selection import cross_val_score, KFold\n",
    "\n",
    "score=cross_val_score(best_grid_xgboost,X_train, y_train, cv=KFold(shuffle=True), scoring='roc_auc')\n",
    "print('Train cross validation scores:',score)\n",
    "\n",
    "score=cross_val_score(best_grid_xgboost,X_test, y_test, cv=KFold(shuffle=True), scoring='roc_auc')\n",
    "print('Tests cross validation scores:',score)"
   ]
  },
  {
   "cell_type": "code",
   "execution_count": 598,
   "id": "d69e48f6-c43f-4b85-b5b4-956802d87ccb",
   "metadata": {},
   "outputs": [
    {
     "name": "stdout",
     "output_type": "stream",
     "text": [
      "model score on training data: 0.8888888888888888\n",
      "model score on testing data: 0.9114583333333334\n"
     ]
    }
   ],
   "source": [
    "print(f'model score on training data: {best_grid_xgboost.score(X_train, y_train)}')\n",
    "print(f'model score on testing data: {best_grid_xgboost.score(X_test, y_test)}')"
   ]
  },
  {
   "cell_type": "code",
   "execution_count": 599,
   "id": "49d39cc4-32d7-4e2b-ac79-cbb817791560",
   "metadata": {},
   "outputs": [
    {
     "data": {
      "image/png": "[encoded data removed]",
      "text/plain": [
       "<Figure size 640x480 with 2 Axes>"
      ]
     },
     "metadata": {},
     "output_type": "display_data"
    },
    {
     "name": "stdout",
     "output_type": "stream",
     "text": [
      "              precision    recall  f1-score   support\n",
      "\n",
      "         0.0       0.92      0.94      0.93       126\n",
      "         1.0       0.89      0.85      0.87        66\n",
      "\n",
      "    accuracy                           0.91       192\n",
      "   macro avg       0.91      0.90      0.90       192\n",
      "weighted avg       0.91      0.91      0.91       192\n",
      "\n"
     ]
    }
   ],
   "source": [
    "y_pred = best_grid_xgboost.predict(X_test)\n",
    "y_proba = best_grid_xgboost.predict_proba(X_test)\n",
    "\n",
    "plot_confusion_matrix(y_test,y_pred)\n",
    "print(classification_report(y_test, y_pred))"
   ]
  },
  {
   "cell_type": "code",
   "execution_count": 603,
   "id": "27c199e3-993e-4bc7-9839-57793f4f869d",
   "metadata": {},
   "outputs": [
    {
     "name": "stdout",
     "output_type": "stream",
     "text": [
      "\n",
      "******** For i = 0.05 ******\n",
      "Our testing accuracy is 0.34375\n",
      "[[  0 126]\n",
      " [  0  66]]\n",
      "\n",
      "******** For i = 0.1 ******\n",
      "Our testing accuracy is 0.5885416666666666\n",
      "[[47 79]\n",
      " [ 0 66]]\n",
      "\n",
      "******** For i = 0.15 ******\n",
      "Our testing accuracy is 0.6822916666666666\n",
      "[[65 61]\n",
      " [ 0 66]]\n",
      "\n",
      "******** For i = 0.2 ******\n",
      "Our testing accuracy is 0.7291666666666666\n",
      "[[74 52]\n",
      " [ 0 66]]\n",
      "\n",
      "******** For i = 0.25 ******\n",
      "Our testing accuracy is 0.7760416666666666\n",
      "[[84 42]\n",
      " [ 1 65]]\n",
      "\n",
      "******** For i = 0.3 ******\n",
      "Our testing accuracy is 0.828125\n",
      "[[95 31]\n",
      " [ 2 64]]\n",
      "\n",
      "******** For i = 0.35 ******\n",
      "Our testing accuracy is 0.8541666666666666\n",
      "[[101  25]\n",
      " [  3  63]]\n",
      "\n",
      "******** For i = 0.4 ******\n",
      "Our testing accuracy is 0.890625\n",
      "[[109  17]\n",
      " [  4  62]]\n",
      "\n",
      "******** For i = 0.45 ******\n",
      "Our testing accuracy is 0.9010416666666666\n",
      "[[113  13]\n",
      " [  6  60]]\n",
      "\n",
      "******** For i = 0.5 ******\n",
      "Our testing accuracy is 0.9114583333333334\n",
      "[[119   7]\n",
      " [ 10  56]]\n",
      "\n",
      "******** For i = 0.55 ******\n",
      "Our testing accuracy is 0.921875\n",
      "[[124   2]\n",
      " [ 13  53]]\n",
      "\n",
      "******** For i = 0.6 ******\n",
      "Our testing accuracy is 0.90625\n",
      "[[125   1]\n",
      " [ 17  49]]\n",
      "\n",
      "******** For i = 0.65 ******\n",
      "Our testing accuracy is 0.8541666666666666\n",
      "[[125   1]\n",
      " [ 27  39]]\n",
      "\n",
      "******** For i = 0.7 ******\n",
      "Our testing accuracy is 0.828125\n",
      "[[125   1]\n",
      " [ 32  34]]\n",
      "\n",
      "******** For i = 0.75 ******\n",
      "Our testing accuracy is 0.7864583333333334\n",
      "[[125   1]\n",
      " [ 40  26]]\n",
      "\n",
      "******** For i = 0.8 ******\n",
      "Our testing accuracy is 0.7604166666666666\n",
      "[[126   0]\n",
      " [ 46  20]]\n",
      "\n",
      "******** For i = 0.85 ******\n",
      "Our testing accuracy is 0.6875\n",
      "[[126   0]\n",
      " [ 60   6]]\n",
      "\n",
      "******** For i = 0.9 ******\n",
      "Our testing accuracy is 0.65625\n",
      "[[126   0]\n",
      " [ 66   0]]\n",
      "\n",
      "******** For i = 0.95 ******\n",
      "Our testing accuracy is 0.65625\n",
      "[[126   0]\n",
      " [ 66   0]]\n",
      "\n",
      "******** For i = 0.99 ******\n",
      "Our testing accuracy is 0.65625\n",
      "[[126   0]\n",
      " [ 66   0]]\n"
     ]
    }
   ],
   "source": [
    "thresholds_tests (X_test, y_test, best_grid_xgboost)"
   ]
  },
  {
   "cell_type": "markdown",
   "id": "4ae161c7-f4c1-499f-af68-03af0970c80a",
   "metadata": {},
   "source": [
    "Conclusion - XGBoost gives us the best model by a big margin\n",
    "Though surprisingly the random search worked much better then the grid search, for the same hyperparametrs"
   ]
  },
  {
   "cell_type": "markdown",
   "id": "d763d2d9-6aa0-47a5-bc9e-2099663abee7",
   "metadata": {},
   "source": [
    "## Making sure we have a stable Recall rate "
   ]
  },
  {
   "cell_type": "markdown",
   "id": "2bee8065-a628-48c9-83ca-4404cbbff77a",
   "metadata": {},
   "source": [
    "The best threshold value we find for minimum recall is 0.34 on the Random Search tuned XGBoost"
   ]
  },
  {
   "cell_type": "markdown",
   "id": "8c4d3363-bf29-4d4a-bf9b-f22f8974ea99",
   "metadata": {},
   "source": [
    "GBClassifier(base_score=None, booster=None, callbacks=None,\n",
    "              colsample_bylevel=None, colsample_bynode=None,\n",
    "              colsample_bytree=0.9, early_stopping_rounds=None,\n",
    "              enable_categorical=False, eval_metric=None, feature_types=None,\n",
    "              gamma=0.2, gpu_id=None, grow_policy=None, importance_type=None,\n",
    "              interaction_constraints=None, learning_rate=0.05, max_bin=None,\n",
    "              max_cat_threshold=None, max_cat_to_onehot=None,\n",
    "              max_delta_step=None, max_depth=8, max_leaves=None,\n",
    "              min_child_weight=3, missing=nan, monotone_constraints=None,\n",
    "              n_estimators=100, n_jobs=None, num_parallel_tree=None,\n",
    "              predictor=None, random_state=None, ...)"
   ]
  },
  {
   "cell_type": "code",
   "execution_count": 701,
   "id": "f2e90bff-230c-4927-a652-2fbd35bde700",
   "metadata": {},
   "outputs": [
    {
     "name": "stdout",
     "output_type": "stream",
     "text": [
      "The testing accuracy is 0.9479166666666666\n"
     ]
    }
   ],
   "source": [
    "y_pred=manual_threshold_model(0.34, X_test, y_test, best_random_xgboost)"
   ]
  },
  {
   "cell_type": "code",
   "execution_count": 702,
   "id": "1142cb4d-ff09-4832-b122-ce155b7af06e",
   "metadata": {},
   "outputs": [
    {
     "data": {
      "image/png": "[encoded data removed]",
      "text/plain": [
       "<Figure size 960x720 with 2 Axes>"
      ]
     },
     "metadata": {},
     "output_type": "display_data"
    }
   ],
   "source": [
    "plot_confusion_matrix(y_test,y_pred)"
   ]
  },
  {
   "cell_type": "code",
   "execution_count": 703,
   "id": "e1bd4cc0-c81a-44c4-b30a-68f84ac0356b",
   "metadata": {},
   "outputs": [
    {
     "name": "stdout",
     "output_type": "stream",
     "text": [
      "              precision    recall  f1-score   support\n",
      "\n",
      "         0.0       1.00      0.92      0.96       126\n",
      "         1.0       0.87      1.00      0.93        66\n",
      "\n",
      "    accuracy                           0.95       192\n",
      "   macro avg       0.93      0.96      0.94       192\n",
      "weighted avg       0.95      0.95      0.95       192\n",
      "\n"
     ]
    }
   ],
   "source": [
    "print(classification_report(y_test, y_pred))"
   ]
  },
  {
   "cell_type": "code",
   "execution_count": 653,
   "id": "c9e4d66b-5272-499b-b6cf-20f8e0531c5c",
   "metadata": {},
   "outputs": [
    {
     "data": {
      "text/plain": [
       "0.87"
      ]
     },
     "execution_count": 653,
     "metadata": {},
     "output_type": "execute_result"
    }
   ],
   "source": [
    "recall = float(classification_report(y_test, y_pred)[137:141])\n",
    "recall\n",
    "precision = float(classification_report(y_test, y_pred)[128:132])\n",
    "precision"
   ]
  },
  {
   "cell_type": "code",
   "execution_count": 657,
   "id": "9acf47e8-5594-468b-b492-990bccf768e5",
   "metadata": {},
   "outputs": [],
   "source": [
    "def recall_precision_calc(X, Y, model, threshold):\n",
    "    y_pred=manual_threshold_model(0.34, X, Y, best_random_xgboost)\n",
    "    recall = float(classification_report(Y, y_pred)[137:141])\n",
    "    precision = float(classification_report(y_test, y_pred)[128:132])\n",
    "    \n",
    "    return recall, precision"
   ]
  },
  {
   "cell_type": "code",
   "execution_count": 658,
   "id": "a9790efc-f45c-4b74-a1f6-bbdaabbce1c6",
   "metadata": {},
   "outputs": [
    {
     "name": "stdout",
     "output_type": "stream",
     "text": [
      "The testing accuracy is 0.9479166666666666\n"
     ]
    },
    {
     "data": {
      "text/plain": [
       "(1.0, 0.87)"
      ]
     },
     "execution_count": 658,
     "metadata": {},
     "output_type": "execute_result"
    }
   ],
   "source": [
    "recall_precision_calc(X=X_test, Y=y_test, model=best_random_xgboost, threshold=0.34)"
   ]
  },
  {
   "cell_type": "markdown",
   "id": "d899e2fc-6049-4d2c-9905-c3b1f16c4a11",
   "metadata": {},
   "source": [
    "# Plot the results"
   ]
  },
  {
   "cell_type": "code",
   "execution_count": null,
   "id": "9c52f0cf-f4f0-468b-b6f5-f9331e838181",
   "metadata": {},
   "outputs": [],
   "source": [
    "# model_dict = {\n",
    "#     'Simple LogReg':\n",
    "#     'Tuned LogReg':\n",
    "#     'Tunded RidgeClass':\n",
    "#     'Simple RandomForest':\n",
    "#     'Tuned RandomForest':\n",
    "#     'Simple XGBoost':\n",
    "#     'RandSearch XGBoost':\n",
    "#     'Grid XGBoost':1.00,0.87\n",
    "#              }"
   ]
  },
  {
   "cell_type": "code",
   "execution_count": 704,
   "id": "f1e166bb-571d-4d36-86be-f891366ad0f2",
   "metadata": {},
   "outputs": [
    {
     "data": {
      "image/png": "[encoded data removed]",
      "text/plain": [
       "<Figure size 900x600 with 1 Axes>"
      ]
     },
     "metadata": {},
     "output_type": "display_data"
    }
   ],
   "source": [
    "fpr, tpr, _ = roc_curve(y_test,y_proba[:,1])\n",
    "\n",
    "plt.figure(figsize=(9, 6), dpi = 100)\n",
    "plot = sns.lineplot(x=fpr, y=tpr, linewidth = 3) \n",
    "plot.set_xlabel(\"False positive\", fontsize=22)\n",
    "plot.set_ylabel(\"True Positive\", fontsize=22)\n",
    "plot.tick_params(labelsize=17)\n",
    "plt.savefig('ROC', transparent=True, bbox_inches='tight')\n",
    "plt.show() "
   ]
  },
  {
   "cell_type": "code",
   "execution_count": 705,
   "id": "03c999a8-3167-455b-9167-299f5f39b064",
   "metadata": {},
   "outputs": [
    {
     "data": {
      "image/png": "[encoded data removed]",
      "text/plain": [
       "<Figure size 640x480 with 1 Axes>"
      ]
     },
     "metadata": {},
     "output_type": "display_data"
    }
   ],
   "source": [
    "precision, recall, thresholds = precision_recall_curve(y_test,y_proba[:,1])\n",
    "\n",
    "plot = sns.lineplot(x=recall, y=precision)\n",
    "plot.set_xlabel('Recall')\n",
    "plot.set_ylabel('Precision')\n",
    "plt.show()"
   ]
  },
  {
   "cell_type": "markdown",
   "id": "b04067a8-8948-4179-bf33-e709bc498e2f",
   "metadata": {},
   "source": [
    "# *The End*"
   ]
  },
  {
   "cell_type": "code",
   "execution_count": null,
   "id": "7e28b7f4-48f4-4b2e-91c0-1cbb3aff1866",
   "metadata": {},
   "outputs": [],
   "source": []
  }
 ],
 "metadata": {
  "kernelspec": {
   "display_name": "Python 3 (ipykernel)",
   "language": "python",
   "name": "python3"
  },
  "language_info": {
   "codemirror_mode": {
    "name": "ipython",
    "version": 3
   },
   "file_extension": ".py",
   "mimetype": "text/x-python",
   "name": "python",
   "nbconvert_exporter": "python",
   "pygments_lexer": "ipython3",
   "version": "3.10.8"
  }
 },
 "nbformat": 4,
 "nbformat_minor": 5
}
