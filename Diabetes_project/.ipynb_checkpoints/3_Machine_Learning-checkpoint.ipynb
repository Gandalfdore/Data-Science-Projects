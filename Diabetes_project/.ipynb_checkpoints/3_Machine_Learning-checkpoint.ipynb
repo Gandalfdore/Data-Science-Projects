{
 "cells": [
  {
   "cell_type": "markdown",
   "id": "d63ec66d-5364-4445-8fca-32a3d7af2e1f",
   "metadata": {},
   "source": [
    "<h1 align=center><font size = 5><b>Diabetes prediction project</b></font></h1>"
   ]
  },
  {
   "cell_type": "markdown",
   "id": "fc798f6f-c20e-40ef-a409-168e7ba3bf48",
   "metadata": {},
   "source": [
    "<h3 align=center><font size = 3><b>A project by Boris Y. Nedyalkov</b></font></h3>\n",
    "<h3 align=center><font size = 3>With data from https://www.kaggle.com/datasets/akshaydattatraykhare/diabetes-dataset</font></h3>"
   ]
  },
  {
   "cell_type": "markdown",
   "id": "77592876-51fe-4a5a-b6ee-0553b231d573",
   "metadata": {},
   "source": [
    "<center> <img src=\"https://maldita.es/uploads/images/2021/11/618e89365f697edittowfiqu-barbhuiya-zjak9jqxeda-unsplash-jpg.jpg\" width=700, height=700 /></center> "
   ]
  },
  {
   "cell_type": "markdown",
   "id": "49a9f5d1-3a9e-4b23-a3b5-4a76c2abe5ad",
   "metadata": {},
   "source": [
    "Image source: https://maldita.es/malditaciencia/20221114/preguntas-respuestas-diabetes/"
   ]
  },
  {
   "cell_type": "markdown",
   "id": "60176db6-c7e5-49e0-981f-f1b26dad03ef",
   "metadata": {},
   "source": [
    "### Notes:\n",
    "\n",
    "* The data had many missing values, whcih were replaced by mean od KNN ML algorithm\n",
    "* The data most likely refers to diabetes type 2 patients due to the insulin levels seen in part 2 of the project"
   ]
  },
  {
   "cell_type": "code",
   "execution_count": 16,
   "id": "a328029b-bc2c-465d-b6e3-08f3825d92b5",
   "metadata": {},
   "outputs": [],
   "source": [
    "import pandas as pd\n",
    "import matplotlib.pyplot as plt\n",
    "import seaborn as sns\n",
    "import numpy as np\n",
    "from sklearn.model_selection import GridSearchCV\n",
    "from sklearn import preprocessing\n",
    "from sklearn.model_selection import train_test_split\n",
    "%matplotlib inline"
   ]
  },
  {
   "cell_type": "code",
   "execution_count": 11,
   "id": "e5dcf6c9-75a0-402c-8d8a-f647e3eaf5ce",
   "metadata": {},
   "outputs": [],
   "source": [
    "df = pd.read_csv(\"data_prepared_for_ML.csv\")"
   ]
  },
  {
   "cell_type": "code",
   "execution_count": 12,
   "id": "3b92bcdc-aace-4aee-88be-557b9a45198c",
   "metadata": {},
   "outputs": [
    {
     "data": {
      "text/html": [
       "<div>\n",
       "<style scoped>\n",
       "    .dataframe tbody tr th:only-of-type {\n",
       "        vertical-align: middle;\n",
       "    }\n",
       "\n",
       "    .dataframe tbody tr th {\n",
       "        vertical-align: top;\n",
       "    }\n",
       "\n",
       "    .dataframe thead th {\n",
       "        text-align: right;\n",
       "    }\n",
       "</style>\n",
       "<table border=\"1\" class=\"dataframe\">\n",
       "  <thead>\n",
       "    <tr style=\"text-align: right;\">\n",
       "      <th></th>\n",
       "      <th>Pregnancies</th>\n",
       "      <th>Glucose</th>\n",
       "      <th>BloodPressure</th>\n",
       "      <th>SkinThickness</th>\n",
       "      <th>Insulin</th>\n",
       "      <th>BMI</th>\n",
       "      <th>DiabetesPedigreeFunction</th>\n",
       "      <th>Age</th>\n",
       "      <th>Outcome</th>\n",
       "    </tr>\n",
       "  </thead>\n",
       "  <tbody>\n",
       "    <tr>\n",
       "      <th>0</th>\n",
       "      <td>6.0</td>\n",
       "      <td>148.0</td>\n",
       "      <td>72.0</td>\n",
       "      <td>35.0</td>\n",
       "      <td>334.2</td>\n",
       "      <td>33.6</td>\n",
       "      <td>0.627</td>\n",
       "      <td>50.0</td>\n",
       "      <td>1.0</td>\n",
       "    </tr>\n",
       "    <tr>\n",
       "      <th>1</th>\n",
       "      <td>1.0</td>\n",
       "      <td>85.0</td>\n",
       "      <td>66.0</td>\n",
       "      <td>29.0</td>\n",
       "      <td>56.2</td>\n",
       "      <td>26.6</td>\n",
       "      <td>0.351</td>\n",
       "      <td>31.0</td>\n",
       "      <td>0.0</td>\n",
       "    </tr>\n",
       "    <tr>\n",
       "      <th>2</th>\n",
       "      <td>8.0</td>\n",
       "      <td>183.0</td>\n",
       "      <td>64.0</td>\n",
       "      <td>32.2</td>\n",
       "      <td>238.0</td>\n",
       "      <td>23.3</td>\n",
       "      <td>0.672</td>\n",
       "      <td>32.0</td>\n",
       "      <td>1.0</td>\n",
       "    </tr>\n",
       "    <tr>\n",
       "      <th>3</th>\n",
       "      <td>1.0</td>\n",
       "      <td>89.0</td>\n",
       "      <td>66.0</td>\n",
       "      <td>23.0</td>\n",
       "      <td>94.0</td>\n",
       "      <td>28.1</td>\n",
       "      <td>0.167</td>\n",
       "      <td>21.0</td>\n",
       "      <td>0.0</td>\n",
       "    </tr>\n",
       "    <tr>\n",
       "      <th>4</th>\n",
       "      <td>0.0</td>\n",
       "      <td>137.0</td>\n",
       "      <td>40.0</td>\n",
       "      <td>35.0</td>\n",
       "      <td>168.0</td>\n",
       "      <td>43.1</td>\n",
       "      <td>2.288</td>\n",
       "      <td>33.0</td>\n",
       "      <td>1.0</td>\n",
       "    </tr>\n",
       "    <tr>\n",
       "      <th>...</th>\n",
       "      <td>...</td>\n",
       "      <td>...</td>\n",
       "      <td>...</td>\n",
       "      <td>...</td>\n",
       "      <td>...</td>\n",
       "      <td>...</td>\n",
       "      <td>...</td>\n",
       "      <td>...</td>\n",
       "      <td>...</td>\n",
       "    </tr>\n",
       "    <tr>\n",
       "      <th>763</th>\n",
       "      <td>10.0</td>\n",
       "      <td>101.0</td>\n",
       "      <td>76.0</td>\n",
       "      <td>48.0</td>\n",
       "      <td>180.0</td>\n",
       "      <td>32.9</td>\n",
       "      <td>0.171</td>\n",
       "      <td>63.0</td>\n",
       "      <td>0.0</td>\n",
       "    </tr>\n",
       "    <tr>\n",
       "      <th>764</th>\n",
       "      <td>2.0</td>\n",
       "      <td>122.0</td>\n",
       "      <td>70.0</td>\n",
       "      <td>27.0</td>\n",
       "      <td>150.0</td>\n",
       "      <td>36.8</td>\n",
       "      <td>0.340</td>\n",
       "      <td>27.0</td>\n",
       "      <td>0.0</td>\n",
       "    </tr>\n",
       "    <tr>\n",
       "      <th>765</th>\n",
       "      <td>5.0</td>\n",
       "      <td>121.0</td>\n",
       "      <td>72.0</td>\n",
       "      <td>23.0</td>\n",
       "      <td>112.0</td>\n",
       "      <td>26.2</td>\n",
       "      <td>0.245</td>\n",
       "      <td>30.0</td>\n",
       "      <td>0.0</td>\n",
       "    </tr>\n",
       "    <tr>\n",
       "      <th>766</th>\n",
       "      <td>1.0</td>\n",
       "      <td>126.0</td>\n",
       "      <td>60.0</td>\n",
       "      <td>26.4</td>\n",
       "      <td>122.4</td>\n",
       "      <td>30.1</td>\n",
       "      <td>0.349</td>\n",
       "      <td>47.0</td>\n",
       "      <td>1.0</td>\n",
       "    </tr>\n",
       "    <tr>\n",
       "      <th>767</th>\n",
       "      <td>1.0</td>\n",
       "      <td>93.0</td>\n",
       "      <td>70.0</td>\n",
       "      <td>31.0</td>\n",
       "      <td>72.4</td>\n",
       "      <td>30.4</td>\n",
       "      <td>0.315</td>\n",
       "      <td>23.0</td>\n",
       "      <td>0.0</td>\n",
       "    </tr>\n",
       "  </tbody>\n",
       "</table>\n",
       "<p>768 rows × 9 columns</p>\n",
       "</div>"
      ],
      "text/plain": [
       "     Pregnancies  Glucose  BloodPressure  SkinThickness  Insulin   BMI  \\\n",
       "0            6.0    148.0           72.0           35.0    334.2  33.6   \n",
       "1            1.0     85.0           66.0           29.0     56.2  26.6   \n",
       "2            8.0    183.0           64.0           32.2    238.0  23.3   \n",
       "3            1.0     89.0           66.0           23.0     94.0  28.1   \n",
       "4            0.0    137.0           40.0           35.0    168.0  43.1   \n",
       "..           ...      ...            ...            ...      ...   ...   \n",
       "763         10.0    101.0           76.0           48.0    180.0  32.9   \n",
       "764          2.0    122.0           70.0           27.0    150.0  36.8   \n",
       "765          5.0    121.0           72.0           23.0    112.0  26.2   \n",
       "766          1.0    126.0           60.0           26.4    122.4  30.1   \n",
       "767          1.0     93.0           70.0           31.0     72.4  30.4   \n",
       "\n",
       "     DiabetesPedigreeFunction   Age  Outcome  \n",
       "0                       0.627  50.0      1.0  \n",
       "1                       0.351  31.0      0.0  \n",
       "2                       0.672  32.0      1.0  \n",
       "3                       0.167  21.0      0.0  \n",
       "4                       2.288  33.0      1.0  \n",
       "..                        ...   ...      ...  \n",
       "763                     0.171  63.0      0.0  \n",
       "764                     0.340  27.0      0.0  \n",
       "765                     0.245  30.0      0.0  \n",
       "766                     0.349  47.0      1.0  \n",
       "767                     0.315  23.0      0.0  \n",
       "\n",
       "[768 rows x 9 columns]"
      ]
     },
     "execution_count": 12,
     "metadata": {},
     "output_type": "execute_result"
    }
   ],
   "source": [
    "df"
   ]
  },
  {
   "cell_type": "markdown",
   "id": "a799602e-6b10-48fa-ab93-a44894bcc14a",
   "metadata": {},
   "source": [
    "### Split and normalize the data set"
   ]
  },
  {
   "cell_type": "code",
   "execution_count": 45,
   "id": "d9122bbd-b172-4e49-b050-000f6e7c94e5",
   "metadata": {},
   "outputs": [],
   "source": [
    "y = df['Outcome'].values\n",
    "X_df = df.drop(['Outcome'], axis=1)\n",
    "X = X_df.values"
   ]
  },
  {
   "cell_type": "code",
   "execution_count": 46,
   "id": "3abe8412-cf7b-4d99-bc60-bcf1621b085c",
   "metadata": {},
   "outputs": [],
   "source": [
    "# standardize features \n",
    "X = preprocessing.StandardScaler().fit(X).transform(X.astype(float))\n",
    "\n",
    "# normalize the data\n",
    "# X = preprocessing.normalize(X, norm=\"l1\") # if normalization is needed"
   ]
  },
  {
   "cell_type": "code",
   "execution_count": 47,
   "id": "b85aa72e-5b6c-41db-aedd-6011f507c14e",
   "metadata": {},
   "outputs": [
    {
     "name": "stdout",
     "output_type": "stream",
     "text": [
      "Train set: (576, 8) (576,)\n",
      "Test set: (192, 8) (192,)\n"
     ]
    }
   ],
   "source": [
    "X_train, X_test, y_train, y_test = train_test_split(X, y, test_size=0.25, random_state=4, shuffle=True)\n",
    "print ('Train set:', X_train.shape,  y_train.shape)\n",
    "print ('Test set:', X_test.shape,  y_test.shape)"
   ]
  },
  {
   "cell_type": "markdown",
   "id": "75237d7b-3a3d-43d7-b80e-7e170becdbc0",
   "metadata": {},
   "source": [
    "## ML with Logistic Regression"
   ]
  },
  {
   "cell_type": "markdown",
   "id": "5ff0b89a-4171-45bd-ac0b-b35d08fc5812",
   "metadata": {},
   "source": [
    "### Logistic regression (untuned)"
   ]
  },
  {
   "cell_type": "code",
   "execution_count": 138,
   "id": "7223c0e3-b789-4640-ba7b-e9ddec4df37f",
   "metadata": {},
   "outputs": [],
   "source": [
    "# import the classes\n",
    "from sklearn.linear_model import LogisticRegression\n",
    "from sklearn.metrics import roc_auc_score\n",
    "from sklearn.metrics import classification_report\n",
    "\n",
    "# instantiate the model (using the default parameters)\n",
    "logreg = LogisticRegression(random_state=16, class_weight='balanced')\n",
    "\n",
    "# fit the model with data\n",
    "logreg.fit(X_train, y_train)\n",
    "\n",
    "y_pred = logreg.predict(X_test)\n",
    "y_proba = logreg.predict_proba(X_test)"
   ]
  },
  {
   "cell_type": "code",
   "execution_count": 139,
   "id": "1db39fe8-eeca-4a69-b8a6-4898fcc6bd72",
   "metadata": {},
   "outputs": [
    {
     "name": "stdout",
     "output_type": "stream",
     "text": [
      "LR's Train Accuracy:  0.7690972222222222\n",
      "LR's Test Accuracy:  0.78125\n"
     ]
    }
   ],
   "source": [
    "print(\"LR's Train Accuracy: \", logreg.score(X_train, y_train))\n",
    "print(\"LR's Test Accuracy: \", logreg.score(X_test, y_test))"
   ]
  },
  {
   "cell_type": "code",
   "execution_count": 140,
   "id": "20ff04f7-754a-4d17-865b-9abd0a8d26fc",
   "metadata": {},
   "outputs": [],
   "source": [
    "def plot_confusion_matrix(y,y_predict):\n",
    "    \"this function plots the confusion matrix\"\n",
    "    from sklearn.metrics import confusion_matrix\n",
    "\n",
    "    cm = confusion_matrix(y, y_predict)\n",
    "    ax= plt.subplot()\n",
    "    sns.heatmap(cm, annot=True, ax = ax); #annot=True to annotate cells\n",
    "    ax.set_xlabel('Predicted labels')\n",
    "    ax.set_ylabel('True labels')\n",
    "    ax.set_title('Confusion Matrix'); \n",
    "    #ax.xaxis.set_ticklabels(['did not land', 'land']); ax.yaxis.set_ticklabels(['did not land', 'landed']) \n",
    "    plt.show() \n",
    "    "
   ]
  },
  {
   "cell_type": "code",
   "execution_count": 141,
   "id": "2dd53a5a-66f2-44a9-a00f-c3c402379e2b",
   "metadata": {},
   "outputs": [
    {
     "data": {
      "image/png": "[encoded data removed]",
      "text/plain": [
       "<Figure size 640x480 with 2 Axes>"
      ]
     },
     "metadata": {},
     "output_type": "display_data"
    }
   ],
   "source": [
    "plot_confusion_matrix(y_test,y_pred)"
   ]
  },
  {
   "cell_type": "code",
   "execution_count": 142,
   "id": "8504ca4b-a220-4377-830c-90412b20ebd5",
   "metadata": {},
   "outputs": [
    {
     "name": "stdout",
     "output_type": "stream",
     "text": [
      "              precision    recall  f1-score   support\n",
      "\n",
      "         0.0       0.86      0.79      0.83       126\n",
      "         1.0       0.66      0.76      0.70        66\n",
      "\n",
      "    accuracy                           0.78       192\n",
      "   macro avg       0.76      0.78      0.77       192\n",
      "weighted avg       0.79      0.78      0.78       192\n",
      "\n"
     ]
    }
   ],
   "source": [
    "print(classification_report(y_test, y_pred))"
   ]
  },
  {
   "cell_type": "code",
   "execution_count": 143,
   "id": "f62e9122-3106-4439-9ddb-944c517918d7",
   "metadata": {},
   "outputs": [
    {
     "data": {
      "text/plain": [
       "0.7756132756132756"
      ]
     },
     "execution_count": 143,
     "metadata": {},
     "output_type": "execute_result"
    }
   ],
   "source": [
    "roc_auc_score(y_test,y_pred)"
   ]
  },
  {
   "cell_type": "code",
   "execution_count": 144,
   "id": "b3afa53c-86e4-47c5-9636-875d38f476f4",
   "metadata": {},
   "outputs": [],
   "source": [
    "from sklearn.metrics import roc_curve, accuracy_score, confusion_matrix, precision_recall_curve"
   ]
  },
  {
   "cell_type": "code",
   "execution_count": 145,
   "id": "4ec5db6a-9926-4635-8a34-b3144dcbc83b",
   "metadata": {},
   "outputs": [
    {
     "data": {
      "image/png": "[encoded data removed]",
      "text/plain": [
       "<Figure size 640x480 with 1 Axes>"
      ]
     },
     "metadata": {},
     "output_type": "display_data"
    }
   ],
   "source": [
    "precision, recall, thresholds = precision_recall_curve(y_test,y_proba[:,1])\n",
    "# print('Precision:',precision,'\\n',\n",
    "#      'Recall:',recall,'\\n',\n",
    "#      'Threshold:',thresholds)\n",
    "\n",
    "plot = sns.scatterplot(x=recall, y=precision)\n",
    "plot.set_xlabel('Recall')\n",
    "plot.set_ylabel('Precision')\n",
    "plt.show()"
   ]
  },
  {
   "cell_type": "code",
   "execution_count": 146,
   "id": "524941dd-9335-4ab0-b1a5-681c33fd13a8",
   "metadata": {},
   "outputs": [],
   "source": [
    "fpr, tpr, _ = roc_curve(y_test,y_proba[:,1])"
   ]
  },
  {
   "cell_type": "code",
   "execution_count": 147,
   "id": "08dcec9c-6e06-4214-8bc5-81f87ca921af",
   "metadata": {},
   "outputs": [
    {
     "data": {
      "image/png": "[encoded data removed]",
      "text/plain": [
       "<Figure size 640x480 with 1 Axes>"
      ]
     },
     "metadata": {},
     "output_type": "display_data"
    }
   ],
   "source": [
    "plot = sns.scatterplot(x=fpr, y=tpr)\n",
    "plot.set_xlabel('False positive')\n",
    "plot.set_ylabel('True Positive')\n",
    "plt.show()"
   ]
  },
  {
   "cell_type": "code",
   "execution_count": 148,
   "id": "4c4131ca-c2a8-4c41-89ef-08c815a6d2a4",
   "metadata": {},
   "outputs": [
    {
     "name": "stdout",
     "output_type": "stream",
     "text": [
      "\n",
      "******** For i = 0.05 ******\n",
      "Our testing accuracy is 0.3697916666666667\n",
      "[[  5 121]\n",
      " [  0  66]]\n",
      "\n",
      "******** For i = 0.1 ******\n",
      "Our testing accuracy is 0.484375\n",
      "[[27 99]\n",
      " [ 0 66]]\n",
      "\n",
      "******** For i = 0.15 ******\n",
      "Our testing accuracy is 0.59375\n",
      "[[48 78]\n",
      " [ 0 66]]\n",
      "\n",
      "******** For i = 0.2 ******\n",
      "Our testing accuracy is 0.6510416666666666\n",
      "[[60 66]\n",
      " [ 1 65]]\n",
      "\n",
      "******** For i = 0.25 ******\n",
      "Our testing accuracy is 0.6822916666666666\n",
      "[[67 59]\n",
      " [ 2 64]]\n",
      "\n",
      "******** For i = 0.3 ******\n",
      "Our testing accuracy is 0.6927083333333334\n",
      "[[72 54]\n",
      " [ 5 61]]\n",
      "\n",
      "******** For i = 0.35 ******\n",
      "Our testing accuracy is 0.71875\n",
      "[[80 46]\n",
      " [ 8 58]]\n",
      "\n",
      "******** For i = 0.4 ******\n",
      "Our testing accuracy is 0.7291666666666666\n",
      "[[83 43]\n",
      " [ 9 57]]\n",
      "\n",
      "******** For i = 0.45 ******\n",
      "Our testing accuracy is 0.7447916666666666\n",
      "[[92 34]\n",
      " [15 51]]\n",
      "\n",
      "******** For i = 0.5 ******\n",
      "Our testing accuracy is 0.78125\n",
      "[[100  26]\n",
      " [ 16  50]]\n",
      "\n",
      "******** For i = 0.55 ******\n",
      "Our testing accuracy is 0.7916666666666666\n",
      "[[104  22]\n",
      " [ 18  48]]\n",
      "\n",
      "******** For i = 0.6 ******\n",
      "Our testing accuracy is 0.796875\n",
      "[[107  19]\n",
      " [ 20  46]]\n",
      "\n",
      "******** For i = 0.65 ******\n",
      "Our testing accuracy is 0.8020833333333334\n",
      "[[110  16]\n",
      " [ 22  44]]\n",
      "\n",
      "******** For i = 0.7 ******\n",
      "Our testing accuracy is 0.8072916666666666\n",
      "[[112  14]\n",
      " [ 23  43]]\n",
      "\n",
      "******** For i = 0.75 ******\n",
      "Our testing accuracy is 0.8229166666666666\n",
      "[[117   9]\n",
      " [ 25  41]]\n",
      "\n",
      "******** For i = 0.8 ******\n",
      "Our testing accuracy is 0.8072916666666666\n",
      "[[120   6]\n",
      " [ 31  35]]\n",
      "\n",
      "******** For i = 0.85 ******\n",
      "Our testing accuracy is 0.8072916666666666\n",
      "[[123   3]\n",
      " [ 34  32]]\n",
      "\n",
      "******** For i = 0.9 ******\n",
      "Our testing accuracy is 0.75\n",
      "[[123   3]\n",
      " [ 45  21]]\n",
      "\n",
      "******** For i = 0.95 ******\n",
      "Our testing accuracy is 0.6927083333333334\n",
      "[[125   1]\n",
      " [ 58   8]]\n",
      "\n",
      "******** For i = 0.99 ******\n",
      "Our testing accuracy is 0.6510416666666666\n",
      "[[125   1]\n",
      " [ 66   0]]\n"
     ]
    }
   ],
   "source": [
    "pred_proba_df = pd.DataFrame(logreg.predict_proba(X_test))\n",
    "threshold_list = [0.05,0.1,0.15,0.2,0.25,0.3,0.35,0.4,0.45,0.5,0.55,0.6,0.65,.7,.75,.8,.85,.9,.95,.99]\n",
    "y_test = pd.DataFrame(y_test)\n",
    "for i in threshold_list:\n",
    "    print ('\\n******** For i = {} ******'.format(i))\n",
    "    y_test_pred = pred_proba_df.applymap(lambda x: 1 if x>i else 0)\n",
    "    test_accuracy = accuracy_score(y_test.values.reshape(Y_test.values.size,1),\n",
    "                                           y_test_pred.iloc[:,1].values.reshape(y_test_pred.iloc[:,1].values.size,1))\n",
    "    print('Our testing accuracy is {}'.format(test_accuracy))\n",
    "\n",
    "    print(confusion_matrix(y_test.values.reshape(y_test.values.size,1),\n",
    "                           y_test_pred.iloc[:,1].values.reshape(y_test_pred.iloc[:,1].values.size,1)))"
   ]
  },
  {
   "cell_type": "code",
   "execution_count": 153,
   "id": "2b535171-485c-433e-9abf-2f8b3be02ee7",
   "metadata": {},
   "outputs": [],
   "source": [
    "def manual_threshold_model(threshold_val):\n",
    "    \n",
    "    y_test_pred = pred_proba_df.applymap(lambda x: 1 if x>threshold_val else 0)\n",
    "    test_accuracy = accuracy_score(y_test.values.reshape(Y_test.values.size,1),\n",
    "                                           y_test_pred.iloc[:,1].values.reshape(y_test_pred.iloc[:,1].values.size,1))\n",
    "    print('The testing accuracy is {}'.format(test_accuracy))\n",
    "    \n",
    "    y_pred = y_test_pred.iloc[:,1].values.reshape(y_test_pred.iloc[:,1].values.size,1)\n",
    "\n",
    "    return y_pred#y_test.values.reshape(y_test.values.size,1),"
   ]
  },
  {
   "cell_type": "code",
   "execution_count": 165,
   "id": "53d7653c-cf4f-461d-9bfd-405588465ab0",
   "metadata": {},
   "outputs": [
    {
     "name": "stdout",
     "output_type": "stream",
     "text": [
      "The testing accuracy is 0.6458333333333334\n"
     ]
    },
    {
     "data": {
      "image/png": "[encoded data removed]",
      "text/plain": [
       "<Figure size 640x480 with 2 Axes>"
      ]
     },
     "metadata": {},
     "output_type": "display_data"
    }
   ],
   "source": [
    "y_pred=manual_threshold_model(threshold_val=0.192)\n",
    "plot_confusion_matrix(y_test,y_pred)"
   ]
  },
  {
   "cell_type": "markdown",
   "id": "5937fe0f-8460-425f-ab0b-2765396a453d",
   "metadata": {},
   "source": [
    "### Hyperparameter tuning of Logistic Regression"
   ]
  },
  {
   "cell_type": "code",
   "execution_count": 166,
   "id": "e3459155-de97-4b64-908a-7007db3e8283",
   "metadata": {},
   "outputs": [],
   "source": [
    "from sklearn.model_selection import RepeatedStratifiedKFold\n",
    "from sklearn.model_selection import GridSearchCV"
   ]
  },
  {
   "cell_type": "code",
   "execution_count": 167,
   "id": "336a8981-2dfd-4516-bdd7-45434fcdda00",
   "metadata": {},
   "outputs": [
    {
     "name": "stdout",
     "output_type": "stream",
     "text": [
      "Best: 0.836317 using {'C': 0.1, 'penalty': 'l2', 'solver': 'liblinear'}\n",
      "0.834370 (0.032907) with: {'C': 100, 'penalty': 'l2', 'solver': 'newton-cg'}\n",
      "0.834392 (0.032921) with: {'C': 100, 'penalty': 'l2', 'solver': 'lbfgs'}\n",
      "0.834370 (0.032907) with: {'C': 100, 'penalty': 'l2', 'solver': 'liblinear'}\n",
      "0.834347 (0.032945) with: {'C': 10, 'penalty': 'l2', 'solver': 'newton-cg'}\n",
      "0.834347 (0.032945) with: {'C': 10, 'penalty': 'l2', 'solver': 'lbfgs'}\n",
      "0.834392 (0.032949) with: {'C': 10, 'penalty': 'l2', 'solver': 'liblinear'}\n",
      "0.834614 (0.032949) with: {'C': 1.0, 'penalty': 'l2', 'solver': 'newton-cg'}\n",
      "0.834614 (0.032949) with: {'C': 1.0, 'penalty': 'l2', 'solver': 'lbfgs'}\n",
      "0.834614 (0.033003) with: {'C': 1.0, 'penalty': 'l2', 'solver': 'liblinear'}\n",
      "0.836273 (0.032011) with: {'C': 0.1, 'penalty': 'l2', 'solver': 'newton-cg'}\n",
      "0.836273 (0.032011) with: {'C': 0.1, 'penalty': 'l2', 'solver': 'lbfgs'}\n",
      "0.836317 (0.032028) with: {'C': 0.1, 'penalty': 'l2', 'solver': 'liblinear'}\n",
      "0.833965 (0.029441) with: {'C': 0.01, 'penalty': 'l2', 'solver': 'newton-cg'}\n",
      "0.833965 (0.029441) with: {'C': 0.01, 'penalty': 'l2', 'solver': 'lbfgs'}\n",
      "0.834030 (0.029462) with: {'C': 0.01, 'penalty': 'l2', 'solver': 'liblinear'}\n"
     ]
    }
   ],
   "source": [
    "model = LogisticRegression()\n",
    "solvers = ['newton-cg', 'lbfgs', 'liblinear']\n",
    "penalty = ['l2','l1']\n",
    "c_values = [100, 10, 1.0, 0.1, 0.01]\n",
    "\n",
    "# define grid search\n",
    "grid = dict(solver=solvers,penalty=penalty,C=c_values)\n",
    "cv = RepeatedStratifiedKFold(n_splits=5, n_repeats=3, random_state=1)\n",
    "grid_search = GridSearchCV(estimator=model, param_grid=grid, n_jobs=-1, cv=cv, scoring='roc_auc',error_score=0)\n",
    "grid_result = grid_search.fit(X_train, y_train)\n",
    "\n",
    "# summarize results\n",
    "print(\"Best: %f using %s\" % (grid_result.best_score_, grid_result.best_params_))\n",
    "means = grid_result.cv_results_['mean_test_score']\n",
    "stds = grid_result.cv_results_['std_test_score']\n",
    "params = grid_result.cv_results_['params']\n",
    "for mean, stdev, param in zip(means, stds, params):\n",
    "    print(\"%f (%f) with: %r\" % (mean, stdev, param))"
   ]
  },
  {
   "cell_type": "code",
   "execution_count": null,
   "id": "0ac9b5af-21e2-4c43-8c3b-85777ea6ed85",
   "metadata": {},
   "outputs": [],
   "source": []
  },
  {
   "cell_type": "markdown",
   "id": "522b2bf0-d535-440c-8393-f0d21ce79550",
   "metadata": {},
   "source": [
    "### Hyperparameter tuning of Ridge Classifier"
   ]
  },
  {
   "cell_type": "code",
   "execution_count": 169,
   "id": "6a656b9c-2fbf-4a31-aa6b-7c19393493eb",
   "metadata": {},
   "outputs": [],
   "source": [
    "from sklearn.linear_model import RidgeClassifier"
   ]
  },
  {
   "cell_type": "code",
   "execution_count": 172,
   "id": "b47f1913-8e0e-4a6c-ba0a-f403a09028e7",
   "metadata": {},
   "outputs": [
    {
     "name": "stdout",
     "output_type": "stream",
     "text": [
      "Best: 0.834681 using {'alpha': 0.5}\n",
      "0.834549 (0.033621) with: {'alpha': 0.1}\n",
      "0.834549 (0.033645) with: {'alpha': 0.2}\n",
      "0.834637 (0.033662) with: {'alpha': 0.3}\n",
      "0.834659 (0.033686) with: {'alpha': 0.4}\n",
      "0.834681 (0.033708) with: {'alpha': 0.5}\n",
      "0.834659 (0.033710) with: {'alpha': 0.6}\n",
      "0.834637 (0.033719) with: {'alpha': 0.7}\n",
      "0.834615 (0.033735) with: {'alpha': 0.8}\n",
      "0.834637 (0.033722) with: {'alpha': 0.9}\n",
      "0.834659 (0.033732) with: {'alpha': 1.0}\n"
     ]
    }
   ],
   "source": [
    "model = RidgeClassifier()\n",
    "alpha = [0.1, 0.2, 0.3, 0.4, 0.5, 0.6, 0.7, 0.8, 0.9, 1.0]\n",
    "\n",
    "# define grid search\n",
    "grid = dict(alpha=alpha)\n",
    "cv = RepeatedStratifiedKFold(n_splits=5, n_repeats=3, random_state=1)\n",
    "grid_search = GridSearchCV(estimator=model, param_grid=grid, n_jobs=-1, cv=cv, scoring='roc_auc',error_score=0)\n",
    "grid_result = grid_search.fit(X_train, y_train)\n",
    "\n",
    "# summarize results\n",
    "print(\"Best: %f using %s\" % (grid_result.best_score_, grid_result.best_params_))\n",
    "means = grid_result.cv_results_['mean_test_score']\n",
    "stds = grid_result.cv_results_['std_test_score']\n",
    "params = grid_result.cv_results_['params']\n",
    "for mean, stdev, param in zip(means, stds, params):\n",
    "    print(\"%f (%f) with: %r\" % (mean, stdev, param))"
   ]
  },
  {
   "cell_type": "code",
   "execution_count": null,
   "id": "05d3a76e-ce89-45e3-b30d-42723624ce69",
   "metadata": {},
   "outputs": [],
   "source": []
  }
 ],
 "metadata": {
  "kernelspec": {
   "display_name": "Python 3 (ipykernel)",
   "language": "python",
   "name": "python3"
  },
  "language_info": {
   "codemirror_mode": {
    "name": "ipython",
    "version": 3
   },
   "file_extension": ".py",
   "mimetype": "text/x-python",
   "name": "python",
   "nbconvert_exporter": "python",
   "pygments_lexer": "ipython3",
   "version": "3.10.8"
  }
 },
 "nbformat": 4,
 "nbformat_minor": 5
}
