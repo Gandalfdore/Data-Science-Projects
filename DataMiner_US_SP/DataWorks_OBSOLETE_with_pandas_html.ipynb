{
 "cells": [
  {
   "cell_type": "markdown",
   "id": "fae64fc6-f70a-4d7e-baa9-898b3babfc61",
   "metadata": {},
   "source": [
    "# Data mining of statistics from OECD on the countries of USA and Spain"
   ]
  },
  {
   "cell_type": "markdown",
   "id": "9dbcd98e-0ca3-4f4b-bd50-5b3603fac6e2",
   "metadata": {},
   "source": [
    "**Source: https://data.oecd.org/**"
   ]
  },
  {
   "cell_type": "code",
   "execution_count": 300,
   "id": "26a48ab5-5194-4a48-a2fb-069f03398992",
   "metadata": {},
   "outputs": [],
   "source": [
    "import pandas as pd\n",
    "import requests\n",
    "from bs4 import BeautifulSoup\n",
    "import urllib3\n",
    "import ssl\n",
    "import re"
   ]
  },
  {
   "cell_type": "markdown",
   "id": "8495798f-c19b-439b-9b11-2c9d4ab19f28",
   "metadata": {},
   "source": [
    "**In case that the server doesn't support \"RFC 5746 secure renegotiation\" and the client is using OpenSSL 3, one needs to:**\n",
    "\n",
    "Source: https://stackoverflow.com/questions/71603314/ssl-error-unsafe-legacy-renegotiation-disabled"
   ]
  },
  {
   "cell_type": "code",
   "execution_count": 301,
   "id": "1bb2596a-04e4-462b-877d-d0fd984f8409",
   "metadata": {},
   "outputs": [],
   "source": [
    "class CustomHttpAdapter (requests.adapters.HTTPAdapter):\n",
    "    # \"Transport adapter\" that allows us to use custom ssl_context.\n",
    "\n",
    "    def __init__(self, ssl_context=None, **kwargs):\n",
    "        self.ssl_context = ssl_context\n",
    "        super().__init__(**kwargs)\n",
    "\n",
    "    def init_poolmanager(self, connections, maxsize, block=False):\n",
    "        self.poolmanager = urllib3.poolmanager.PoolManager(\n",
    "            num_pools=connections, maxsize=maxsize,\n",
    "            block=block, ssl_context=self.ssl_context)\n",
    "\n",
    "\n",
    "def get_legacy_session():\n",
    "    ctx = ssl.create_default_context(ssl.Purpose.SERVER_AUTH)\n",
    "    ctx.options |= 0x4  # OP_LEGACY_SERVER_CONNECT\n",
    "    session = requests.session()\n",
    "    session.mount('https://', CustomHttpAdapter(ctx))\n",
    "    return session"
   ]
  },
  {
   "cell_type": "code",
   "execution_count": 302,
   "id": "7d6999dd-6838-4005-9de4-6ffcc3e2ad0b",
   "metadata": {},
   "outputs": [],
   "source": [
    "url_usa = \"https://data.oecd.org/united-states.htm\"\n",
    "url_spain = \"https://data.oecd.org/spain.htm\""
   ]
  },
  {
   "cell_type": "code",
   "execution_count": 303,
   "id": "7bab22e5-edbd-4656-b733-15a226a52e08",
   "metadata": {},
   "outputs": [],
   "source": [
    "html_data_usa = get_legacy_session().get(url_usa).text\n",
    "html_data_spain  = get_legacy_session().get(url_spain).text"
   ]
  },
  {
   "cell_type": "code",
   "execution_count": 304,
   "id": "67bd5776-3c36-42ad-a9ab-b67a3effa74d",
   "metadata": {},
   "outputs": [],
   "source": [
    "soup_usa = BeautifulSoup(html_data_usa, 'html')\n",
    "soup_spain = BeautifulSoup(html_data_spain, 'html')"
   ]
  },
  {
   "cell_type": "code",
   "execution_count": 400,
   "id": "dd2d4f43-58f5-44b7-a9d7-d3261b7c0a8e",
   "metadata": {},
   "outputs": [],
   "source": [
    "read_html_pandas_data_usa = pd.read_html(str(soup_usa))\n",
    "read_html_pandas_data_spain = pd.read_html(str(soup_spain))"
   ]
  },
  {
   "cell_type": "code",
   "execution_count": 69,
   "id": "bc5fd2d2-7b37-4a92-b667-ad93ac80caa0",
   "metadata": {},
   "outputs": [],
   "source": [
    "table0usa = read_html_pandas_data_usa[1]"
   ]
  },
  {
   "cell_type": "code",
   "execution_count": 70,
   "id": "aa9a5fda-0667-44dc-904b-ce7aba6fb982",
   "metadata": {},
   "outputs": [
    {
     "data": {
      "text/html": [
       "<div>\n",
       "<style scoped>\n",
       "    .dataframe tbody tr th:only-of-type {\n",
       "        vertical-align: middle;\n",
       "    }\n",
       "\n",
       "    .dataframe tbody tr th {\n",
       "        vertical-align: top;\n",
       "    }\n",
       "\n",
       "    .dataframe thead th {\n",
       "        text-align: right;\n",
       "    }\n",
       "</style>\n",
       "<table border=\"1\" class=\"dataframe\">\n",
       "  <thead>\n",
       "    <tr style=\"text-align: right;\">\n",
       "      <th></th>\n",
       "      <th>Development</th>\n",
       "      <th>Development.1</th>\n",
       "      <th>Latest</th>\n",
       "      <th>Trend</th>\n",
       "      <th>Ranking</th>\n",
       "    </tr>\n",
       "  </thead>\n",
       "  <tbody>\n",
       "    <tr>\n",
       "      <th>0</th>\n",
       "      <td>Distribution of net ODAIndicator</td>\n",
       "      <td>NaN</td>\n",
       "      <td>11 808.8 Least developed countries Million US ...</td>\n",
       "      <td>Least developed countries Million US dollars 2...</td>\n",
       "      <td>Least developed countries Million US dollars 2...</td>\n",
       "    </tr>\n",
       "    <tr>\n",
       "      <th>1</th>\n",
       "      <td>Grants by private agencies and NGOsIndicator</td>\n",
       "      <td>NaN</td>\n",
       "      <td>4 953.0 Total Million US dollars 2021 United S...</td>\n",
       "      <td>Total Million US dollars 2002-2021 United Stat...</td>\n",
       "      <td>NaN</td>\n",
       "    </tr>\n",
       "    <tr>\n",
       "      <th>2</th>\n",
       "      <td>Net ODAIndicator</td>\n",
       "      <td>NaN</td>\n",
       "      <td>0.2 ODA grant equivalent % of gross national i...</td>\n",
       "      <td>ODA grant equivalent % of gross national incom...</td>\n",
       "      <td>ODA grant equivalent % of gross national incom...</td>\n",
       "    </tr>\n",
       "    <tr>\n",
       "      <th>3</th>\n",
       "      <td>Private flowsIndicator</td>\n",
       "      <td>NaN</td>\n",
       "      <td>159 212.2 Total Million US dollars 2021 United...</td>\n",
       "      <td>Total Million US dollars 2002-2021 United Stat...</td>\n",
       "      <td>Total Million US dollars 2020 United States (r...</td>\n",
       "    </tr>\n",
       "    <tr>\n",
       "      <th>4</th>\n",
       "      <td>Total official and private flowsIndicator</td>\n",
       "      <td>NaN</td>\n",
       "      <td>229 521.9 Total Million US dollars 2021 United...</td>\n",
       "      <td>Total Million US dollars 2002-2021 United Stat...</td>\n",
       "      <td>Total Million US dollars 2021 United States (r...</td>\n",
       "    </tr>\n",
       "  </tbody>\n",
       "</table>\n",
       "</div>"
      ],
      "text/plain": [
       "                                    Development  Development.1  \\\n",
       "0              Distribution of net ODAIndicator            NaN   \n",
       "1  Grants by private agencies and NGOsIndicator            NaN   \n",
       "2                              Net ODAIndicator            NaN   \n",
       "3                        Private flowsIndicator            NaN   \n",
       "4     Total official and private flowsIndicator            NaN   \n",
       "\n",
       "                                              Latest  \\\n",
       "0  11 808.8 Least developed countries Million US ...   \n",
       "1  4 953.0 Total Million US dollars 2021 United S...   \n",
       "2  0.2 ODA grant equivalent % of gross national i...   \n",
       "3  159 212.2 Total Million US dollars 2021 United...   \n",
       "4  229 521.9 Total Million US dollars 2021 United...   \n",
       "\n",
       "                                               Trend  \\\n",
       "0  Least developed countries Million US dollars 2...   \n",
       "1  Total Million US dollars 2002-2021 United Stat...   \n",
       "2  ODA grant equivalent % of gross national incom...   \n",
       "3  Total Million US dollars 2002-2021 United Stat...   \n",
       "4  Total Million US dollars 2002-2021 United Stat...   \n",
       "\n",
       "                                             Ranking  \n",
       "0  Least developed countries Million US dollars 2...  \n",
       "1                                                NaN  \n",
       "2  ODA grant equivalent % of gross national incom...  \n",
       "3  Total Million US dollars 2020 United States (r...  \n",
       "4  Total Million US dollars 2021 United States (r...  "
      ]
     },
     "execution_count": 70,
     "metadata": {},
     "output_type": "execute_result"
    }
   ],
   "source": [
    "table0usa"
   ]
  },
  {
   "cell_type": "code",
   "execution_count": 79,
   "id": "a525abd9-22b3-4503-bbe4-b914ec067078",
   "metadata": {},
   "outputs": [
    {
     "data": {
      "text/plain": [
       "'Development'"
      ]
     },
     "execution_count": 79,
     "metadata": {},
     "output_type": "execute_result"
    }
   ],
   "source": [
    "table0usa.columns.values.tolist()[0]"
   ]
  },
  {
   "cell_type": "code",
   "execution_count": 71,
   "id": "ad6d9e60-a3bb-429e-b52e-8a0d0048494b",
   "metadata": {},
   "outputs": [
    {
     "data": {
      "text/html": [
       "<div>\n",
       "<style scoped>\n",
       "    .dataframe tbody tr th:only-of-type {\n",
       "        vertical-align: middle;\n",
       "    }\n",
       "\n",
       "    .dataframe tbody tr th {\n",
       "        vertical-align: top;\n",
       "    }\n",
       "\n",
       "    .dataframe thead th {\n",
       "        text-align: right;\n",
       "    }\n",
       "</style>\n",
       "<table border=\"1\" class=\"dataframe\">\n",
       "  <thead>\n",
       "    <tr style=\"text-align: right;\">\n",
       "      <th></th>\n",
       "      <th>Development</th>\n",
       "      <th>Latest</th>\n",
       "    </tr>\n",
       "  </thead>\n",
       "  <tbody>\n",
       "    <tr>\n",
       "      <th>0</th>\n",
       "      <td>Distribution of net ODAIndicator</td>\n",
       "      <td>11 808.8 Least developed countries Million US ...</td>\n",
       "    </tr>\n",
       "    <tr>\n",
       "      <th>1</th>\n",
       "      <td>Grants by private agencies and NGOsIndicator</td>\n",
       "      <td>4 953.0 Total Million US dollars 2021 United S...</td>\n",
       "    </tr>\n",
       "    <tr>\n",
       "      <th>2</th>\n",
       "      <td>Net ODAIndicator</td>\n",
       "      <td>0.2 ODA grant equivalent % of gross national i...</td>\n",
       "    </tr>\n",
       "    <tr>\n",
       "      <th>3</th>\n",
       "      <td>Private flowsIndicator</td>\n",
       "      <td>159 212.2 Total Million US dollars 2021 United...</td>\n",
       "    </tr>\n",
       "    <tr>\n",
       "      <th>4</th>\n",
       "      <td>Total official and private flowsIndicator</td>\n",
       "      <td>229 521.9 Total Million US dollars 2021 United...</td>\n",
       "    </tr>\n",
       "  </tbody>\n",
       "</table>\n",
       "</div>"
      ],
      "text/plain": [
       "                                    Development  \\\n",
       "0              Distribution of net ODAIndicator   \n",
       "1  Grants by private agencies and NGOsIndicator   \n",
       "2                              Net ODAIndicator   \n",
       "3                        Private flowsIndicator   \n",
       "4     Total official and private flowsIndicator   \n",
       "\n",
       "                                              Latest  \n",
       "0  11 808.8 Least developed countries Million US ...  \n",
       "1  4 953.0 Total Million US dollars 2021 United S...  \n",
       "2  0.2 ODA grant equivalent % of gross national i...  \n",
       "3  159 212.2 Total Million US dollars 2021 United...  \n",
       "4  229 521.9 Total Million US dollars 2021 United...  "
      ]
     },
     "execution_count": 71,
     "metadata": {},
     "output_type": "execute_result"
    }
   ],
   "source": [
    "newtable = table0usa.drop(table0usa.columns[[1,3,4]], axis=1)\n",
    "newtable"
   ]
  },
  {
   "cell_type": "code",
   "execution_count": 72,
   "id": "3a747a05-868d-42da-a243-0a6c2ed3846f",
   "metadata": {},
   "outputs": [
    {
     "data": {
      "text/html": [
       "<div>\n",
       "<style scoped>\n",
       "    .dataframe tbody tr th:only-of-type {\n",
       "        vertical-align: middle;\n",
       "    }\n",
       "\n",
       "    .dataframe tbody tr th {\n",
       "        vertical-align: top;\n",
       "    }\n",
       "\n",
       "    .dataframe thead th {\n",
       "        text-align: right;\n",
       "    }\n",
       "</style>\n",
       "<table border=\"1\" class=\"dataframe\">\n",
       "  <thead>\n",
       "    <tr style=\"text-align: right;\">\n",
       "      <th></th>\n",
       "      <th>Development</th>\n",
       "      <th>Indicator for USA</th>\n",
       "    </tr>\n",
       "  </thead>\n",
       "  <tbody>\n",
       "    <tr>\n",
       "      <th>0</th>\n",
       "      <td>Distribution of net ODAIndicator</td>\n",
       "      <td>11 808.8 Least developed countries Million US ...</td>\n",
       "    </tr>\n",
       "    <tr>\n",
       "      <th>1</th>\n",
       "      <td>Grants by private agencies and NGOsIndicator</td>\n",
       "      <td>4 953.0 Total Million US dollars 2021 United S...</td>\n",
       "    </tr>\n",
       "    <tr>\n",
       "      <th>2</th>\n",
       "      <td>Net ODAIndicator</td>\n",
       "      <td>0.2 ODA grant equivalent % of gross national i...</td>\n",
       "    </tr>\n",
       "    <tr>\n",
       "      <th>3</th>\n",
       "      <td>Private flowsIndicator</td>\n",
       "      <td>159 212.2 Total Million US dollars 2021 United...</td>\n",
       "    </tr>\n",
       "    <tr>\n",
       "      <th>4</th>\n",
       "      <td>Total official and private flowsIndicator</td>\n",
       "      <td>229 521.9 Total Million US dollars 2021 United...</td>\n",
       "    </tr>\n",
       "  </tbody>\n",
       "</table>\n",
       "</div>"
      ],
      "text/plain": [
       "                                    Development  \\\n",
       "0              Distribution of net ODAIndicator   \n",
       "1  Grants by private agencies and NGOsIndicator   \n",
       "2                              Net ODAIndicator   \n",
       "3                        Private flowsIndicator   \n",
       "4     Total official and private flowsIndicator   \n",
       "\n",
       "                                   Indicator for USA  \n",
       "0  11 808.8 Least developed countries Million US ...  \n",
       "1  4 953.0 Total Million US dollars 2021 United S...  \n",
       "2  0.2 ODA grant equivalent % of gross national i...  \n",
       "3  159 212.2 Total Million US dollars 2021 United...  \n",
       "4  229 521.9 Total Million US dollars 2021 United...  "
      ]
     },
     "execution_count": 72,
     "metadata": {},
     "output_type": "execute_result"
    }
   ],
   "source": [
    "newtable.rename(columns = { newtable.columns[1]: \"Indicator for USA\" }, inplace = True)\n",
    "newtable"
   ]
  },
  {
   "cell_type": "code",
   "execution_count": 77,
   "id": "442f903d-02e0-4707-9da7-8f86910e8384",
   "metadata": {},
   "outputs": [
    {
     "data": {
      "text/html": [
       "<div>\n",
       "<style scoped>\n",
       "    .dataframe tbody tr th:only-of-type {\n",
       "        vertical-align: middle;\n",
       "    }\n",
       "\n",
       "    .dataframe tbody tr th {\n",
       "        vertical-align: top;\n",
       "    }\n",
       "\n",
       "    .dataframe thead th {\n",
       "        text-align: right;\n",
       "    }\n",
       "</style>\n",
       "<table border=\"1\" class=\"dataframe\">\n",
       "  <thead>\n",
       "    <tr style=\"text-align: right;\">\n",
       "      <th></th>\n",
       "      <th>Development</th>\n",
       "      <th>Indicator for USA</th>\n",
       "    </tr>\n",
       "  </thead>\n",
       "  <tbody>\n",
       "    <tr>\n",
       "      <th>0</th>\n",
       "      <td>Distribution of net ODA</td>\n",
       "      <td>11 808.8 Least developed countries Million US ...</td>\n",
       "    </tr>\n",
       "    <tr>\n",
       "      <th>1</th>\n",
       "      <td>Grants by private agencies and NGOs</td>\n",
       "      <td>4 953.0 Total Million US dollars 2021  Million...</td>\n",
       "    </tr>\n",
       "    <tr>\n",
       "      <th>2</th>\n",
       "      <td>Net ODA</td>\n",
       "      <td>0.2 ODA grant equivalent % of gross national i...</td>\n",
       "    </tr>\n",
       "    <tr>\n",
       "      <th>3</th>\n",
       "      <td>Private flows</td>\n",
       "      <td>159 212.2 Total Million US dollars 2021  Milli...</td>\n",
       "    </tr>\n",
       "    <tr>\n",
       "      <th>4</th>\n",
       "      <td>Total official and private flows</td>\n",
       "      <td>229 521.9 Total Million US dollars 2021  Milli...</td>\n",
       "    </tr>\n",
       "  </tbody>\n",
       "</table>\n",
       "</div>"
      ],
      "text/plain": [
       "                           Development  \\\n",
       "0              Distribution of net ODA   \n",
       "1  Grants by private agencies and NGOs   \n",
       "2                              Net ODA   \n",
       "3                        Private flows   \n",
       "4     Total official and private flows   \n",
       "\n",
       "                                   Indicator for USA  \n",
       "0  11 808.8 Least developed countries Million US ...  \n",
       "1  4 953.0 Total Million US dollars 2021  Million...  \n",
       "2  0.2 ODA grant equivalent % of gross national i...  \n",
       "3  159 212.2 Total Million US dollars 2021  Milli...  \n",
       "4  229 521.9 Total Million US dollars 2021  Milli...  "
      ]
     },
     "execution_count": 77,
     "metadata": {},
     "output_type": "execute_result"
    }
   ],
   "source": [
    "# newtable[\"Revenue\"] = newtable['Revenue'].str.replace(',|\\$','', regex = True)\n",
    "newtable[\"Development\"] = newtable[\"Development\"].str.replace(r'Indicator', '', regex = True)\n",
    "newtable[\"Indicator for USA\"] = newtable[\"Indicator for USA\"].str.replace(r'United States', '', regex = True)\n",
    "newtable"
   ]
  },
  {
   "cell_type": "code",
   "execution_count": 87,
   "id": "6778f75d-d57c-40c2-a5da-457e55a2c207",
   "metadata": {},
   "outputs": [],
   "source": [
    "def data_pipeline(raw_table, country = str):\n",
    "    title1 = raw_table.columns.values.tolist()[0]\n",
    "    title2 = \"Indicator for {0}\".format(country)\n",
    "    newtable = raw_table.drop(raw_table.columns[[1,3,4]], axis=1)\n",
    "    newtable.rename(columns = { newtable.columns[1]: \"{0}\".format(title2) }, inplace = True)\n",
    "    \n",
    "    newtable[title1] = newtable[title1].str.replace(r'Indicator', '', regex = True)\n",
    "    newtable[title2] = newtable[title2].str.replace(r'United States', '', regex = True)\n",
    "    newtable[title2] = newtable[title2].str.replace(r'Spain', '', regex = True)\n",
    "    \n",
    "    return newtable"
   ]
  },
  {
   "cell_type": "code",
   "execution_count": 99,
   "id": "24379664-6f81-42ec-938a-fa124a7585ef",
   "metadata": {},
   "outputs": [
    {
     "data": {
      "text/html": [
       "<div>\n",
       "<style scoped>\n",
       "    .dataframe tbody tr th:only-of-type {\n",
       "        vertical-align: middle;\n",
       "    }\n",
       "\n",
       "    .dataframe tbody tr th {\n",
       "        vertical-align: top;\n",
       "    }\n",
       "\n",
       "    .dataframe thead th {\n",
       "        text-align: right;\n",
       "    }\n",
       "</style>\n",
       "<table border=\"1\" class=\"dataframe\">\n",
       "  <thead>\n",
       "    <tr style=\"text-align: right;\">\n",
       "      <th></th>\n",
       "      <th>Innovation and Technology</th>\n",
       "      <th>Indicator for Spain</th>\n",
       "    </tr>\n",
       "  </thead>\n",
       "  <tbody>\n",
       "    <tr>\n",
       "      <th>0</th>\n",
       "      <td>Gross domestic spending on R&amp;D</td>\n",
       "      <td>1.4 Total % of GDP 2021  % of GDP</td>\n",
       "    </tr>\n",
       "    <tr>\n",
       "      <th>1</th>\n",
       "      <td>ICT value added</td>\n",
       "      <td>4.6 Total % of value added 2011  % of value added</td>\n",
       "    </tr>\n",
       "    <tr>\n",
       "      <th>2</th>\n",
       "      <td>Internet access</td>\n",
       "      <td>96.1 Total % of all households 2022  % of all ...</td>\n",
       "    </tr>\n",
       "    <tr>\n",
       "      <th>3</th>\n",
       "      <td>Mobile broadband subscriptions</td>\n",
       "      <td>109.9 Total Per 100 inhabitants Q2-2022  Per 1...</td>\n",
       "    </tr>\n",
       "    <tr>\n",
       "      <th>4</th>\n",
       "      <td>Triadic patent families</td>\n",
       "      <td>321.9 Total Number 2020  Number</td>\n",
       "    </tr>\n",
       "  </tbody>\n",
       "</table>\n",
       "</div>"
      ],
      "text/plain": [
       "        Innovation and Technology  \\\n",
       "0  Gross domestic spending on R&D   \n",
       "1                 ICT value added   \n",
       "2                 Internet access   \n",
       "3  Mobile broadband subscriptions   \n",
       "4         Triadic patent families   \n",
       "\n",
       "                                 Indicator for Spain  \n",
       "0                  1.4 Total % of GDP 2021  % of GDP  \n",
       "1  4.6 Total % of value added 2011  % of value added  \n",
       "2  96.1 Total % of all households 2022  % of all ...  \n",
       "3  109.9 Total Per 100 inhabitants Q2-2022  Per 1...  \n",
       "4                    321.9 Total Number 2020  Number  "
      ]
     },
     "execution_count": 99,
     "metadata": {},
     "output_type": "execute_result"
    }
   ],
   "source": [
    "# country = \"USA\"\n",
    "# raw_table = read_html_pandas_data_usa[9]\n",
    "\n",
    "# country = \"Spain\"\n",
    "# raw_table = read_html_pandas_data_spain[9]\n",
    "\n",
    "# table = data_pipeline(raw_table, country)\n",
    "# table"
   ]
  },
  {
   "cell_type": "code",
   "execution_count": 127,
   "id": "aa24582b-e59e-4e96-95d3-e00df9b3804c",
   "metadata": {},
   "outputs": [],
   "source": [
    "def table_unificator(table1, table2):\n",
    "\n",
    "    new_table = table1.drop(table1.columns[[0]], axis=1)\n",
    "    table2 = table2.join(new_table)\n",
    "\n",
    "    return table2\n",
    "\n",
    "def get_nth_table(n = int):\n",
    "    table_x = data_pipeline(read_html_pandas_data_usa[n], \"USA\")\n",
    "    table_y = data_pipeline(read_html_pandas_data_spain[n], 'Spain')\n",
    "\n",
    "    table_z = table_unificator(table_x, table_y)\n",
    "    \n",
    "    return table_z\n"
   ]
  },
  {
   "cell_type": "code",
   "execution_count": 126,
   "id": "a9d3aad3-79e3-4757-aaa3-d75fe076a69b",
   "metadata": {},
   "outputs": [
    {
     "data": {
      "text/html": [
       "<div>\n",
       "<style scoped>\n",
       "    .dataframe tbody tr th:only-of-type {\n",
       "        vertical-align: middle;\n",
       "    }\n",
       "\n",
       "    .dataframe tbody tr th {\n",
       "        vertical-align: top;\n",
       "    }\n",
       "\n",
       "    .dataframe thead th {\n",
       "        text-align: right;\n",
       "    }\n",
       "</style>\n",
       "<table border=\"1\" class=\"dataframe\">\n",
       "  <thead>\n",
       "    <tr style=\"text-align: right;\">\n",
       "      <th></th>\n",
       "      <th>Government</th>\n",
       "      <th>Indicator for Spain</th>\n",
       "      <th>Indicator for USA</th>\n",
       "    </tr>\n",
       "  </thead>\n",
       "  <tbody>\n",
       "    <tr>\n",
       "      <th>0</th>\n",
       "      <td>General government spending</td>\n",
       "      <td>50.6 Total % of GDP 2021  % of GDP</td>\n",
       "      <td>44.9 Total % of GDP 2021  % of GDP</td>\n",
       "    </tr>\n",
       "    <tr>\n",
       "      <th>1</th>\n",
       "      <td>Government reserves</td>\n",
       "      <td>27 576.4 Total SDR millions Q4-2014  SDR millions</td>\n",
       "      <td>91 322.5 Total SDR millions Q4-2014  SDR millions</td>\n",
       "    </tr>\n",
       "    <tr>\n",
       "      <th>2</th>\n",
       "      <td>Tax on corporate profits</td>\n",
       "      <td>2.7 Total % of GDP 2021  % of GDP</td>\n",
       "      <td>1.6 Total % of GDP 2021  % of GDP</td>\n",
       "    </tr>\n",
       "    <tr>\n",
       "      <th>3</th>\n",
       "      <td>Tax revenue</td>\n",
       "      <td>38.4 Total % of GDP 2021  % of GDP</td>\n",
       "      <td>26.6 Total % of GDP 2021  % of GDP</td>\n",
       "    </tr>\n",
       "    <tr>\n",
       "      <th>4</th>\n",
       "      <td>Tax wedge</td>\n",
       "      <td>39.3 Total % of labour cost 2021  % of labour ...</td>\n",
       "      <td>28.4 Total % of labour cost 2021  % of labour ...</td>\n",
       "    </tr>\n",
       "  </tbody>\n",
       "</table>\n",
       "</div>"
      ],
      "text/plain": [
       "                    Government  \\\n",
       "0  General government spending   \n",
       "1          Government reserves   \n",
       "2     Tax on corporate profits   \n",
       "3                  Tax revenue   \n",
       "4                    Tax wedge   \n",
       "\n",
       "                                 Indicator for Spain  \\\n",
       "0                 50.6 Total % of GDP 2021  % of GDP   \n",
       "1  27 576.4 Total SDR millions Q4-2014  SDR millions   \n",
       "2                  2.7 Total % of GDP 2021  % of GDP   \n",
       "3                 38.4 Total % of GDP 2021  % of GDP   \n",
       "4  39.3 Total % of labour cost 2021  % of labour ...   \n",
       "\n",
       "                                   Indicator for USA  \n",
       "0                 44.9 Total % of GDP 2021  % of GDP  \n",
       "1  91 322.5 Total SDR millions Q4-2014  SDR millions  \n",
       "2                  1.6 Total % of GDP 2021  % of GDP  \n",
       "3                 26.6 Total % of GDP 2021  % of GDP  \n",
       "4  28.4 Total % of labour cost 2021  % of labour ...  "
      ]
     },
     "execution_count": 126,
     "metadata": {},
     "output_type": "execute_result"
    }
   ],
   "source": [
    "table_x = data_pipeline(read_html_pandas_data_usa[7], \"USA\")\n",
    "table_y = data_pipeline(read_html_pandas_data_spain[7], 'Spain')\n",
    "\n",
    "table_z = table_unificator(table_x, table_y)\n",
    "table_z"
   ]
  },
  {
   "cell_type": "code",
   "execution_count": 145,
   "id": "61288264-4037-4bc8-897b-3f61cb65d0e2",
   "metadata": {},
   "outputs": [
    {
     "data": {
      "text/html": [
       "<div>\n",
       "<style scoped>\n",
       "    .dataframe tbody tr th:only-of-type {\n",
       "        vertical-align: middle;\n",
       "    }\n",
       "\n",
       "    .dataframe tbody tr th {\n",
       "        vertical-align: top;\n",
       "    }\n",
       "\n",
       "    .dataframe thead th {\n",
       "        text-align: right;\n",
       "    }\n",
       "</style>\n",
       "<table border=\"1\" class=\"dataframe\">\n",
       "  <thead>\n",
       "    <tr style=\"text-align: right;\">\n",
       "      <th></th>\n",
       "      <th>Education</th>\n",
       "      <th>Indicator for Spain</th>\n",
       "      <th>Indicator for USA</th>\n",
       "    </tr>\n",
       "  </thead>\n",
       "  <tbody>\n",
       "    <tr>\n",
       "      <th>0</th>\n",
       "      <td>Education spending</td>\n",
       "      <td>14 237 Tertiary US dollars/student 2019  US do...</td>\n",
       "      <td>35 347 Tertiary US dollars/student 2019  US do...</td>\n",
       "    </tr>\n",
       "    <tr>\n",
       "      <th>1</th>\n",
       "      <td>Mathematics performance (PISA)</td>\n",
       "      <td>485 Boys Mean score 2018  Mean score</td>\n",
       "      <td>482 Boys Mean score 2018  Mean score</td>\n",
       "    </tr>\n",
       "    <tr>\n",
       "      <th>2</th>\n",
       "      <td>Reading performance (PISA)</td>\n",
       "      <td>485 Boys Mean score 2015  Mean score</td>\n",
       "      <td>494 Boys Mean score 2018  Mean score</td>\n",
       "    </tr>\n",
       "    <tr>\n",
       "      <th>3</th>\n",
       "      <td>Science performance (PISA)</td>\n",
       "      <td>484 Boys Mean score 2018  Mean score</td>\n",
       "      <td>503 Boys Mean score 2018  Mean score</td>\n",
       "    </tr>\n",
       "    <tr>\n",
       "      <th>4</th>\n",
       "      <td>Youth not in employment, education or training...</td>\n",
       "      <td>8.5 15-19 year-old men % in same age group 202...</td>\n",
       "      <td>9.3 15-19 year-old men % in same age group 202...</td>\n",
       "    </tr>\n",
       "  </tbody>\n",
       "</table>\n",
       "</div>"
      ],
      "text/plain": [
       "                                           Education  \\\n",
       "0                                 Education spending   \n",
       "1                     Mathematics performance (PISA)   \n",
       "2                         Reading performance (PISA)   \n",
       "3                         Science performance (PISA)   \n",
       "4  Youth not in employment, education or training...   \n",
       "\n",
       "                                 Indicator for Spain  \\\n",
       "0  14 237 Tertiary US dollars/student 2019  US do...   \n",
       "1               485 Boys Mean score 2018  Mean score   \n",
       "2               485 Boys Mean score 2015  Mean score   \n",
       "3               484 Boys Mean score 2018  Mean score   \n",
       "4  8.5 15-19 year-old men % in same age group 202...   \n",
       "\n",
       "                                   Indicator for USA  \n",
       "0  35 347 Tertiary US dollars/student 2019  US do...  \n",
       "1               482 Boys Mean score 2018  Mean score  \n",
       "2               494 Boys Mean score 2018  Mean score  \n",
       "3               503 Boys Mean score 2018  Mean score  \n",
       "4  9.3 15-19 year-old men % in same age group 202...  "
      ]
     },
     "execution_count": 145,
     "metadata": {},
     "output_type": "execute_result"
    }
   ],
   "source": [
    "table_7 = get_nth_table(n=3)\n",
    "table_7"
   ]
  },
  {
   "cell_type": "markdown",
   "id": "3b7a4b0d-480b-483b-94df-91bb39882049",
   "metadata": {},
   "source": [
    "###  In case one needs manipulation of strings with regular expression"
   ]
  },
  {
   "cell_type": "code",
   "execution_count": 179,
   "id": "5a775ef0-7ac5-44ca-a71b-5277176f90c0",
   "metadata": {},
   "outputs": [],
   "source": [
    "### string.split() ###"
   ]
  },
  {
   "cell_type": "code",
   "execution_count": 204,
   "id": "47629297-4e3b-4bf4-93d5-e335f6252e61",
   "metadata": {},
   "outputs": [
    {
     "data": {
      "text/plain": [
       "'14 237 Tertiary US dollars/student 2019  US dollars/student'"
      ]
     },
     "execution_count": 204,
     "metadata": {},
     "output_type": "execute_result"
    }
   ],
   "source": [
    "string = table_7.iloc[0,1]\n",
    "string"
   ]
  },
  {
   "cell_type": "code",
   "execution_count": 181,
   "id": "1679093f-c0da-4e68-8c6e-ea23edb944b0",
   "metadata": {},
   "outputs": [],
   "source": [
    "# expression = '.+?(?=[a-zA-Z])'\n",
    "# all_strings = re.search(expression, string)\n",
    "# the_number = all_strings[0]\n",
    "# the_number"
   ]
  },
  {
   "cell_type": "code",
   "execution_count": null,
   "id": "e9bc3be1-aa95-4e32-90bf-b6e35d79b898",
   "metadata": {},
   "outputs": [],
   "source": []
  }
 ],
 "metadata": {
  "kernelspec": {
   "display_name": "Python 3 (ipykernel)",
   "language": "python",
   "name": "python3"
  },
  "language_info": {
   "codemirror_mode": {
    "name": "ipython",
    "version": 3
   },
   "file_extension": ".py",
   "mimetype": "text/x-python",
   "name": "python",
   "nbconvert_exporter": "python",
   "pygments_lexer": "ipython3",
   "version": "3.10.8"
  }
 },
 "nbformat": 4,
 "nbformat_minor": 5
}
